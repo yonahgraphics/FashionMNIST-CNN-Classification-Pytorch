{
 "cells": [
  {
   "cell_type": "markdown",
   "metadata": {
    "id": "BXrhgTjFG0uz"
   },
   "source": [
    "## WE WILL WORK WITH THE FASHION -MNIST DATASET & WILL FOLLOW THE FOLLOWING PROCESS;\n",
    "#### 1. PREPARE DATA\n",
    "#### 2. BUILD MODEL\n",
    "#### 3. TRAIN MODEL\n",
    "#### 4. ANALYZE THE MODEL'S RESULTS\n",
    "\n",
    "<br>\n",
    "<br>\n",
    "<br>\n",
    "\n"
   ]
  },
  {
   "cell_type": "markdown",
   "metadata": {
    "id": "qBQyzzreFn74"
   },
   "source": [
    "## **1. PREPARE DATA**\n",
    "#### We will use the ETL process to prepare data\n",
    "#### EXTRACT, TRANSFORM, LOAD - ETL process\n",
    "#### Extract the data from the source, transform it into its desirable form, load the data into a suitable structure for querrying and analysis "
   ]
  },
  {
   "cell_type": "code",
   "execution_count": 29,
   "metadata": {
    "id": "AkR6P_dyAk-q"
   },
   "outputs": [],
   "source": [
    "import torch   ## Top-level pytorch package in the tensor library\n",
    "import torchvision  ## Package that provides access to popular datasets, model architectures and image trasformations for computer vision\n",
    "import torchvision.transforms as transforms ## An interface that gives us acess to common tranformations for our image processing\n",
    "import numpy as np\n",
    "import matplotlib.pyplot as plt\n",
    "import torch.nn as nn\n",
    "import torch.nn.functional as F\n",
    "import torch.optim as optim\n",
    "\n",
    "torch.set_grad_enabled(True) #Sets one Pytorchs gradient calculation feature for training\n",
    "torch.set_printoptions(linewidth=120) ## Sets the linewidth for pytorch output that is printed to the console"
   ]
  },
  {
   "cell_type": "markdown",
   "metadata": {
    "id": "_BQfpkh1KQTU"
   },
   "source": [
    "#### EXTRACT (Get data from its source)"
   ]
  },
  {
   "cell_type": "code",
   "execution_count": 30,
   "metadata": {
    "colab": {
     "base_uri": "https://localhost:8080/",
     "height": 534,
     "referenced_widgets": [
      "bbe76057e82641c5a1ed6f7d904d4751",
      "b665362b662c48bf8167a02a888f5927",
      "988c2ca3586c4f149cf8387c71d8aa2b",
      "8565bdaceafe4951ab39751e7d0a2793",
      "58eeb471f15445c8b3a274b9c3aaaf2f",
      "68c6acfdc844472c9823350064eee16d",
      "583b6c6f7340488e8c85c0eb1fd89d23",
      "ddfdedafa206448a9f4023ee8715fdec",
      "744cd03be9d7438cbc173479aaa6f08f",
      "d687d8fac8ca4d82922f14a81cefad27",
      "74be6a0d694541e983973f44e486610b",
      "88832844280c4fd2a1953651b33069f2",
      "c636de35adb74d0f9325db09301551df",
      "0c778670e477433f8b2af7cfde745da8",
      "4bd0e72cf03d4ef99ff83fc3840c6d80",
      "2416d93c5f0c4437b1218c27aaf8cf17",
      "7ae21dccb1b74efaa75fc0c7f4139972",
      "a42b4a914da742109430f68d14983df5",
      "c1a39a61d3a94bfc9aacba6e54ae41c2",
      "70fda96397bf403197f1d14851f5d956",
      "de47dcbe7cd14f53beb10c068683ee19",
      "b48293faed504d58a1c9a38d6fd8bfef",
      "d3c18772dc724e8ebf714ff686af3155",
      "0ac14e06fc2f4793ad44354e6c709499",
      "21bb443e7ff6459bad933287f03e98d2",
      "3d148d4d57ff4298920daf031b3fa78d",
      "1f42157c5fb44849a78d12bff18b9f7a",
      "6b76d137b75e4344b0b4d49f27fca9b9",
      "f51cee8f47c144d68f4b35240a3339d9",
      "1e81809797e64e5b811e3961e2846655",
      "3f01e2e92edf4ed2a427e6a985e3e921",
      "97302b7800c44da5a26eb685666f4b1c"
     ]
    },
    "id": "6joXzUH0PlMu",
    "outputId": "7f18a29b-fec1-4b96-8741-a1895ce24d1b"
   },
   "outputs": [],
   "source": [
    "## Let's create our fashionMNIST dataset instance\n",
    "\n",
    "    ##==================================================================================================\n",
    "    ##EXTRACT \n",
    "    ##==================================================================================================\n",
    "train_set = torchvision.datasets.FashionMNIST(\n",
    "    root =  \"./data/FashinMNIST\", ## This tells it where to load the data from if its there\n",
    "    train = True, ## This tells we want the training set\n",
    "    download = True, ## This tells the class to download the data if its not present in the location we specified.\n",
    "    ##==================================================================================================\n",
    "    ##TRANSFORM   (Convert the data into tensor form)\n",
    "    ##==================================================================================================\n",
    "    transform = transforms.Compose([transforms.ToTensor()])) ## Here we pass a composition of transformations that should be performed on the datasets\n",
    "                                                             ## We use ToTensor() transformation since we want our images to be transformed to tensors"
   ]
  },
  {
   "cell_type": "markdown",
   "metadata": {
    "id": "B86VligfKRi3"
   },
   "source": [
    "#### LOAD (Put the data into an object to make it easily accessible)"
   ]
  },
  {
   "cell_type": "code",
   "execution_count": 31,
   "metadata": {
    "id": "mQD53xm0KN5w"
   },
   "outputs": [],
   "source": [
    " ##==================================================================================================\n",
    " ##LOAD \n",
    " ##==================================================================================================\n",
    "train_loader = torch.utils.data.DataLoader(train_set) ##This wraps the dataset up inside the dataloader object instance\n",
    "                                                      ## DataLoader gives us querrying capabilities\n",
    "                                                      ## Now we can leverage the laoder for tasks that would be otherwise very complicated to implement by hand\n",
    "                                                      ##E.g batchsize, thread management and shuffle capabilities"
   ]
  },
  {
   "cell_type": "markdown",
   "metadata": {
    "id": "9mA_yYN9nKzM"
   },
   "source": [
    "### PyTorch Datasets and DataLoaders - Training Set Exploration for Deep Learning"
   ]
  },
  {
   "cell_type": "code",
   "execution_count": 32,
   "metadata": {
    "id": "Uqzkc2gIoC-X"
   },
   "outputs": [],
   "source": [
    "train_loader = torch.utils.data.DataLoader(train_set, batch_size = 10) ##Here we specify the batch_size so we can look at many images\n",
    "                                                                       ## If we don't, we only get one image as it is the default\n",
    "                                                                       ## So in the ETL process above, we would only get one image                                            "
   ]
  },
  {
   "cell_type": "code",
   "execution_count": 33,
   "metadata": {
    "colab": {
     "base_uri": "https://localhost:8080/"
    },
    "id": "oPvxzhb_pZmc",
    "outputId": "297d1013-020c-43d7-9547-bd1cdb47d918"
   },
   "outputs": [
    {
     "data": {
      "text/plain": [
       "60000"
      ]
     },
     "execution_count": 33,
     "metadata": {},
     "output_type": "execute_result"
    }
   ],
   "source": [
    "len(train_set) ## This returns the number of images in the training set, which we already know is 60,000 from Fashion-MNST"
   ]
  },
  {
   "cell_type": "code",
   "execution_count": 34,
   "metadata": {
    "colab": {
     "base_uri": "https://localhost:8080/"
    },
    "id": "yx_OXIOLpe2Q",
    "outputId": "91a5d954-38c5-4ac4-b0a0-22e919924b4b"
   },
   "outputs": [
    {
     "data": {
      "text/plain": [
       "tensor([9, 0, 0,  ..., 3, 0, 5])"
      ]
     },
     "execution_count": 34,
     "metadata": {},
     "output_type": "execute_result"
    }
   ],
   "source": [
    "train_set.targets ##This gives us the target tensor of the dataset\n",
    "                  ##This would have been train_set.train_labels but was changed, now we use targets\n",
    "                  ##Encodes the actual class names or labels, 9 = ankleboot, 0 = T-shirt etc."
   ]
  },
  {
   "cell_type": "code",
   "execution_count": 35,
   "metadata": {
    "colab": {
     "base_uri": "https://localhost:8080/"
    },
    "id": "nqZDpcos5sKU",
    "outputId": "8a4e2456-2514-4d68-b4a5-838297338625"
   },
   "outputs": [
    {
     "data": {
      "text/plain": [
       "['T-shirt/top',\n",
       " 'Trouser',\n",
       " 'Pullover',\n",
       " 'Dress',\n",
       " 'Coat',\n",
       " 'Sandal',\n",
       " 'Shirt',\n",
       " 'Sneaker',\n",
       " 'Bag',\n",
       " 'Ankle boot']"
      ]
     },
     "execution_count": 35,
     "metadata": {},
     "output_type": "execute_result"
    }
   ],
   "source": [
    "train_set.classes ## We can check all the classes in our training set"
   ]
  },
  {
   "cell_type": "markdown",
   "metadata": {
    "id": "IdpAwnrR8B_o"
   },
   "source": [
    "### Check if our data is balanced"
   ]
  },
  {
   "cell_type": "code",
   "execution_count": 36,
   "metadata": {
    "colab": {
     "base_uri": "https://localhost:8080/"
    },
    "id": "EJ5hIoHNpofi",
    "outputId": "8c727a58-9ce9-4d5e-d28c-9fc3f5502ad1"
   },
   "outputs": [
    {
     "data": {
      "text/plain": [
       "tensor([6000, 6000, 6000, 6000, 6000, 6000, 6000, 6000, 6000, 6000])"
      ]
     },
     "execution_count": 36,
     "metadata": {},
     "output_type": "execute_result"
    }
   ],
   "source": [
    "train_set.targets.bincount()##Here we create bins and count the frequency of occurances within each bin\n",
    "                            ##Calling this on the targets tensor gives the freq distrib of the values in the tensor\n",
    "                            ## The Fashion-MNST dataset is uniform with respect to the number of samples from each class (balanced)\n",
    "                            ## If the classes had varrying number of samples, the dataset would be unbalanced"
   ]
  },
  {
   "cell_type": "markdown",
   "metadata": {
    "id": "3UvobCSB5Itt"
   },
   "source": [
    "### We can make the train_set iterable and iterate over it"
   ]
  },
  {
   "cell_type": "code",
   "execution_count": 37,
   "metadata": {
    "colab": {
     "base_uri": "https://localhost:8080/"
    },
    "id": "xqJupb-Wp2oD",
    "outputId": "c146b4fc-2d56-4ae4-a1cd-891640265444"
   },
   "outputs": [
    {
     "data": {
      "text/plain": [
       "2"
      ]
     },
     "execution_count": 37,
     "metadata": {},
     "output_type": "execute_result"
    }
   ],
   "source": [
    "sample = next(iter(train_set))## This returns a single sample\n",
    "len(sample) ##The sample contains two items (image, label) each as a tensor"
   ]
  },
  {
   "cell_type": "code",
   "execution_count": 38,
   "metadata": {
    "colab": {
     "base_uri": "https://localhost:8080/"
    },
    "id": "Mc0PBUnO0Vg8",
    "outputId": "8b9c30b1-db96-4624-a9ba-30e5423ab6fa"
   },
   "outputs": [
    {
     "data": {
      "text/plain": [
       "tuple"
      ]
     },
     "execution_count": 38,
     "metadata": {},
     "output_type": "execute_result"
    }
   ],
   "source": [
    "type(sample) ## We can see that each element in the train_set is a tuple"
   ]
  },
  {
   "cell_type": "code",
   "execution_count": 39,
   "metadata": {
    "id": "wvcOWAjz0hb_"
   },
   "outputs": [],
   "source": [
    "# image = sample[0]\n",
    "# label = sample[1]\n",
    "image, label = sample ## We can use squence unpacking to assign the image and the label"
   ]
  },
  {
   "cell_type": "markdown",
   "metadata": {
    "id": "STTyYoEE3Buw"
   },
   "source": [
    "###### Checking the shapes of the image and label and then plotting the image"
   ]
  },
  {
   "cell_type": "code",
   "execution_count": 40,
   "metadata": {
    "colab": {
     "base_uri": "https://localhost:8080/"
    },
    "id": "bm-u-bEQ0q15",
    "outputId": "7935b2d8-4aeb-4204-e6b0-d1722b1b854a"
   },
   "outputs": [
    {
     "data": {
      "text/plain": [
       "torch.Size([1, 28, 28])"
      ]
     },
     "execution_count": 40,
     "metadata": {},
     "output_type": "execute_result"
    }
   ],
   "source": [
    "image.shape ##This is a grayscale image with a height and width of 28"
   ]
  },
  {
   "cell_type": "code",
   "execution_count": 41,
   "metadata": {
    "colab": {
     "base_uri": "https://localhost:8080/"
    },
    "id": "kddlCv633OWf",
    "outputId": "6134fbc0-a3d9-4443-d2b6-f76cf9adc6c2"
   },
   "outputs": [
    {
     "data": {
      "text/plain": [
       "int"
      ]
     },
     "execution_count": 41,
     "metadata": {},
     "output_type": "execute_result"
    }
   ],
   "source": [
    "type(label)## The label is given to us as an int so it does not have a shape"
   ]
  },
  {
   "cell_type": "markdown",
   "metadata": {},
   "source": [
    "## Display the image"
   ]
  },
  {
   "cell_type": "code",
   "execution_count": 42,
   "metadata": {
    "colab": {
     "base_uri": "https://localhost:8080/",
     "height": 303
    },
    "id": "xsiLxk-83Peo",
    "outputId": "b72ba30c-f2cc-4640-eb7a-66f5a2641042"
   },
   "outputs": [
    {
     "data": {
      "text/plain": [
       "Text(0.5, 1.0, 'Label: 9')"
      ]
     },
     "execution_count": 42,
     "metadata": {},
     "output_type": "execute_result"
    },
    {
     "data": {
      "image/png": "[encoded data removed]",
      "text/plain": [
       "<Figure size 432x288 with 1 Axes>"
      ]
     },
     "metadata": {
      "needs_background": "light"
     },
     "output_type": "display_data"
    }
   ],
   "source": [
    "plt.imshow(image.squeeze(), cmap='gray') ##Here we squeeze off the color channel dimension and also specify the colormap to gray\n",
    "plt.title(\"Label: \" + str(label), fontsize =20)"
   ]
  },
  {
   "cell_type": "markdown",
   "metadata": {
    "id": "-jnWTh4z_Snp"
   },
   "source": [
    "## Working with batches and dataLoader"
   ]
  },
  {
   "cell_type": "code",
   "execution_count": 43,
   "metadata": {
    "colab": {
     "base_uri": "https://localhost:8080/"
    },
    "id": "MiHagjf4_cmD",
    "outputId": "2fcb2ebc-9fff-4a62-bbaa-9b0d3ed69d76"
   },
   "outputs": [
    {
     "data": {
      "text/plain": [
       "list"
      ]
     },
     "execution_count": 43,
     "metadata": {},
     "output_type": "execute_result"
    }
   ],
   "source": [
    "batch = next(iter(train_loader))##Iteraring over the batch\n",
    "type(batch)##Checking the type if the bacth"
   ]
  },
  {
   "cell_type": "code",
   "execution_count": 44,
   "metadata": {
    "colab": {
     "base_uri": "https://localhost:8080/"
    },
    "id": "gp08phfuVBhL",
    "outputId": "4a2f38cb-508d-4d84-aa46-1be337dce245"
   },
   "outputs": [
    {
     "data": {
      "text/plain": [
       "2"
      ]
     },
     "execution_count": 44,
     "metadata": {},
     "output_type": "execute_result"
    }
   ],
   "source": [
    "len(batch) ##Checking the batch"
   ]
  },
  {
   "cell_type": "code",
   "execution_count": 45,
   "metadata": {
    "id": "AOzttOMpVENo"
   },
   "outputs": [],
   "source": [
    "images, labels = batch ## upacking the images and labels into the variables"
   ]
  },
  {
   "cell_type": "code",
   "execution_count": 46,
   "metadata": {
    "colab": {
     "base_uri": "https://localhost:8080/"
    },
    "id": "jj6Ak7DtVIEN",
    "outputId": "0c8d731a-3466-497d-98a3-2b6e83e27122"
   },
   "outputs": [
    {
     "data": {
      "text/plain": [
       "torch.Size([10, 1, 28, 28])"
      ]
     },
     "execution_count": 46,
     "metadata": {},
     "output_type": "execute_result"
    }
   ],
   "source": [
    "images.shape #This shape is 10, 1, 28, 28 because there are 10 grayscale(1) images of height 28 and width 28 each"
   ]
  },
  {
   "cell_type": "code",
   "execution_count": 47,
   "metadata": {
    "colab": {
     "base_uri": "https://localhost:8080/"
    },
    "id": "mtX-zPvZVJey",
    "outputId": "be74a3e1-dcbe-4b10-d864-0c51e35f2a92"
   },
   "outputs": [
    {
     "data": {
      "text/plain": [
       "torch.Size([10])"
      ]
     },
     "execution_count": 47,
     "metadata": {},
     "output_type": "execute_result"
    }
   ],
   "source": [
    "labels.shape #This is a tensor containing labels to the ten images in the batch"
   ]
  },
  {
   "cell_type": "code",
   "execution_count": 48,
   "metadata": {
    "colab": {
     "base_uri": "https://localhost:8080/"
    },
    "id": "RjaO4CirpPhr",
    "outputId": "3f54f641-0f9d-4150-b4c0-006489a74af3"
   },
   "outputs": [
    {
     "data": {
      "text/plain": [
       "tensor([9, 0, 0, 3, 0, 2, 7, 2, 5, 5])"
      ]
     },
     "execution_count": 48,
     "metadata": {},
     "output_type": "execute_result"
    }
   ],
   "source": [
    "labels"
   ]
  },
  {
   "cell_type": "code",
   "execution_count": 49,
   "metadata": {
    "colab": {
     "base_uri": "https://localhost:8080/"
    },
    "id": "YnIlsfwxkVTk",
    "outputId": "3988d7c6-f3b6-405d-d227-c2a3a3c26234"
   },
   "outputs": [
    {
     "data": {
      "text/plain": [
       "['T-shirt/top',\n",
       " 'Trouser',\n",
       " 'Pullover',\n",
       " 'Dress',\n",
       " 'Coat',\n",
       " 'Sandal',\n",
       " 'Shirt',\n",
       " 'Sneaker',\n",
       " 'Bag',\n",
       " 'Ankle boot']"
      ]
     },
     "execution_count": 49,
     "metadata": {},
     "output_type": "execute_result"
    }
   ],
   "source": [
    "train_set.classes"
   ]
  },
  {
   "cell_type": "code",
   "execution_count": 50,
   "metadata": {
    "colab": {
     "base_uri": "https://localhost:8080/",
     "height": 297
    },
    "id": "y81UjL9aWHJz",
    "outputId": "d346caed-f66b-44ee-be02-65c8f8fb20c3"
   },
   "outputs": [
    {
     "data": {
      "text/plain": [
       "Text(0.5, 1.0, 'Labels:    [9, 0, 0, 3, 0, 2, 7, 2, 5, 5]')"
      ]
     },
     "execution_count": 50,
     "metadata": {},
     "output_type": "execute_result"
    },
    {
     "data": {
      "image/png": "[encoded data removed]",
      "text/plain": [
       "<Figure size 1080x1080 with 1 Axes>"
      ]
     },
     "metadata": {
      "needs_background": "light"
     },
     "output_type": "display_data"
    }
   ],
   "source": [
    "##Plotting all the images using the torchvision utility function\n",
    "\n",
    "grid = torchvision.utils.make_grid(images, nrows = 10)\n",
    "plt.figure(figsize=(15,15))\n",
    "plt.imshow(np.transpose(grid, (1,2,0)))\n",
    "plt.title(\"Labels:    \" + str(labels.tolist()), fontsize = 15)"
   ]
  },
  {
   "cell_type": "markdown",
   "metadata": {
    "id": "GwwZkCNKoMUJ"
   },
   "source": [
    "## BUILDING THE NUERAL NETWORK"
   ]
  },
  {
   "cell_type": "code",
   "execution_count": 51,
   "metadata": {
    "colab": {
     "base_uri": "https://localhost:8080/"
    },
    "id": "eCUFExqVF-Zp",
    "outputId": "72bfbe56-88eb-4b79-f5f8-f2b94efd8fee"
   },
   "outputs": [
    {
     "name": "stdout",
     "output_type": "stream",
     "text": [
      "Network(\n",
      "  (conv1): Conv2d(1, 6, kernel_size=(5, 5), stride=(1, 1))\n",
      "  (conv2): Conv2d(6, 12, kernel_size=(5, 5), stride=(1, 1))\n",
      "  (fc1): Linear(in_features=192, out_features=120, bias=True)\n",
      "  (fc2): Linear(in_features=120, out_features=60, bias=True)\n",
      "  (out): Linear(in_features=60, out_features=10, bias=True)\n",
      ")\n"
     ]
    }
   ],
   "source": [
    "import torch.nn  as nn \n",
    "import torch\n",
    "class Network(nn.Module):\n",
    "  def __init__(self):\n",
    "    super().__init__()\n",
    "    self.conv1   = nn.Conv2d(in_channels=1, out_channels=6, kernel_size=5)\n",
    "   \n",
    "    self.conv2  = nn.Conv2d(in_channels=6, out_channels=12, kernel_size=5)\n",
    "\n",
    "    self.fc1     = nn.Linear(in_features=12*4*4, out_features=120) #out_features/feature maps\n",
    "    self.fc2     = nn.Linear(in_features=120, out_features=60)\n",
    "    self.out     = nn.Linear(in_features=60, out_features=10) # out_features in the last layer is 10 because we have 10 classes\n",
    "\n",
    "  def forward(self, t):\n",
    " ##Implement the fwd method\n",
    "    return t\n",
    "\n",
    "my_network = Network()\n",
    "\n",
    "print(my_network)"
   ]
  },
  {
   "cell_type": "markdown",
   "metadata": {
    "id": "8l_CFIgvozsB"
   },
   "source": [
    "## FORWARD METHOD"
   ]
  },
  {
   "cell_type": "code",
   "execution_count": 52,
   "metadata": {
    "colab": {
     "base_uri": "https://localhost:8080/",
     "height": 120
    },
    "id": "6iRVZ-bQhdtC",
    "outputId": "4aa7dffe-6b08-4d18-c0cc-253470466f7e"
   },
   "outputs": [
    {
     "data": {
      "text/plain": [
       "\"'\\nAs we can see here, our input tensor is transformed as we move through the convolutional layers. \\nThe first convolutional layer has a convolutional operation, followed by a relu activation operation whose\\noutput is then passed to a max pooling operation with kernel_size=2 and stride=2.\\n\\nThe output tensor t of the first convolutional layer is then passed to the next convolutional layer,\\n which is identical except for the fact that we call self.conv2() instead of self.conv1().\\n\\nEach of these layers is comprised of a collection of weights (data) and a collection operations (code). \\nThe weights are encapsulated inside the nn.Conv2d() class instance. The relu() and the max_pool2d() calls are\\n just pure operations. Neither of these have weights, and this is why we call them directly from the nn.functional API.\\n\\n\\n Sometimes we may see pooling operations referred to as pooling layers. Sometimes we may even hear activation operations called activation layers.\\n\\nHowever, what makes a layer distinct from an operation is that layers have weights. Since pooling operations and activation functions do not have weights,\\n we will refer to them as operations and view them as being added to the collection of layer operations.\\n\""
      ]
     },
     "execution_count": 52,
     "metadata": {},
     "output_type": "execute_result"
    }
   ],
   "source": [
    "class Network(nn.Module):\n",
    "    def __init__(self):\n",
    "        super().__init__()\n",
    "        self.conv1 = nn.Conv2d(in_channels=1, out_channels=6, kernel_size=5)\n",
    "        self.conv2 = nn.Conv2d(in_channels=6, out_channels=12, kernel_size=5)\n",
    "\n",
    "        self.fc1 = nn.Linear(in_features=12 * 4 * 4, out_features=120)\n",
    "        self.fc2 = nn.Linear(in_features=120, out_features=60)\n",
    "        self.out = nn.Linear(in_features=60, out_features=10)\n",
    "\n",
    "    def forward(self, t):\n",
    "      # (1) input layer\n",
    "      t = t \n",
    "\n",
    "      # (2) hidden conv layer\n",
    "      t = self.conv1(t)\n",
    "      t = F.relu(t)\n",
    "      t = F.max_pool2d(t, kernel_size=2, stride=2)\n",
    "\n",
    "      # (3) hidden conv layer\n",
    "      t = self.conv2(t)\n",
    "      t = F.relu(t)\n",
    "      t = F.max_pool2d(t, kernel_size=2, stride=2)\n",
    "\n",
    "      # (4) hidden linear layer\n",
    "      t = t.reshape(-1, 12 * 4 * 4)\n",
    "      t = self.fc1(t)\n",
    "      t = F.relu(t)\n",
    "\n",
    "      # (5) hidden linear layer\n",
    "      t = self.fc2(t)\n",
    "      t = F.relu(t)\n",
    "\n",
    "      # (6) output layer\n",
    "      t = self.out(t)\n",
    "      #t = F.softmax(t, dim=1)\n",
    "      '''\n",
    "      Inside the network we usually use relu() as our non-linear activation function,\n",
    "      but for the output layer, whenever we have a single category that we are trying to \n",
    "      predict, we use softmax(). The softmax function returns a positive probability for\n",
    "      each of the prediction classes, and the probabilities sum to 1.\n",
    "      However, in our case, we won't use softmax() because the loss function that we'll use,\n",
    "      F.cross_entropy(), implicitly performs the softmax() operation on its input, so we'll \n",
    "      just return the result of the last linear transformation\n",
    "      '''\n",
    "      return t\n",
    "\n",
    "''''\n",
    "As we can see here, our input tensor is transformed as we move through the convolutional layers. \n",
    "The first convolutional layer has a convolutional operation, followed by a relu activation operation whose\n",
    "output is then passed to a max pooling operation with kernel_size=2 and stride=2.\n",
    "\n",
    "The output tensor t of the first convolutional layer is then passed to the next convolutional layer,\n",
    " which is identical except for the fact that we call self.conv2() instead of self.conv1().\n",
    "\n",
    "Each of these layers is comprised of a collection of weights (data) and a collection operations (code). \n",
    "The weights are encapsulated inside the nn.Conv2d() class instance. The relu() and the max_pool2d() calls are\n",
    " just pure operations. Neither of these have weights, and this is why we call them directly from the nn.functional API.\n",
    "\n",
    "\n",
    " Sometimes we may see pooling operations referred to as pooling layers. Sometimes we may even hear activation operations called activation layers.\n",
    "\n",
    "However, what makes a layer distinct from an operation is that layers have weights. Since pooling operations and activation functions do not have weights,\n",
    " we will refer to them as operations and view them as being added to the collection of layer operations.\n",
    "'''\n",
    "\n"
   ]
  },
  {
   "cell_type": "markdown",
   "metadata": {
    "id": "41EIEGzGB4wL"
   },
   "source": [
    "# TRAINING A CNN, CALCULATE THE LOSS, GRADIENT AND UPDATE THE WEIGHTS"
   ]
  },
  {
   "cell_type": "markdown",
   "metadata": {
    "id": "5mPeAqO1E3Bi"
   },
   "source": [
    "## Training: What We Do After The Forward Pass <br>\n",
    "During training, we do a forward pass, but then what? We'll suppose we get a batch and pass it forward through the network. Once the output is obtained, we compare the predicted output to the actual labels, and once we know how close the predicted values are from the actual labels, we tweak the weights inside the network in such a way that the values the network predicts move closer to the true values (labels).\n",
    "\n",
    "All of this is for a single batch, and we repeat this process for every batch until we have covered every sample in our training set. After we've completed this process for all of the batches and passed over every sample in our training set, we say that an epoch is complete. We use the word epoch to represent a time period in which our entire training set has been covered."
   ]
  },
  {
   "cell_type": "code",
   "execution_count": 53,
   "metadata": {
    "id": "M1M-JU0Fhi6m"
   },
   "outputs": [],
   "source": [
    "# During the entire training process, we do as many epochs as necessary to\n",
    "#  reach our desired level of accuracy. With this, we have the following steps:\n",
    "    # Get batch from the training set.\n",
    "    # Pass batch to network.\n",
    "    # Calculate the loss (difference between the predicted values and the true values).\n",
    "    # Calculate the gradient of the loss function w.r.t the network's weights.\n",
    "    # Update the weights using the gradients to reduce the loss.\n",
    "    # Repeat steps 1-5 until one epoch is completed.\n",
    "    # Repeat steps 1-6 for as many epochs required to reach the minimum loss.\n"
   ]
  },
  {
   "cell_type": "code",
   "execution_count": 54,
   "metadata": {
    "id": "budpF7tCKI8U"
   },
   "outputs": [],
   "source": [
    "## This method will help us calculate the number of correct predictions\n",
    "def get_num_correct_pred(preds,labels):\n",
    "  predicted_labels = preds.argmax(dim = 1)\n",
    "  comparision = predicted_labels.eq(labels)\n",
    "  num_correct_pred = comparision.sum().item()\n",
    "  return num_correct_pred"
   ]
  },
  {
   "cell_type": "markdown",
   "metadata": {
    "id": "K_KaaIKYVAFN"
   },
   "source": [
    "## COMPLETE TRAINING LOOP"
   ]
  },
  {
   "cell_type": "markdown",
   "metadata": {
    "id": "H-Hnwr9y-ZYq"
   },
   "source": [
    "## Single epoch"
   ]
  },
  {
   "cell_type": "code",
   "execution_count": 55,
   "metadata": {
    "colab": {
     "base_uri": "https://localhost:8080/"
    },
    "id": "_WKEMaRsuT6j",
    "outputId": "f01189ff-2cd1-45c1-c009-a0f3f34e5fb6"
   },
   "outputs": [
    {
     "name": "stdout",
     "output_type": "stream",
     "text": [
      "Epoch: 0 Total correct: 6124 Total loss: 318.85933750867844\n"
     ]
    }
   ],
   "source": [
    "#Using all batches\n",
    "network = Network()\n",
    "\n",
    "train_loader = torch.utils.data.DataLoader(train_set, batch_size=100)\n",
    "optimizer = optim.Adam(network.parameters(), lr=0.01)\n",
    "\n",
    "total_loss = 0\n",
    "total_correct = 0\n",
    "\n",
    "\n",
    "for batch in  train_loader: # Get Batches\n",
    "  images, labels = batch\n",
    "\n",
    "  preds = network(images) # Pass Batch\n",
    "  loss = F.cross_entropy(preds, labels) # Calculate Loss\n",
    "\n",
    "  ##Total up the loss and num_correct predictions as we go\n",
    "  total_loss += loss.item()\n",
    "  total_correct += get_num_correct_pred(preds, label)\n",
    "\n",
    "  optimizer.zero_grad()## Zeros out any gradient values that currently exist.\n",
    "                      ## This is because pytorch accumulates gradients (grad++)\n",
    "  loss.backward() # Calculate Gradients\n",
    "  optimizer.step() # Update Weights\n",
    "\n",
    "print(\"Epoch:\", 0, \"Total correct:\", total_correct, \"Total loss:\", total_loss)"
   ]
  },
  {
   "cell_type": "code",
   "execution_count": 56,
   "metadata": {
    "colab": {
     "base_uri": "https://localhost:8080/"
    },
    "id": "uGkhrKZZ-zJ5",
    "outputId": "94ec10e3-8f99-4255-8116-735aa5650120"
   },
   "outputs": [
    {
     "name": "stdout",
     "output_type": "stream",
     "text": [
      "Accuracy % =  10.206666666666667\n"
     ]
    }
   ],
   "source": [
    "Accuracy = (total_correct/len(train_set))*100\n",
    "print(\"Accuracy % = \",Accuracy)"
   ]
  },
  {
   "cell_type": "code",
   "execution_count": 57,
   "metadata": {
    "colab": {
     "base_uri": "https://localhost:8080/"
    },
    "id": "I6QLmEC6-tIY",
    "outputId": "71bba08a-ad41-40d9-bab2-ccf4447162b0"
   },
   "outputs": [
    {
     "data": {
      "text/plain": [
       "600.0"
      ]
     },
     "execution_count": 57,
     "metadata": {},
     "output_type": "execute_result"
    }
   ],
   "source": [
    "## We can get the number of time the loop executes by calculating the number of batches\n",
    "num_batches = len(train_set)/100 #batch_size = 100\n",
    "num_batches"
   ]
  },
  {
   "cell_type": "markdown",
   "metadata": {
    "id": "iA6bousS-ewW"
   },
   "source": [
    "## Multiple **epochs**, complete training loop"
   ]
  },
  {
   "cell_type": "code",
   "execution_count": 58,
   "metadata": {
    "colab": {
     "base_uri": "https://localhost:8080/"
    },
    "id": "5KEK74xq-ow9",
    "outputId": "8768c01b-cfec-41f9-ccd7-f4ce7e19e560"
   },
   "outputs": [
    {
     "name": "stdout",
     "output_type": "stream",
     "text": [
      "Epoch: 0 Total correct: 6072 Total loss: 361.0771214365959 Accuracy 10.12\n",
      "Epoch: 1 Total correct: 12072 Total loss: 607.3100926876068 Accuracy 20.119999999999997\n",
      "Epoch: 2 Total correct: 18027 Total loss: 828.4034409075975 Accuracy 30.044999999999998\n"
     ]
    }
   ],
   "source": [
    "#Using all batches\n",
    "network = Network()\n",
    "\n",
    "train_loader = torch.utils.data.DataLoader(train_set, batch_size=100)\n",
    "optimizer = optim.Adam(network.parameters(), lr=0.01)\n",
    "\n",
    "total_loss = 0\n",
    "total_correct = 0\n",
    "\n",
    "for epoch in range(3):\n",
    "  for batch in  train_loader: # Get Batches\n",
    "    images, labels = batch\n",
    "\n",
    "    preds = network(images) # Pass Batch\n",
    "    loss = F.cross_entropy(preds, labels) # Calculate Loss\n",
    "\n",
    "    ##Total up the loss and num_correct predictions as we go\n",
    "    total_loss += loss.item()\n",
    "    total_correct += get_num_correct_pred(preds, label)\n",
    "\n",
    "    optimizer.zero_grad()## Zeros out any gradient values that currently exist.\n",
    "                        ## This is because pytorch accumulates gradients (grad++)\n",
    "    loss.backward() # Calculate Gradients\n",
    "    optimizer.step() # Update Weights\n",
    "\n",
    "  Accuracy = (total_correct/len(train_set))*100 ## This is the accuracy for each epoch\n",
    "  print(\"Epoch:\",    epoch, \"Total correct:\",    total_correct, \"Total loss:\",    total_loss,    \"Accuracy\", Accuracy)"
   ]
  },
  {
   "cell_type": "code",
   "execution_count": 59,
   "metadata": {
    "colab": {
     "base_uri": "https://localhost:8080/"
    },
    "id": "dlSglTtQz3yD",
    "outputId": "2f1a3dc8-4f20-409e-cd8f-2bf841dad4b5"
   },
   "outputs": [
    {
     "name": "stdout",
     "output_type": "stream",
     "text": [
      "Accuracy % =  30.044999999999998\n"
     ]
    }
   ],
   "source": [
    "Accuracy = (total_correct/len(train_set))*100\n",
    "print(\"Accuracy % = \",Accuracy)"
   ]
  },
  {
   "cell_type": "markdown",
   "metadata": {
    "id": "UoNm03GuAKrR"
   },
   "source": [
    "# Create A Confusion Matrix With PyTorch\n",
    "A confusion matrix will show us where the model is getting confused. To be more specific, the confusion matrix will show us which categories the model is predicting correctly and which categories the model is predicting incorrectly. For the incorrect predictions, we will be able to see which category the model predicted, and this will show us which categories are confusing the model.\n",
    "\n",
    "**To create a confusion matrix for our entire dataset, we need to have a prediction tensor with a single dimension that has the same length as our training set.**"
   ]
  },
  {
   "cell_type": "markdown",
   "metadata": {
    "id": "RfoEylHLe6_d"
   },
   "source": [
    "## Get Predictions For The Entire Training Set\n",
    "To get the predictions for all the training set samples, we need to pass all of the samples forward through the network\n",
    "\n",
    "To do this, it is possible to create a DataLoader that has batch_size=1. This will pass a single batch to the network at once and will give us the desired prediction tensor for all the training set samples.\n",
    "\n",
    "However, depending on the computing resources and the size of the training set if we were training on a different data set, we need a way to prediction on smaller batches and collect the results. To collect the results, we'll use the torch.cat() function to concatenate the output tensors together to obtain our single prediction tensor. Let's build a function to do this."
   ]
  },
  {
   "cell_type": "code",
   "execution_count": 60,
   "metadata": {
    "colab": {
     "base_uri": "https://localhost:8080/"
    },
    "id": "byNzn6sye-G1",
    "outputId": "a98c4fcb-1ac4-4375-ea78-b9dd1072cfeb"
   },
   "outputs": [
    {
     "data": {
      "text/plain": [
       "torch.Size([60000, 10])"
      ]
     },
     "execution_count": 60,
     "metadata": {},
     "output_type": "execute_result"
    }
   ],
   "source": [
    "#We'll create a function called get_all_preds(), and we'll pass a model and a data loader. The model will be used to obtain\n",
    "#the predictions, and the data loader will be used to provide the batches from the training set.\n",
    "#  All the function needs to do is iterate over the data loader passing the batches to the model\n",
    "#   and concatenating the results of each batch to a prediction tensor that will returned to the caller.\n",
    "\n",
    "@torch.no_grad() ## Because we want this functions execution to omit gradient tracking. This does it locally instead of globally(torch.set_grad_enabled(false)).\n",
    "def get_all_preds(model, loader):\n",
    "    all_preds = torch.tensor([])\n",
    "    for batch in loader:\n",
    "        images, labels = batch\n",
    "\n",
    "        preds = model(images)\n",
    "        all_preds = torch.cat( (all_preds, preds), dim=0 )\n",
    "    return all_preds\n",
    "\n",
    "prediction_loader = torch.utils.data.DataLoader(train_set, batch_size=10000)\n",
    "train_preds = get_all_preds(network, prediction_loader)\n",
    "\n",
    "\n",
    "#----------------------------------------------------------------------------------------------------------------------------------------------------------\n",
    "# Turning off PyTorch's gradient tracking feature locally in a different way\n",
    "#As another example we, we can use Python's with context manger keyword to specify that a specify block of code should exclude gradient computations.\n",
    "# with torch.no_grad():\n",
    "#     prediction_loader = torch.utils.data.DataLoader(train_set, batch_size=10000)\n",
    "#     train_preds = get_all_preds(network, prediction_loader)\n",
    "#-----------------------------------------------------------------------------------------------------------------------------------------------------------\n",
    "\n",
    "\n",
    "train_preds.shape"
   ]
  },
  {
   "cell_type": "code",
   "execution_count": 61,
   "metadata": {
    "colab": {
     "base_uri": "https://localhost:8080/"
    },
    "id": "5vXyE6cJilsI",
    "outputId": "69ad54c3-9a9c-4663-8d24-3b9a599d7017"
   },
   "outputs": [
    {
     "data": {
      "text/plain": [
       "False"
      ]
     },
     "execution_count": 61,
     "metadata": {},
     "output_type": "execute_result"
    }
   ],
   "source": [
    "train_preds.requires_grad #That's because we turned on gradient tracking"
   ]
  },
  {
   "cell_type": "markdown",
   "metadata": {
    "id": "VziHZrfkjkjL"
   },
   "source": [
    "## Using The Predictions Tensor"
   ]
  },
  {
   "cell_type": "code",
   "execution_count": 62,
   "metadata": {
    "colab": {
     "base_uri": "https://localhost:8080/"
    },
    "id": "gF6CzIFyggL7",
    "outputId": "925fddd2-ea3e-48d3-c179-d8e2c1e65ff9"
   },
   "outputs": [
    {
     "name": "stdout",
     "output_type": "stream",
     "text": [
      "total correct: 51506\n",
      "accuracy: 0.8584333333333334\n"
     ]
    }
   ],
   "source": [
    "preds_correct = get_num_correct_pred(train_preds, train_set.targets)\n",
    "\n",
    "print('total correct:', preds_correct)\n",
    "print('accuracy:', preds_correct / len(train_set))"
   ]
  },
  {
   "cell_type": "markdown",
   "metadata": {
    "id": "6Ltdeaivl4LW"
   },
   "source": [
    "## Building a confusion maxtrix"
   ]
  },
  {
   "cell_type": "code",
   "execution_count": 63,
   "metadata": {
    "colab": {
     "base_uri": "https://localhost:8080/"
    },
    "id": "qW-ewJ6wj0kL",
    "outputId": "6e0181f2-dc2c-49aa-ef24-7770294066c9"
   },
   "outputs": [
    {
     "name": "stdout",
     "output_type": "stream",
     "text": [
      "tensor([9, 0, 0,  ..., 3, 0, 5])\n",
      "tensor([9, 0, 3,  ..., 3, 0, 5])\n"
     ]
    }
   ],
   "source": [
    "# To do this, we need to have the targets tensor and the predicted label from the train_preds tensor.\n",
    "\n",
    "train_set.targets\n",
    "train_preds.argmax(dim=1)\n",
    "\n",
    "print(train_set.targets)\n",
    "print(train_preds.argmax(dim=1))"
   ]
  },
  {
   "cell_type": "code",
   "execution_count": 64,
   "metadata": {
    "colab": {
     "base_uri": "https://localhost:8080/"
    },
    "id": "kDV7Yl_qmEHW",
    "outputId": "e017f2c5-da32-4edf-c1df-b9977ed9387b"
   },
   "outputs": [
    {
     "name": "stdout",
     "output_type": "stream",
     "text": [
      "tensor([[9, 9],\n",
      "        [0, 0],\n",
      "        [0, 3],\n",
      "        ...,\n",
      "        [3, 3],\n",
      "        [0, 0],\n",
      "        [5, 5]])\n"
     ]
    },
    {
     "data": {
      "text/plain": [
       "[9, 9]"
      ]
     },
     "execution_count": 64,
     "metadata": {},
     "output_type": "execute_result"
    }
   ],
   "source": [
    "# Now, if we compare the two tensors element-wise, \n",
    "# we can see if the predicted label matches the target. \n",
    "#We can pair up the two tensors by stacking them up\n",
    "\n",
    "stacked = torch.stack(  ( train_set.targets, train_preds.argmax(dim=1)), dim=1  )\n",
    "print(stacked)\n",
    "\n",
    "## We can get a list from the stacked tensor \n",
    "stacked[0].tolist()"
   ]
  },
  {
   "cell_type": "code",
   "execution_count": 65,
   "metadata": {
    "colab": {
     "base_uri": "https://localhost:8080/"
    },
    "id": "9nv-AL4Lnh9s",
    "outputId": "1ee4831a-2fa8-4f74-db9c-d0ecb2bb54f3"
   },
   "outputs": [
    {
     "data": {
      "text/plain": [
       "tensor([[0, 0, 0, 0, 0, 0, 0, 0, 0, 0],\n",
       "        [0, 0, 0, 0, 0, 0, 0, 0, 0, 0],\n",
       "        [0, 0, 0, 0, 0, 0, 0, 0, 0, 0],\n",
       "        [0, 0, 0, 0, 0, 0, 0, 0, 0, 0],\n",
       "        [0, 0, 0, 0, 0, 0, 0, 0, 0, 0],\n",
       "        [0, 0, 0, 0, 0, 0, 0, 0, 0, 0],\n",
       "        [0, 0, 0, 0, 0, 0, 0, 0, 0, 0],\n",
       "        [0, 0, 0, 0, 0, 0, 0, 0, 0, 0],\n",
       "        [0, 0, 0, 0, 0, 0, 0, 0, 0, 0],\n",
       "        [0, 0, 0, 0, 0, 0, 0, 0, 0, 0]])"
      ]
     },
     "execution_count": 65,
     "metadata": {},
     "output_type": "execute_result"
    }
   ],
   "source": [
    "# Now, we can iterate over these pairs and count the number of occurrences at each position in the matrix.\n",
    "# Let's create the matrix. Since we have ten prediction categories, we'll have a ten by ten matrix.\n",
    "# But first, we have to create an empty tenor which will eventually represent the confusion matrix\n",
    "cmt = torch.zeros(10,10, dtype=torch.int64)\n",
    "cmt"
   ]
  },
  {
   "cell_type": "code",
   "execution_count": 66,
   "metadata": {
    "id": "zni19qmqoj-g"
   },
   "outputs": [],
   "source": [
    "# Now, we'll iterate over the prediction-target pairs and \n",
    "# add one to the value inside the matrix each time the particular position occurs.\n",
    "\n",
    "for p in stacked:\n",
    "    tl, pl = p.tolist()\n",
    "    cmt[tl, pl] = cmt[tl, pl] + 1"
   ]
  },
  {
   "cell_type": "code",
   "execution_count": 67,
   "metadata": {
    "colab": {
     "base_uri": "https://localhost:8080/"
    },
    "id": "_CTjfrz3pC1b",
    "outputId": "3c80c613-c0d7-4b59-f382-dd835d2c5ab0"
   },
   "outputs": [
    {
     "data": {
      "text/plain": [
       "tensor([[4944,   26,   65,  323,   17,   19,  561,    0,   45,    0],\n",
       "        [  10, 5864,    0,   92,    8,    3,   11,    0,   12,    0],\n",
       "        [  72,    3, 3860,   68, 1021,   13,  898,    0,   65,    0],\n",
       "        [ 133,  169,    4, 5392,  212,    2,   73,    0,   15,    0],\n",
       "        [  11,   21,  190,  244, 4761,    3,  734,    0,   35,    1],\n",
       "        [   1,    0,    0,    0,    0, 5753,    0,  198,    5,   43],\n",
       "        [ 883,   15,  332,  319,  477,    4, 3898,    0,   72,    0],\n",
       "        [   0,    0,    0,    0,    0,   53,    0, 5917,    6,   24],\n",
       "        [  12,    4,    7,   27,   27,   30,   82,   14, 5794,    3],\n",
       "        [   0,    0,    1,    0,    0,   37,    0,  635,    4, 5323]])"
      ]
     },
     "execution_count": 67,
     "metadata": {},
     "output_type": "execute_result"
    }
   ],
   "source": [
    "cmt"
   ]
  },
  {
   "cell_type": "markdown",
   "metadata": {},
   "source": [
    "## Building a confusion matrix using sklearn"
   ]
  },
  {
   "cell_type": "code",
   "execution_count": 68,
   "metadata": {
    "colab": {
     "base_uri": "https://localhost:8080/"
    },
    "id": "oCFDqnWYpPfG",
    "outputId": "647a0a1d-b16d-45ac-8822-3d88154df1b7"
   },
   "outputs": [
    {
     "data": {
      "text/plain": [
       "array([[4944,   26,   65,  323,   17,   19,  561,    0,   45,    0],\n",
       "       [  10, 5864,    0,   92,    8,    3,   11,    0,   12,    0],\n",
       "       [  72,    3, 3860,   68, 1021,   13,  898,    0,   65,    0],\n",
       "       [ 133,  169,    4, 5392,  212,    2,   73,    0,   15,    0],\n",
       "       [  11,   21,  190,  244, 4761,    3,  734,    0,   35,    1],\n",
       "       [   1,    0,    0,    0,    0, 5753,    0,  198,    5,   43],\n",
       "       [ 883,   15,  332,  319,  477,    4, 3898,    0,   72,    0],\n",
       "       [   0,    0,    0,    0,    0,   53,    0, 5917,    6,   24],\n",
       "       [  12,    4,    7,   27,   27,   30,   82,   14, 5794,    3],\n",
       "       [   0,    0,    1,    0,    0,   37,    0,  635,    4, 5323]],\n",
       "      dtype=int64)"
      ]
     },
     "execution_count": 68,
     "metadata": {},
     "output_type": "execute_result"
    }
   ],
   "source": [
    "# We can also use sklearn to generate the confusion matrix for us\n",
    "\n",
    "import matplotlib.pyplot as plt\n",
    "from sklearn.metrics import confusion_matrix\n",
    "\n",
    "cm = confusion_matrix(train_set.targets, train_preds.argmax(dim=1))\n",
    "cm ## As you can see, they look exactly the same"
   ]
  },
  {
   "cell_type": "markdown",
   "metadata": {},
   "source": [
    "## Plotting The Confusion Matrix"
   ]
  },
  {
   "cell_type": "code",
   "execution_count": 70,
   "metadata": {
    "colab": {
     "base_uri": "https://localhost:8080/",
     "height": 621
    },
    "id": "vGFPEEVYphKd",
    "outputId": "8d3bcf42-b7e3-4316-ec9a-9e5d3fa1d1fc"
   },
   "outputs": [
    {
     "data": {
      "image/png": "[encoded data removed]",
      "text/plain": [
       "<Figure size 1296x576 with 2 Axes>"
      ]
     },
     "metadata": {
      "needs_background": "light"
     },
     "output_type": "display_data"
    }
   ],
   "source": [
    "import seaborn as sns\n",
    "\n",
    "\n",
    "names = train_set.classes\n",
    "\n",
    "plt.figure(figsize=(18,8))\n",
    "plt.suptitle(\"Confusion matrix for our network as a heatmap\", fontsize = 30)\n",
    "plt.tick_params(axis='x', labelsize=15)#Make x-scale visible\n",
    "plt.tick_params(axis='y', labelsize=15)#Make y-scale visible\n",
    "plt.xticks(rotation = 45) # Rotate the classes alittle bit\n",
    "sns.heatmap(cmt, xticklabels = names, yticklabels = names, annot=True, fmt='d', cmap='copper_r')\n",
    "plt.xlabel(\"Predicted\", fontsize = 20)\n",
    "plt.ylabel(\"True\",  fontsize = 20)\n",
    "plt.show()"
   ]
  },
  {
   "cell_type": "markdown",
   "metadata": {},
   "source": [
    "# Hyperparameter Tunnning\n",
    "\n",
    "We can manually change our parameters, but this is not an efficient way"
   ]
  },
  {
   "cell_type": "markdown",
   "metadata": {},
   "source": [
    "## Run Builder Class"
   ]
  },
  {
   "cell_type": "code",
   "execution_count": 71,
   "metadata": {},
   "outputs": [],
   "source": [
    "from collections import OrderedDict\n",
    "from collections import namedtuple\n",
    "from itertools import product"
   ]
  },
  {
   "cell_type": "code",
   "execution_count": 72,
   "metadata": {},
   "outputs": [],
   "source": [
    "class RunBuilder():\n",
    "    \n",
    "    @staticmethod\n",
    "    def get_runs(parameters):\n",
    "        Run = namedtuple('Run', parameters.keys())\n",
    "        \n",
    "        runs = []\n",
    "\n",
    "        for v in product(*parameters.values()):\n",
    "            runs.append(Run(*v))\n",
    "        return runs"
   ]
  },
  {
   "cell_type": "code",
   "execution_count": 73,
   "metadata": {},
   "outputs": [
    {
     "name": "stdout",
     "output_type": "stream",
     "text": [
      "Run(batch_size=100, rl=1e-05, shuffle=True)\n",
      "Run(batch_size=100, rl=1e-05, shuffle=False)\n",
      "Run(batch_size=100, rl=0.0001, shuffle=True)\n",
      "Run(batch_size=100, rl=0.0001, shuffle=False)\n",
      "Run(batch_size=100, rl=0.001, shuffle=True)\n",
      "Run(batch_size=100, rl=0.001, shuffle=False)\n",
      "Run(batch_size=100, rl=0.01, shuffle=True)\n",
      "Run(batch_size=100, rl=0.01, shuffle=False)\n",
      "Run(batch_size=1000, rl=1e-05, shuffle=True)\n",
      "Run(batch_size=1000, rl=1e-05, shuffle=False)\n",
      "Run(batch_size=1000, rl=0.0001, shuffle=True)\n",
      "Run(batch_size=1000, rl=0.0001, shuffle=False)\n",
      "Run(batch_size=1000, rl=0.001, shuffle=True)\n",
      "Run(batch_size=1000, rl=0.001, shuffle=False)\n",
      "Run(batch_size=1000, rl=0.01, shuffle=True)\n",
      "Run(batch_size=1000, rl=0.01, shuffle=False)\n",
      "Run(batch_size=10000, rl=1e-05, shuffle=True)\n",
      "Run(batch_size=10000, rl=1e-05, shuffle=False)\n",
      "Run(batch_size=10000, rl=0.0001, shuffle=True)\n",
      "Run(batch_size=10000, rl=0.0001, shuffle=False)\n",
      "Run(batch_size=10000, rl=0.001, shuffle=True)\n",
      "Run(batch_size=10000, rl=0.001, shuffle=False)\n",
      "Run(batch_size=10000, rl=0.01, shuffle=True)\n",
      "Run(batch_size=10000, rl=0.01, shuffle=False)\n"
     ]
    }
   ],
   "source": [
    "## this is an example of generated runs by the RunBuilder class\n",
    "\n",
    "parameters = OrderedDict(\n",
    "    batch_size  =   [100, 1000, 10000],\n",
    "    rl          =  [0.00001, 0.0001, 0.001, 0.01],\n",
    "    shuffle     =  [True, False]    \n",
    ")\n",
    "\n",
    "for run in RunBuilder().get_runs(parameters):\n",
    "    comment = f'{run}'\n",
    "    print(comment)"
   ]
  },
  {
   "cell_type": "markdown",
   "metadata": {},
   "source": [
    "## Building The RunManger For Training Loop Runs\n",
    "##### We can try to experiment with different parameters manually, or we can build classes that will make experimentation very easy for us"
   ]
  },
  {
   "cell_type": "code",
   "execution_count": 74,
   "metadata": {},
   "outputs": [],
   "source": [
    "# from torch.utils.tensorboard import SummaryWriter\n",
    "from IPython.display import display, clear_output\n",
    "import pandas as pd\n",
    "import time\n",
    "import json\n",
    "\n",
    "from itertools import product\n",
    "from collections import namedtuple\n",
    "from collections import OrderedDict\n",
    "    "
   ]
  },
  {
   "cell_type": "code",
   "execution_count": 75,
   "metadata": {},
   "outputs": [],
   "source": [
    "class RunManager():\n",
    "    def __init__(self):\n",
    "\n",
    "        self.epoch_count = 0\n",
    "        self.epoch_loss = 0\n",
    "        self.epoch_num_correct = 0\n",
    "        self.epoch_start_time = None\n",
    "\n",
    "        self.run_params = None\n",
    "        self.run_count = 0\n",
    "        self.run_data = []\n",
    "        self.run_start_time = None\n",
    "\n",
    "        self.network = None\n",
    "        self.loader = None\n",
    "        self.tb = None\n",
    "    \n",
    "    \n",
    "    def begin_run(self, run, network, loader):\n",
    "\n",
    "        self.run_start_time = time.time()\n",
    "\n",
    "        self.run_params = run\n",
    "        self.run_count += 1\n",
    "\n",
    "        self.network = network\n",
    "        self.loader = loader\n",
    "    #     self.tb = SummaryWriter(comment=f'-{run}')\n",
    "\n",
    "        images, labels = next(iter(self.loader))\n",
    "    #     grid = torchvision.utils.make_grid(images)\n",
    "\n",
    "    #     self.tb.add_image('images', grid)\n",
    "    #     self.tb.add_graph(\n",
    "    #             self.network\n",
    "    #         ,images.to(getattr(run, 'device', 'cpu'))\n",
    "\n",
    "\n",
    "\n",
    "    def end_run(self):\n",
    "    #     self.tb.close()\n",
    "        self.epoch_count = 0\n",
    "\n",
    "\n",
    "\n",
    "    def begin_epoch(self):\n",
    "        self.epoch_start_time = time.time()\n",
    "\n",
    "        self.epoch_count += 1\n",
    "        self.epoch_loss = 0\n",
    "        self.epoch_num_correct = 0\n",
    "\n",
    "\n",
    "    def end_epoch(self):\n",
    "\n",
    "        epoch_duration = time.time() - self.epoch_start_time\n",
    "        run_duration = time.time() - self.run_start_time\n",
    "\n",
    "        loss = self.epoch_loss / len(self.loader.dataset)\n",
    "        accuracy = self.epoch_num_correct / len(self.loader.dataset)\n",
    "\n",
    "    #     self.tb.add_scalar('Loss', loss, self.epoch_count)\n",
    "    #     self.tb.add_scalar('Accuracy', accuracy, self.epoch_count)\n",
    "\n",
    "    #     for name, param in self.network.named_parameters():\n",
    "    #         self.tb.add_histogram(name, param, self.epoch_count)\n",
    "    #         self.tb.add_histogram(f'{name}.grad', param.grad, self.epoch_count)\n",
    "        results = OrderedDict()\n",
    "        results[\"run\"] = self.run_count\n",
    "        results[\"epoch\"] = self.epoch_count\n",
    "        results['loss'] = loss\n",
    "        results[\"accuracy\"] = accuracy\n",
    "        results['epoch duration'] = epoch_duration\n",
    "        results['run duration'] = run_duration\n",
    "        for k,v in self.run_params._asdict().items(): results[k] = v\n",
    "        self.run_data.append(results)\n",
    "\n",
    "        df = pd.DataFrame.from_dict(self.run_data, orient='columns')\n",
    "        clear_output(wait=True)\n",
    "        display(df)\n",
    "\n",
    "\n",
    "    def track_loss(self, loss):\n",
    "        self.epoch_loss += loss.item() * self.loader.batch_size#batch[0].shape[0]\n",
    "\n",
    "    def track_num_correct(self, preds, labels):\n",
    "        self.epoch_num_correct += self.get_num_correct(preds, labels)\n",
    "\n",
    "    def get_num_correct(self, preds, labels):\n",
    "        return preds.argmax(dim=1).eq(labels).sum().item()\n",
    "\n",
    "    def save(self, fileName):\n",
    "\n",
    "        pd.DataFrame.from_dict(\n",
    "            self.run_data, orient='columns'\n",
    "        ).to_csv(f'{fileName}.csv')\n",
    "\n",
    "        with open(f'{fileName}.json', 'w', encoding='utf-8') as f:\n",
    "            json.dump(self.run_data, f, ensure_ascii=False, indent=4)\n",
    "\n"
   ]
  },
  {
   "cell_type": "markdown",
   "metadata": {},
   "source": [
    "### Using our classes for Hyperparametr tunning"
   ]
  },
  {
   "cell_type": "code",
   "execution_count": 79,
   "metadata": {},
   "outputs": [
    {
     "data": {
      "text/html": [
       "<div>\n",
       "<style scoped>\n",
       "    .dataframe tbody tr th:only-of-type {\n",
       "        vertical-align: middle;\n",
       "    }\n",
       "\n",
       "    .dataframe tbody tr th {\n",
       "        vertical-align: top;\n",
       "    }\n",
       "\n",
       "    .dataframe thead th {\n",
       "        text-align: right;\n",
       "    }\n",
       "</style>\n",
       "<table border=\"1\" class=\"dataframe\">\n",
       "  <thead>\n",
       "    <tr style=\"text-align: right;\">\n",
       "      <th></th>\n",
       "      <th>run</th>\n",
       "      <th>epoch</th>\n",
       "      <th>loss</th>\n",
       "      <th>accuracy</th>\n",
       "      <th>epoch duration</th>\n",
       "      <th>run duration</th>\n",
       "      <th>lr</th>\n",
       "      <th>batch_size</th>\n",
       "      <th>shuffle</th>\n",
       "      <th>num_workers</th>\n",
       "      <th>device</th>\n",
       "    </tr>\n",
       "  </thead>\n",
       "  <tbody>\n",
       "    <tr>\n",
       "      <th>0</th>\n",
       "      <td>1</td>\n",
       "      <td>1</td>\n",
       "      <td>0.968742</td>\n",
       "      <td>0.633783</td>\n",
       "      <td>9.191985</td>\n",
       "      <td>9.274953</td>\n",
       "      <td>0.010</td>\n",
       "      <td>1000</td>\n",
       "      <td>True</td>\n",
       "      <td>0</td>\n",
       "      <td>cpu</td>\n",
       "    </tr>\n",
       "    <tr>\n",
       "      <th>1</th>\n",
       "      <td>1</td>\n",
       "      <td>2</td>\n",
       "      <td>0.537420</td>\n",
       "      <td>0.790233</td>\n",
       "      <td>10.201283</td>\n",
       "      <td>19.487237</td>\n",
       "      <td>0.010</td>\n",
       "      <td>1000</td>\n",
       "      <td>True</td>\n",
       "      <td>0</td>\n",
       "      <td>cpu</td>\n",
       "    </tr>\n",
       "    <tr>\n",
       "      <th>2</th>\n",
       "      <td>1</td>\n",
       "      <td>3</td>\n",
       "      <td>0.442987</td>\n",
       "      <td>0.834950</td>\n",
       "      <td>10.573198</td>\n",
       "      <td>30.068434</td>\n",
       "      <td>0.010</td>\n",
       "      <td>1000</td>\n",
       "      <td>True</td>\n",
       "      <td>0</td>\n",
       "      <td>cpu</td>\n",
       "    </tr>\n",
       "    <tr>\n",
       "      <th>3</th>\n",
       "      <td>1</td>\n",
       "      <td>4</td>\n",
       "      <td>0.392273</td>\n",
       "      <td>0.853633</td>\n",
       "      <td>11.204319</td>\n",
       "      <td>41.283752</td>\n",
       "      <td>0.010</td>\n",
       "      <td>1000</td>\n",
       "      <td>True</td>\n",
       "      <td>0</td>\n",
       "      <td>cpu</td>\n",
       "    </tr>\n",
       "    <tr>\n",
       "      <th>4</th>\n",
       "      <td>1</td>\n",
       "      <td>5</td>\n",
       "      <td>0.350159</td>\n",
       "      <td>0.870100</td>\n",
       "      <td>11.111488</td>\n",
       "      <td>52.405239</td>\n",
       "      <td>0.010</td>\n",
       "      <td>1000</td>\n",
       "      <td>True</td>\n",
       "      <td>0</td>\n",
       "      <td>cpu</td>\n",
       "    </tr>\n",
       "    <tr>\n",
       "      <th>...</th>\n",
       "      <td>...</td>\n",
       "      <td>...</td>\n",
       "      <td>...</td>\n",
       "      <td>...</td>\n",
       "      <td>...</td>\n",
       "      <td>...</td>\n",
       "      <td>...</td>\n",
       "      <td>...</td>\n",
       "      <td>...</td>\n",
       "      <td>...</td>\n",
       "      <td>...</td>\n",
       "    </tr>\n",
       "    <tr>\n",
       "      <th>475</th>\n",
       "      <td>96</td>\n",
       "      <td>1</td>\n",
       "      <td>2.131144</td>\n",
       "      <td>0.280117</td>\n",
       "      <td>4.076670</td>\n",
       "      <td>6.044702</td>\n",
       "      <td>0.001</td>\n",
       "      <td>2000</td>\n",
       "      <td>False</td>\n",
       "      <td>4</td>\n",
       "      <td>cuda</td>\n",
       "    </tr>\n",
       "    <tr>\n",
       "      <th>476</th>\n",
       "      <td>96</td>\n",
       "      <td>2</td>\n",
       "      <td>1.097904</td>\n",
       "      <td>0.599183</td>\n",
       "      <td>4.016669</td>\n",
       "      <td>10.084414</td>\n",
       "      <td>0.001</td>\n",
       "      <td>2000</td>\n",
       "      <td>False</td>\n",
       "      <td>4</td>\n",
       "      <td>cuda</td>\n",
       "    </tr>\n",
       "    <tr>\n",
       "      <th>477</th>\n",
       "      <td>96</td>\n",
       "      <td>3</td>\n",
       "      <td>0.788654</td>\n",
       "      <td>0.697683</td>\n",
       "      <td>4.022605</td>\n",
       "      <td>14.130056</td>\n",
       "      <td>0.001</td>\n",
       "      <td>2000</td>\n",
       "      <td>False</td>\n",
       "      <td>4</td>\n",
       "      <td>cuda</td>\n",
       "    </tr>\n",
       "    <tr>\n",
       "      <th>478</th>\n",
       "      <td>96</td>\n",
       "      <td>4</td>\n",
       "      <td>0.689744</td>\n",
       "      <td>0.741317</td>\n",
       "      <td>4.116075</td>\n",
       "      <td>18.270176</td>\n",
       "      <td>0.001</td>\n",
       "      <td>2000</td>\n",
       "      <td>False</td>\n",
       "      <td>4</td>\n",
       "      <td>cuda</td>\n",
       "    </tr>\n",
       "    <tr>\n",
       "      <th>479</th>\n",
       "      <td>96</td>\n",
       "      <td>5</td>\n",
       "      <td>0.617615</td>\n",
       "      <td>0.766517</td>\n",
       "      <td>4.092544</td>\n",
       "      <td>22.385719</td>\n",
       "      <td>0.001</td>\n",
       "      <td>2000</td>\n",
       "      <td>False</td>\n",
       "      <td>4</td>\n",
       "      <td>cuda</td>\n",
       "    </tr>\n",
       "  </tbody>\n",
       "</table>\n",
       "<p>480 rows × 11 columns</p>\n",
       "</div>"
      ],
      "text/plain": [
       "     run  epoch      loss  accuracy  epoch duration  run duration     lr  \\\n",
       "0      1      1  0.968742  0.633783        9.191985      9.274953  0.010   \n",
       "1      1      2  0.537420  0.790233       10.201283     19.487237  0.010   \n",
       "2      1      3  0.442987  0.834950       10.573198     30.068434  0.010   \n",
       "3      1      4  0.392273  0.853633       11.204319     41.283752  0.010   \n",
       "4      1      5  0.350159  0.870100       11.111488     52.405239  0.010   \n",
       "..   ...    ...       ...       ...             ...           ...    ...   \n",
       "475   96      1  2.131144  0.280117        4.076670      6.044702  0.001   \n",
       "476   96      2  1.097904  0.599183        4.016669     10.084414  0.001   \n",
       "477   96      3  0.788654  0.697683        4.022605     14.130056  0.001   \n",
       "478   96      4  0.689744  0.741317        4.116075     18.270176  0.001   \n",
       "479   96      5  0.617615  0.766517        4.092544     22.385719  0.001   \n",
       "\n",
       "     batch_size  shuffle  num_workers device  \n",
       "0          1000     True            0    cpu  \n",
       "1          1000     True            0    cpu  \n",
       "2          1000     True            0    cpu  \n",
       "3          1000     True            0    cpu  \n",
       "4          1000     True            0    cpu  \n",
       "..          ...      ...          ...    ...  \n",
       "475        2000    False            4   cuda  \n",
       "476        2000    False            4   cuda  \n",
       "477        2000    False            4   cuda  \n",
       "478        2000    False            4   cuda  \n",
       "479        2000    False            4   cuda  \n",
       "\n",
       "[480 rows x 11 columns]"
      ]
     },
     "metadata": {},
     "output_type": "display_data"
    }
   ],
   "source": [
    "parameters = OrderedDict(\n",
    "    lr = [.01, 0.01, 0.001]\n",
    "    ,batch_size = [1000, 2000]\n",
    "    ,shuffle = [True, False],\n",
    "    num_workers = [0, 1, 2, 4],\n",
    "    device = ['cpu', 'cuda']\n",
    ")\n",
    "\n",
    "\n",
    "m = RunManager()\n",
    "for run in RunBuilder.get_runs(parameters):\n",
    "    \n",
    "    device = torch.device(run.device)\n",
    "    \n",
    "    network = Network()\n",
    "    network.to(device) ## Move our network to the current device\n",
    "    \n",
    "    loader = torch.utils.data.DataLoader(train_set, batch_size=run.batch_size, shuffle=run.shuffle, num_workers=run.num_workers)\n",
    "    optimizer = optim.Adam(network.parameters(), lr=run.lr)\n",
    "    \n",
    "    m.begin_run(run, network,loader)\n",
    "    for epoch in range(5):\n",
    "        m.begin_epoch()\n",
    "        for batch in loader:\n",
    "            \n",
    "            images, labels =  batch\n",
    "            images = images.to(device)\n",
    "            labels = labels.to(device)\n",
    "            preds = network(images)\n",
    "            loss = F.cross_entropy(preds, labels)\n",
    "            optimizer.zero_grad()\n",
    "            loss.backward()\n",
    "            optimizer.step()\n",
    "            \n",
    "            m.track_loss(loss)\n",
    "            m.track_num_correct(preds, labels)\n",
    "        m.end_epoch()\n",
    "    m.end_run()\n",
    "m.save('results')\n",
    "            "
   ]
  },
  {
   "cell_type": "markdown",
   "metadata": {},
   "source": [
    "## Sorting the results according to epoch duration and we see cuda is winning in every case"
   ]
  },
  {
   "cell_type": "code",
   "execution_count": 80,
   "metadata": {},
   "outputs": [
    {
     "data": {
      "text/html": [
       "<div>\n",
       "<style scoped>\n",
       "    .dataframe tbody tr th:only-of-type {\n",
       "        vertical-align: middle;\n",
       "    }\n",
       "\n",
       "    .dataframe tbody tr th {\n",
       "        vertical-align: top;\n",
       "    }\n",
       "\n",
       "    .dataframe thead th {\n",
       "        text-align: right;\n",
       "    }\n",
       "</style>\n",
       "<table border=\"1\" class=\"dataframe\">\n",
       "  <thead>\n",
       "    <tr style=\"text-align: right;\">\n",
       "      <th></th>\n",
       "      <th>run</th>\n",
       "      <th>epoch</th>\n",
       "      <th>loss</th>\n",
       "      <th>accuracy</th>\n",
       "      <th>epoch duration</th>\n",
       "      <th>run duration</th>\n",
       "      <th>lr</th>\n",
       "      <th>batch_size</th>\n",
       "      <th>shuffle</th>\n",
       "      <th>num_workers</th>\n",
       "      <th>device</th>\n",
       "    </tr>\n",
       "  </thead>\n",
       "  <tbody>\n",
       "    <tr>\n",
       "      <th>306</th>\n",
       "      <td>62</td>\n",
       "      <td>2</td>\n",
       "      <td>0.800691</td>\n",
       "      <td>0.692717</td>\n",
       "      <td>3.366703</td>\n",
       "      <td>7.923790</td>\n",
       "      <td>0.01</td>\n",
       "      <td>2000</td>\n",
       "      <td>False</td>\n",
       "      <td>2</td>\n",
       "      <td>cuda</td>\n",
       "    </tr>\n",
       "    <tr>\n",
       "      <th>305</th>\n",
       "      <td>62</td>\n",
       "      <td>1</td>\n",
       "      <td>1.501298</td>\n",
       "      <td>0.415717</td>\n",
       "      <td>3.396098</td>\n",
       "      <td>4.540127</td>\n",
       "      <td>0.01</td>\n",
       "      <td>2000</td>\n",
       "      <td>False</td>\n",
       "      <td>2</td>\n",
       "      <td>cuda</td>\n",
       "    </tr>\n",
       "    <tr>\n",
       "      <th>308</th>\n",
       "      <td>62</td>\n",
       "      <td>4</td>\n",
       "      <td>0.565019</td>\n",
       "      <td>0.783350</td>\n",
       "      <td>3.420038</td>\n",
       "      <td>14.927567</td>\n",
       "      <td>0.01</td>\n",
       "      <td>2000</td>\n",
       "      <td>False</td>\n",
       "      <td>2</td>\n",
       "      <td>cuda</td>\n",
       "    </tr>\n",
       "    <tr>\n",
       "      <th>307</th>\n",
       "      <td>62</td>\n",
       "      <td>3</td>\n",
       "      <td>0.638067</td>\n",
       "      <td>0.752517</td>\n",
       "      <td>3.552777</td>\n",
       "      <td>11.492531</td>\n",
       "      <td>0.01</td>\n",
       "      <td>2000</td>\n",
       "      <td>False</td>\n",
       "      <td>2</td>\n",
       "      <td>cuda</td>\n",
       "    </tr>\n",
       "    <tr>\n",
       "      <th>318</th>\n",
       "      <td>64</td>\n",
       "      <td>4</td>\n",
       "      <td>0.520027</td>\n",
       "      <td>0.806217</td>\n",
       "      <td>3.568410</td>\n",
       "      <td>16.626214</td>\n",
       "      <td>0.01</td>\n",
       "      <td>2000</td>\n",
       "      <td>False</td>\n",
       "      <td>4</td>\n",
       "      <td>cuda</td>\n",
       "    </tr>\n",
       "    <tr>\n",
       "      <th>...</th>\n",
       "      <td>...</td>\n",
       "      <td>...</td>\n",
       "      <td>...</td>\n",
       "      <td>...</td>\n",
       "      <td>...</td>\n",
       "      <td>...</td>\n",
       "      <td>...</td>\n",
       "      <td>...</td>\n",
       "      <td>...</td>\n",
       "      <td>...</td>\n",
       "      <td>...</td>\n",
       "    </tr>\n",
       "    <tr>\n",
       "      <th>284</th>\n",
       "      <td>57</td>\n",
       "      <td>5</td>\n",
       "      <td>0.484571</td>\n",
       "      <td>0.819367</td>\n",
       "      <td>13.513353</td>\n",
       "      <td>67.537214</td>\n",
       "      <td>0.01</td>\n",
       "      <td>2000</td>\n",
       "      <td>False</td>\n",
       "      <td>0</td>\n",
       "      <td>cpu</td>\n",
       "    </tr>\n",
       "    <tr>\n",
       "      <th>163</th>\n",
       "      <td>33</td>\n",
       "      <td>4</td>\n",
       "      <td>0.410880</td>\n",
       "      <td>0.849350</td>\n",
       "      <td>13.540706</td>\n",
       "      <td>53.558531</td>\n",
       "      <td>0.01</td>\n",
       "      <td>1000</td>\n",
       "      <td>True</td>\n",
       "      <td>0</td>\n",
       "      <td>cpu</td>\n",
       "    </tr>\n",
       "    <tr>\n",
       "      <th>40</th>\n",
       "      <td>9</td>\n",
       "      <td>1</td>\n",
       "      <td>0.988801</td>\n",
       "      <td>0.625567</td>\n",
       "      <td>13.616276</td>\n",
       "      <td>13.726280</td>\n",
       "      <td>0.01</td>\n",
       "      <td>1000</td>\n",
       "      <td>False</td>\n",
       "      <td>0</td>\n",
       "      <td>cpu</td>\n",
       "    </tr>\n",
       "    <tr>\n",
       "      <th>82</th>\n",
       "      <td>17</td>\n",
       "      <td>3</td>\n",
       "      <td>0.557893</td>\n",
       "      <td>0.786167</td>\n",
       "      <td>13.712744</td>\n",
       "      <td>39.940025</td>\n",
       "      <td>0.01</td>\n",
       "      <td>2000</td>\n",
       "      <td>True</td>\n",
       "      <td>0</td>\n",
       "      <td>cpu</td>\n",
       "    </tr>\n",
       "    <tr>\n",
       "      <th>240</th>\n",
       "      <td>49</td>\n",
       "      <td>1</td>\n",
       "      <td>1.327110</td>\n",
       "      <td>0.493167</td>\n",
       "      <td>13.937605</td>\n",
       "      <td>14.159637</td>\n",
       "      <td>0.01</td>\n",
       "      <td>2000</td>\n",
       "      <td>True</td>\n",
       "      <td>0</td>\n",
       "      <td>cpu</td>\n",
       "    </tr>\n",
       "  </tbody>\n",
       "</table>\n",
       "<p>480 rows × 11 columns</p>\n",
       "</div>"
      ],
      "text/plain": [
       "     run  epoch      loss  accuracy  epoch duration  run duration    lr  \\\n",
       "306   62      2  0.800691  0.692717        3.366703      7.923790  0.01   \n",
       "305   62      1  1.501298  0.415717        3.396098      4.540127  0.01   \n",
       "308   62      4  0.565019  0.783350        3.420038     14.927567  0.01   \n",
       "307   62      3  0.638067  0.752517        3.552777     11.492531  0.01   \n",
       "318   64      4  0.520027  0.806217        3.568410     16.626214  0.01   \n",
       "..   ...    ...       ...       ...             ...           ...   ...   \n",
       "284   57      5  0.484571  0.819367       13.513353     67.537214  0.01   \n",
       "163   33      4  0.410880  0.849350       13.540706     53.558531  0.01   \n",
       "40     9      1  0.988801  0.625567       13.616276     13.726280  0.01   \n",
       "82    17      3  0.557893  0.786167       13.712744     39.940025  0.01   \n",
       "240   49      1  1.327110  0.493167       13.937605     14.159637  0.01   \n",
       "\n",
       "     batch_size  shuffle  num_workers device  \n",
       "306        2000    False            2   cuda  \n",
       "305        2000    False            2   cuda  \n",
       "308        2000    False            2   cuda  \n",
       "307        2000    False            2   cuda  \n",
       "318        2000    False            4   cuda  \n",
       "..          ...      ...          ...    ...  \n",
       "284        2000    False            0    cpu  \n",
       "163        1000     True            0    cpu  \n",
       "40         1000    False            0    cpu  \n",
       "82         2000     True            0    cpu  \n",
       "240        2000     True            0    cpu  \n",
       "\n",
       "[480 rows x 11 columns]"
      ]
     },
     "execution_count": 80,
     "metadata": {},
     "output_type": "execute_result"
    }
   ],
   "source": [
    "pd.DataFrame.from_dict(m.run_data, orient = 'columns').sort_values('epoch duration')"
   ]
  },
  {
   "cell_type": "markdown",
   "metadata": {},
   "source": [
    "## Sorting the results according to accuracy "
   ]
  },
  {
   "cell_type": "code",
   "execution_count": 82,
   "metadata": {},
   "outputs": [
    {
     "data": {
      "text/html": [
       "<div>\n",
       "<style scoped>\n",
       "    .dataframe tbody tr th:only-of-type {\n",
       "        vertical-align: middle;\n",
       "    }\n",
       "\n",
       "    .dataframe tbody tr th {\n",
       "        vertical-align: top;\n",
       "    }\n",
       "\n",
       "    .dataframe thead th {\n",
       "        text-align: right;\n",
       "    }\n",
       "</style>\n",
       "<table border=\"1\" class=\"dataframe\">\n",
       "  <thead>\n",
       "    <tr style=\"text-align: right;\">\n",
       "      <th></th>\n",
       "      <th>run</th>\n",
       "      <th>epoch</th>\n",
       "      <th>loss</th>\n",
       "      <th>accuracy</th>\n",
       "      <th>epoch duration</th>\n",
       "      <th>run duration</th>\n",
       "      <th>lr</th>\n",
       "      <th>batch_size</th>\n",
       "      <th>shuffle</th>\n",
       "      <th>num_workers</th>\n",
       "      <th>device</th>\n",
       "    </tr>\n",
       "  </thead>\n",
       "  <tbody>\n",
       "    <tr>\n",
       "      <th>455</th>\n",
       "      <td>92</td>\n",
       "      <td>1</td>\n",
       "      <td>2.156468</td>\n",
       "      <td>0.239350</td>\n",
       "      <td>5.617794</td>\n",
       "      <td>6.793147</td>\n",
       "      <td>0.001</td>\n",
       "      <td>2000</td>\n",
       "      <td>False</td>\n",
       "      <td>1</td>\n",
       "      <td>cuda</td>\n",
       "    </tr>\n",
       "    <tr>\n",
       "      <th>450</th>\n",
       "      <td>91</td>\n",
       "      <td>1</td>\n",
       "      <td>2.065797</td>\n",
       "      <td>0.244317</td>\n",
       "      <td>9.751034</td>\n",
       "      <td>10.910103</td>\n",
       "      <td>0.001</td>\n",
       "      <td>2000</td>\n",
       "      <td>False</td>\n",
       "      <td>1</td>\n",
       "      <td>cpu</td>\n",
       "    </tr>\n",
       "    <tr>\n",
       "      <th>430</th>\n",
       "      <td>87</td>\n",
       "      <td>1</td>\n",
       "      <td>2.122646</td>\n",
       "      <td>0.276667</td>\n",
       "      <td>10.189364</td>\n",
       "      <td>12.269402</td>\n",
       "      <td>0.001</td>\n",
       "      <td>2000</td>\n",
       "      <td>True</td>\n",
       "      <td>4</td>\n",
       "      <td>cpu</td>\n",
       "    </tr>\n",
       "    <tr>\n",
       "      <th>475</th>\n",
       "      <td>96</td>\n",
       "      <td>1</td>\n",
       "      <td>2.131144</td>\n",
       "      <td>0.280117</td>\n",
       "      <td>4.076670</td>\n",
       "      <td>6.044702</td>\n",
       "      <td>0.001</td>\n",
       "      <td>2000</td>\n",
       "      <td>False</td>\n",
       "      <td>4</td>\n",
       "      <td>cuda</td>\n",
       "    </tr>\n",
       "    <tr>\n",
       "      <th>445</th>\n",
       "      <td>90</td>\n",
       "      <td>1</td>\n",
       "      <td>1.998803</td>\n",
       "      <td>0.305417</td>\n",
       "      <td>5.727273</td>\n",
       "      <td>5.907264</td>\n",
       "      <td>0.001</td>\n",
       "      <td>2000</td>\n",
       "      <td>False</td>\n",
       "      <td>0</td>\n",
       "      <td>cuda</td>\n",
       "    </tr>\n",
       "    <tr>\n",
       "      <th>...</th>\n",
       "      <td>...</td>\n",
       "      <td>...</td>\n",
       "      <td>...</td>\n",
       "      <td>...</td>\n",
       "      <td>...</td>\n",
       "      <td>...</td>\n",
       "      <td>...</td>\n",
       "      <td>...</td>\n",
       "      <td>...</td>\n",
       "      <td>...</td>\n",
       "      <td>...</td>\n",
       "    </tr>\n",
       "    <tr>\n",
       "      <th>64</th>\n",
       "      <td>13</td>\n",
       "      <td>5</td>\n",
       "      <td>0.346743</td>\n",
       "      <td>0.873517</td>\n",
       "      <td>10.065406</td>\n",
       "      <td>51.759675</td>\n",
       "      <td>0.010</td>\n",
       "      <td>1000</td>\n",
       "      <td>False</td>\n",
       "      <td>2</td>\n",
       "      <td>cpu</td>\n",
       "    </tr>\n",
       "    <tr>\n",
       "      <th>29</th>\n",
       "      <td>6</td>\n",
       "      <td>5</td>\n",
       "      <td>0.335691</td>\n",
       "      <td>0.873533</td>\n",
       "      <td>4.062713</td>\n",
       "      <td>22.109782</td>\n",
       "      <td>0.010</td>\n",
       "      <td>1000</td>\n",
       "      <td>True</td>\n",
       "      <td>2</td>\n",
       "      <td>cuda</td>\n",
       "    </tr>\n",
       "    <tr>\n",
       "      <th>214</th>\n",
       "      <td>43</td>\n",
       "      <td>5</td>\n",
       "      <td>0.336451</td>\n",
       "      <td>0.875417</td>\n",
       "      <td>9.905394</td>\n",
       "      <td>51.336154</td>\n",
       "      <td>0.010</td>\n",
       "      <td>1000</td>\n",
       "      <td>False</td>\n",
       "      <td>1</td>\n",
       "      <td>cpu</td>\n",
       "    </tr>\n",
       "    <tr>\n",
       "      <th>234</th>\n",
       "      <td>47</td>\n",
       "      <td>5</td>\n",
       "      <td>0.330765</td>\n",
       "      <td>0.876467</td>\n",
       "      <td>10.393890</td>\n",
       "      <td>52.667946</td>\n",
       "      <td>0.010</td>\n",
       "      <td>1000</td>\n",
       "      <td>False</td>\n",
       "      <td>4</td>\n",
       "      <td>cpu</td>\n",
       "    </tr>\n",
       "    <tr>\n",
       "      <th>24</th>\n",
       "      <td>5</td>\n",
       "      <td>5</td>\n",
       "      <td>0.327698</td>\n",
       "      <td>0.879467</td>\n",
       "      <td>10.274865</td>\n",
       "      <td>48.206156</td>\n",
       "      <td>0.010</td>\n",
       "      <td>1000</td>\n",
       "      <td>True</td>\n",
       "      <td>2</td>\n",
       "      <td>cpu</td>\n",
       "    </tr>\n",
       "  </tbody>\n",
       "</table>\n",
       "<p>480 rows × 11 columns</p>\n",
       "</div>"
      ],
      "text/plain": [
       "     run  epoch      loss  accuracy  epoch duration  run duration     lr  \\\n",
       "455   92      1  2.156468  0.239350        5.617794      6.793147  0.001   \n",
       "450   91      1  2.065797  0.244317        9.751034     10.910103  0.001   \n",
       "430   87      1  2.122646  0.276667       10.189364     12.269402  0.001   \n",
       "475   96      1  2.131144  0.280117        4.076670      6.044702  0.001   \n",
       "445   90      1  1.998803  0.305417        5.727273      5.907264  0.001   \n",
       "..   ...    ...       ...       ...             ...           ...    ...   \n",
       "64    13      5  0.346743  0.873517       10.065406     51.759675  0.010   \n",
       "29     6      5  0.335691  0.873533        4.062713     22.109782  0.010   \n",
       "214   43      5  0.336451  0.875417        9.905394     51.336154  0.010   \n",
       "234   47      5  0.330765  0.876467       10.393890     52.667946  0.010   \n",
       "24     5      5  0.327698  0.879467       10.274865     48.206156  0.010   \n",
       "\n",
       "     batch_size  shuffle  num_workers device  \n",
       "455        2000    False            1   cuda  \n",
       "450        2000    False            1    cpu  \n",
       "430        2000     True            4    cpu  \n",
       "475        2000    False            4   cuda  \n",
       "445        2000    False            0   cuda  \n",
       "..          ...      ...          ...    ...  \n",
       "64         1000    False            2    cpu  \n",
       "29         1000     True            2   cuda  \n",
       "214        1000    False            1    cpu  \n",
       "234        1000    False            4    cpu  \n",
       "24         1000     True            2    cpu  \n",
       "\n",
       "[480 rows x 11 columns]"
      ]
     },
     "execution_count": 82,
     "metadata": {},
     "output_type": "execute_result"
    }
   ],
   "source": [
    "pd.DataFrame.from_dict(m.run_data, orient = 'columns').sort_values('accuracy')"
   ]
  },
  {
   "cell_type": "code",
   "execution_count": null,
   "metadata": {},
   "outputs": [],
   "source": []
  }
 ],
 "metadata": {
  "colab": {
   "collapsed_sections": [
    "BXrhgTjFG0uz",
    "pIRtFQXsk4kE",
    "w6tvopWYR4VU"
   ],
   "name": "Fashion -MNIST",
   "provenance": []
  },
  "kernelspec": {
   "display_name": "Python 3",
   "language": "python",
   "name": "python3"
  },
  "language_info": {
   "codemirror_mode": {
    "name": "ipython",
    "version": 3
   },
   "file_extension": ".py",
   "mimetype": "text/x-python",
   "name": "python",
   "nbconvert_exporter": "python",
   "pygments_lexer": "ipython3",
   "version": "3.8.8"
  },
  "widgets": {
   "application/vnd.jupyter.widget-state+json": {
    "0ac14e06fc2f4793ad44354e6c709499": {
     "model_module": "@jupyter-widgets/base",
     "model_name": "LayoutModel",
     "state": {
      "_model_module": "@jupyter-widgets/base",
      "_model_module_version": "1.2.0",
      "_model_name": "LayoutModel",
      "_view_count": null,
      "_view_module": "@jupyter-widgets/base",
      "_view_module_version": "1.2.0",
      "_view_name": "LayoutView",
      "align_content": null,
      "align_items": null,
      "align_self": null,
      "border": null,
      "bottom": null,
      "display": null,
      "flex": null,
      "flex_flow": null,
      "grid_area": null,
      "grid_auto_columns": null,
      "grid_auto_flow": null,
      "grid_auto_rows": null,
      "grid_column": null,
      "grid_gap": null,
      "grid_row": null,
      "grid_template_areas": null,
      "grid_template_columns": null,
      "grid_template_rows": null,
      "height": null,
      "justify_content": null,
      "justify_items": null,
      "left": null,
      "margin": null,
      "max_height": null,
      "max_width": null,
      "min_height": null,
      "min_width": null,
      "object_fit": null,
      "object_position": null,
      "order": null,
      "overflow": null,
      "overflow_x": null,
      "overflow_y": null,
      "padding": null,
      "right": null,
      "top": null,
      "visibility": null,
      "width": null
     }
    },
    "0c778670e477433f8b2af7cfde745da8": {
     "model_module": "@jupyter-widgets/base",
     "model_name": "LayoutModel",
     "state": {
      "_model_module": "@jupyter-widgets/base",
      "_model_module_version": "1.2.0",
      "_model_name": "LayoutModel",
      "_view_count": null,
      "_view_module": "@jupyter-widgets/base",
      "_view_module_version": "1.2.0",
      "_view_name": "LayoutView",
      "align_content": null,
      "align_items": null,
      "align_self": null,
      "border": null,
      "bottom": null,
      "display": null,
      "flex": null,
      "flex_flow": null,
      "grid_area": null,
      "grid_auto_columns": null,
      "grid_auto_flow": null,
      "grid_auto_rows": null,
      "grid_column": null,
      "grid_gap": null,
      "grid_row": null,
      "grid_template_areas": null,
      "grid_template_columns": null,
      "grid_template_rows": null,
      "height": null,
      "justify_content": null,
      "justify_items": null,
      "left": null,
      "margin": null,
      "max_height": null,
      "max_width": null,
      "min_height": null,
      "min_width": null,
      "object_fit": null,
      "object_position": null,
      "order": null,
      "overflow": null,
      "overflow_x": null,
      "overflow_y": null,
      "padding": null,
      "right": null,
      "top": null,
      "visibility": null,
      "width": null
     }
    },
    "1e81809797e64e5b811e3961e2846655": {
     "model_module": "@jupyter-widgets/base",
     "model_name": "LayoutModel",
     "state": {
      "_model_module": "@jupyter-widgets/base",
      "_model_module_version": "1.2.0",
      "_model_name": "LayoutModel",
      "_view_count": null,
      "_view_module": "@jupyter-widgets/base",
      "_view_module_version": "1.2.0",
      "_view_name": "LayoutView",
      "align_content": null,
      "align_items": null,
      "align_self": null,
      "border": null,
      "bottom": null,
      "display": null,
      "flex": null,
      "flex_flow": null,
      "grid_area": null,
      "grid_auto_columns": null,
      "grid_auto_flow": null,
      "grid_auto_rows": null,
      "grid_column": null,
      "grid_gap": null,
      "grid_row": null,
      "grid_template_areas": null,
      "grid_template_columns": null,
      "grid_template_rows": null,
      "height": null,
      "justify_content": null,
      "justify_items": null,
      "left": null,
      "margin": null,
      "max_height": null,
      "max_width": null,
      "min_height": null,
      "min_width": null,
      "object_fit": null,
      "object_position": null,
      "order": null,
      "overflow": null,
      "overflow_x": null,
      "overflow_y": null,
      "padding": null,
      "right": null,
      "top": null,
      "visibility": null,
      "width": null
     }
    },
    "1f42157c5fb44849a78d12bff18b9f7a": {
     "model_module": "@jupyter-widgets/controls",
     "model_name": "FloatProgressModel",
     "state": {
      "_dom_classes": [],
      "_model_module": "@jupyter-widgets/controls",
      "_model_module_version": "1.5.0",
      "_model_name": "FloatProgressModel",
      "_view_count": null,
      "_view_module": "@jupyter-widgets/controls",
      "_view_module_version": "1.5.0",
      "_view_name": "ProgressView",
      "bar_style": "success",
      "description": "",
      "description_tooltip": null,
      "layout": "IPY_MODEL_1e81809797e64e5b811e3961e2846655",
      "max": 5148,
      "min": 0,
      "orientation": "horizontal",
      "style": "IPY_MODEL_f51cee8f47c144d68f4b35240a3339d9",
      "value": 5148
     }
    },
    "21bb443e7ff6459bad933287f03e98d2": {
     "model_module": "@jupyter-widgets/controls",
     "model_name": "HBoxModel",
     "state": {
      "_dom_classes": [],
      "_model_module": "@jupyter-widgets/controls",
      "_model_module_version": "1.5.0",
      "_model_name": "HBoxModel",
      "_view_count": null,
      "_view_module": "@jupyter-widgets/controls",
      "_view_module_version": "1.5.0",
      "_view_name": "HBoxView",
      "box_style": "",
      "children": [
       "IPY_MODEL_1f42157c5fb44849a78d12bff18b9f7a",
       "IPY_MODEL_6b76d137b75e4344b0b4d49f27fca9b9"
      ],
      "layout": "IPY_MODEL_3d148d4d57ff4298920daf031b3fa78d"
     }
    },
    "2416d93c5f0c4437b1218c27aaf8cf17": {
     "model_module": "@jupyter-widgets/base",
     "model_name": "LayoutModel",
     "state": {
      "_model_module": "@jupyter-widgets/base",
      "_model_module_version": "1.2.0",
      "_model_name": "LayoutModel",
      "_view_count": null,
      "_view_module": "@jupyter-widgets/base",
      "_view_module_version": "1.2.0",
      "_view_name": "LayoutView",
      "align_content": null,
      "align_items": null,
      "align_self": null,
      "border": null,
      "bottom": null,
      "display": null,
      "flex": null,
      "flex_flow": null,
      "grid_area": null,
      "grid_auto_columns": null,
      "grid_auto_flow": null,
      "grid_auto_rows": null,
      "grid_column": null,
      "grid_gap": null,
      "grid_row": null,
      "grid_template_areas": null,
      "grid_template_columns": null,
      "grid_template_rows": null,
      "height": null,
      "justify_content": null,
      "justify_items": null,
      "left": null,
      "margin": null,
      "max_height": null,
      "max_width": null,
      "min_height": null,
      "min_width": null,
      "object_fit": null,
      "object_position": null,
      "order": null,
      "overflow": null,
      "overflow_x": null,
      "overflow_y": null,
      "padding": null,
      "right": null,
      "top": null,
      "visibility": null,
      "width": null
     }
    },
    "3d148d4d57ff4298920daf031b3fa78d": {
     "model_module": "@jupyter-widgets/base",
     "model_name": "LayoutModel",
     "state": {
      "_model_module": "@jupyter-widgets/base",
      "_model_module_version": "1.2.0",
      "_model_name": "LayoutModel",
      "_view_count": null,
      "_view_module": "@jupyter-widgets/base",
      "_view_module_version": "1.2.0",
      "_view_name": "LayoutView",
      "align_content": null,
      "align_items": null,
      "align_self": null,
      "border": null,
      "bottom": null,
      "display": null,
      "flex": null,
      "flex_flow": null,
      "grid_area": null,
      "grid_auto_columns": null,
      "grid_auto_flow": null,
      "grid_auto_rows": null,
      "grid_column": null,
      "grid_gap": null,
      "grid_row": null,
      "grid_template_areas": null,
      "grid_template_columns": null,
      "grid_template_rows": null,
      "height": null,
      "justify_content": null,
      "justify_items": null,
      "left": null,
      "margin": null,
      "max_height": null,
      "max_width": null,
      "min_height": null,
      "min_width": null,
      "object_fit": null,
      "object_position": null,
      "order": null,
      "overflow": null,
      "overflow_x": null,
      "overflow_y": null,
      "padding": null,
      "right": null,
      "top": null,
      "visibility": null,
      "width": null
     }
    },
    "3f01e2e92edf4ed2a427e6a985e3e921": {
     "model_module": "@jupyter-widgets/controls",
     "model_name": "DescriptionStyleModel",
     "state": {
      "_model_module": "@jupyter-widgets/controls",
      "_model_module_version": "1.5.0",
      "_model_name": "DescriptionStyleModel",
      "_view_count": null,
      "_view_module": "@jupyter-widgets/base",
      "_view_module_version": "1.2.0",
      "_view_name": "StyleView",
      "description_width": ""
     }
    },
    "4bd0e72cf03d4ef99ff83fc3840c6d80": {
     "model_module": "@jupyter-widgets/controls",
     "model_name": "DescriptionStyleModel",
     "state": {
      "_model_module": "@jupyter-widgets/controls",
      "_model_module_version": "1.5.0",
      "_model_name": "DescriptionStyleModel",
      "_view_count": null,
      "_view_module": "@jupyter-widgets/base",
      "_view_module_version": "1.2.0",
      "_view_name": "StyleView",
      "description_width": ""
     }
    },
    "583b6c6f7340488e8c85c0eb1fd89d23": {
     "model_module": "@jupyter-widgets/controls",
     "model_name": "DescriptionStyleModel",
     "state": {
      "_model_module": "@jupyter-widgets/controls",
      "_model_module_version": "1.5.0",
      "_model_name": "DescriptionStyleModel",
      "_view_count": null,
      "_view_module": "@jupyter-widgets/base",
      "_view_module_version": "1.2.0",
      "_view_name": "StyleView",
      "description_width": ""
     }
    },
    "58eeb471f15445c8b3a274b9c3aaaf2f": {
     "model_module": "@jupyter-widgets/controls",
     "model_name": "ProgressStyleModel",
     "state": {
      "_model_module": "@jupyter-widgets/controls",
      "_model_module_version": "1.5.0",
      "_model_name": "ProgressStyleModel",
      "_view_count": null,
      "_view_module": "@jupyter-widgets/base",
      "_view_module_version": "1.2.0",
      "_view_name": "StyleView",
      "bar_color": null,
      "description_width": "initial"
     }
    },
    "68c6acfdc844472c9823350064eee16d": {
     "model_module": "@jupyter-widgets/base",
     "model_name": "LayoutModel",
     "state": {
      "_model_module": "@jupyter-widgets/base",
      "_model_module_version": "1.2.0",
      "_model_name": "LayoutModel",
      "_view_count": null,
      "_view_module": "@jupyter-widgets/base",
      "_view_module_version": "1.2.0",
      "_view_name": "LayoutView",
      "align_content": null,
      "align_items": null,
      "align_self": null,
      "border": null,
      "bottom": null,
      "display": null,
      "flex": null,
      "flex_flow": null,
      "grid_area": null,
      "grid_auto_columns": null,
      "grid_auto_flow": null,
      "grid_auto_rows": null,
      "grid_column": null,
      "grid_gap": null,
      "grid_row": null,
      "grid_template_areas": null,
      "grid_template_columns": null,
      "grid_template_rows": null,
      "height": null,
      "justify_content": null,
      "justify_items": null,
      "left": null,
      "margin": null,
      "max_height": null,
      "max_width": null,
      "min_height": null,
      "min_width": null,
      "object_fit": null,
      "object_position": null,
      "order": null,
      "overflow": null,
      "overflow_x": null,
      "overflow_y": null,
      "padding": null,
      "right": null,
      "top": null,
      "visibility": null,
      "width": null
     }
    },
    "6b76d137b75e4344b0b4d49f27fca9b9": {
     "model_module": "@jupyter-widgets/controls",
     "model_name": "HTMLModel",
     "state": {
      "_dom_classes": [],
      "_model_module": "@jupyter-widgets/controls",
      "_model_module_version": "1.5.0",
      "_model_name": "HTMLModel",
      "_view_count": null,
      "_view_module": "@jupyter-widgets/controls",
      "_view_module_version": "1.5.0",
      "_view_name": "HTMLView",
      "description": "",
      "description_tooltip": null,
      "layout": "IPY_MODEL_97302b7800c44da5a26eb685666f4b1c",
      "placeholder": "​",
      "style": "IPY_MODEL_3f01e2e92edf4ed2a427e6a985e3e921",
      "value": " 6144/? [00:00&lt;00:00, 25490.28it/s]"
     }
    },
    "70fda96397bf403197f1d14851f5d956": {
     "model_module": "@jupyter-widgets/controls",
     "model_name": "HTMLModel",
     "state": {
      "_dom_classes": [],
      "_model_module": "@jupyter-widgets/controls",
      "_model_module_version": "1.5.0",
      "_model_name": "HTMLModel",
      "_view_count": null,
      "_view_module": "@jupyter-widgets/controls",
      "_view_module_version": "1.5.0",
      "_view_name": "HTMLView",
      "description": "",
      "description_tooltip": null,
      "layout": "IPY_MODEL_0ac14e06fc2f4793ad44354e6c709499",
      "placeholder": "​",
      "style": "IPY_MODEL_d3c18772dc724e8ebf714ff686af3155",
      "value": " 4422656/? [00:01&lt;00:00, 2429536.91it/s]"
     }
    },
    "744cd03be9d7438cbc173479aaa6f08f": {
     "model_module": "@jupyter-widgets/controls",
     "model_name": "HBoxModel",
     "state": {
      "_dom_classes": [],
      "_model_module": "@jupyter-widgets/controls",
      "_model_module_version": "1.5.0",
      "_model_name": "HBoxModel",
      "_view_count": null,
      "_view_module": "@jupyter-widgets/controls",
      "_view_module_version": "1.5.0",
      "_view_name": "HBoxView",
      "box_style": "",
      "children": [
       "IPY_MODEL_74be6a0d694541e983973f44e486610b",
       "IPY_MODEL_88832844280c4fd2a1953651b33069f2"
      ],
      "layout": "IPY_MODEL_d687d8fac8ca4d82922f14a81cefad27"
     }
    },
    "74be6a0d694541e983973f44e486610b": {
     "model_module": "@jupyter-widgets/controls",
     "model_name": "FloatProgressModel",
     "state": {
      "_dom_classes": [],
      "_model_module": "@jupyter-widgets/controls",
      "_model_module_version": "1.5.0",
      "_model_name": "FloatProgressModel",
      "_view_count": null,
      "_view_module": "@jupyter-widgets/controls",
      "_view_module_version": "1.5.0",
      "_view_name": "ProgressView",
      "bar_style": "success",
      "description": "",
      "description_tooltip": null,
      "layout": "IPY_MODEL_0c778670e477433f8b2af7cfde745da8",
      "max": 29515,
      "min": 0,
      "orientation": "horizontal",
      "style": "IPY_MODEL_c636de35adb74d0f9325db09301551df",
      "value": 29515
     }
    },
    "7ae21dccb1b74efaa75fc0c7f4139972": {
     "model_module": "@jupyter-widgets/controls",
     "model_name": "HBoxModel",
     "state": {
      "_dom_classes": [],
      "_model_module": "@jupyter-widgets/controls",
      "_model_module_version": "1.5.0",
      "_model_name": "HBoxModel",
      "_view_count": null,
      "_view_module": "@jupyter-widgets/controls",
      "_view_module_version": "1.5.0",
      "_view_name": "HBoxView",
      "box_style": "",
      "children": [
       "IPY_MODEL_c1a39a61d3a94bfc9aacba6e54ae41c2",
       "IPY_MODEL_70fda96397bf403197f1d14851f5d956"
      ],
      "layout": "IPY_MODEL_a42b4a914da742109430f68d14983df5"
     }
    },
    "8565bdaceafe4951ab39751e7d0a2793": {
     "model_module": "@jupyter-widgets/controls",
     "model_name": "HTMLModel",
     "state": {
      "_dom_classes": [],
      "_model_module": "@jupyter-widgets/controls",
      "_model_module_version": "1.5.0",
      "_model_name": "HTMLModel",
      "_view_count": null,
      "_view_module": "@jupyter-widgets/controls",
      "_view_module_version": "1.5.0",
      "_view_name": "HTMLView",
      "description": "",
      "description_tooltip": null,
      "layout": "IPY_MODEL_ddfdedafa206448a9f4023ee8715fdec",
      "placeholder": "​",
      "style": "IPY_MODEL_583b6c6f7340488e8c85c0eb1fd89d23",
      "value": " 26422272/? [00:04&lt;00:00, 5520634.07it/s]"
     }
    },
    "88832844280c4fd2a1953651b33069f2": {
     "model_module": "@jupyter-widgets/controls",
     "model_name": "HTMLModel",
     "state": {
      "_dom_classes": [],
      "_model_module": "@jupyter-widgets/controls",
      "_model_module_version": "1.5.0",
      "_model_name": "HTMLModel",
      "_view_count": null,
      "_view_module": "@jupyter-widgets/controls",
      "_view_module_version": "1.5.0",
      "_view_name": "HTMLView",
      "description": "",
      "description_tooltip": null,
      "layout": "IPY_MODEL_2416d93c5f0c4437b1218c27aaf8cf17",
      "placeholder": "​",
      "style": "IPY_MODEL_4bd0e72cf03d4ef99ff83fc3840c6d80",
      "value": " 29696/? [00:00&lt;00:00, 56346.27it/s]"
     }
    },
    "97302b7800c44da5a26eb685666f4b1c": {
     "model_module": "@jupyter-widgets/base",
     "model_name": "LayoutModel",
     "state": {
      "_model_module": "@jupyter-widgets/base",
      "_model_module_version": "1.2.0",
      "_model_name": "LayoutModel",
      "_view_count": null,
      "_view_module": "@jupyter-widgets/base",
      "_view_module_version": "1.2.0",
      "_view_name": "LayoutView",
      "align_content": null,
      "align_items": null,
      "align_self": null,
      "border": null,
      "bottom": null,
      "display": null,
      "flex": null,
      "flex_flow": null,
      "grid_area": null,
      "grid_auto_columns": null,
      "grid_auto_flow": null,
      "grid_auto_rows": null,
      "grid_column": null,
      "grid_gap": null,
      "grid_row": null,
      "grid_template_areas": null,
      "grid_template_columns": null,
      "grid_template_rows": null,
      "height": null,
      "justify_content": null,
      "justify_items": null,
      "left": null,
      "margin": null,
      "max_height": null,
      "max_width": null,
      "min_height": null,
      "min_width": null,
      "object_fit": null,
      "object_position": null,
      "order": null,
      "overflow": null,
      "overflow_x": null,
      "overflow_y": null,
      "padding": null,
      "right": null,
      "top": null,
      "visibility": null,
      "width": null
     }
    },
    "988c2ca3586c4f149cf8387c71d8aa2b": {
     "model_module": "@jupyter-widgets/controls",
     "model_name": "FloatProgressModel",
     "state": {
      "_dom_classes": [],
      "_model_module": "@jupyter-widgets/controls",
      "_model_module_version": "1.5.0",
      "_model_name": "FloatProgressModel",
      "_view_count": null,
      "_view_module": "@jupyter-widgets/controls",
      "_view_module_version": "1.5.0",
      "_view_name": "ProgressView",
      "bar_style": "success",
      "description": "",
      "description_tooltip": null,
      "layout": "IPY_MODEL_68c6acfdc844472c9823350064eee16d",
      "max": 26421880,
      "min": 0,
      "orientation": "horizontal",
      "style": "IPY_MODEL_58eeb471f15445c8b3a274b9c3aaaf2f",
      "value": 26421880
     }
    },
    "a42b4a914da742109430f68d14983df5": {
     "model_module": "@jupyter-widgets/base",
     "model_name": "LayoutModel",
     "state": {
      "_model_module": "@jupyter-widgets/base",
      "_model_module_version": "1.2.0",
      "_model_name": "LayoutModel",
      "_view_count": null,
      "_view_module": "@jupyter-widgets/base",
      "_view_module_version": "1.2.0",
      "_view_name": "LayoutView",
      "align_content": null,
      "align_items": null,
      "align_self": null,
      "border": null,
      "bottom": null,
      "display": null,
      "flex": null,
      "flex_flow": null,
      "grid_area": null,
      "grid_auto_columns": null,
      "grid_auto_flow": null,
      "grid_auto_rows": null,
      "grid_column": null,
      "grid_gap": null,
      "grid_row": null,
      "grid_template_areas": null,
      "grid_template_columns": null,
      "grid_template_rows": null,
      "height": null,
      "justify_content": null,
      "justify_items": null,
      "left": null,
      "margin": null,
      "max_height": null,
      "max_width": null,
      "min_height": null,
      "min_width": null,
      "object_fit": null,
      "object_position": null,
      "order": null,
      "overflow": null,
      "overflow_x": null,
      "overflow_y": null,
      "padding": null,
      "right": null,
      "top": null,
      "visibility": null,
      "width": null
     }
    },
    "b48293faed504d58a1c9a38d6fd8bfef": {
     "model_module": "@jupyter-widgets/base",
     "model_name": "LayoutModel",
     "state": {
      "_model_module": "@jupyter-widgets/base",
      "_model_module_version": "1.2.0",
      "_model_name": "LayoutModel",
      "_view_count": null,
      "_view_module": "@jupyter-widgets/base",
      "_view_module_version": "1.2.0",
      "_view_name": "LayoutView",
      "align_content": null,
      "align_items": null,
      "align_self": null,
      "border": null,
      "bottom": null,
      "display": null,
      "flex": null,
      "flex_flow": null,
      "grid_area": null,
      "grid_auto_columns": null,
      "grid_auto_flow": null,
      "grid_auto_rows": null,
      "grid_column": null,
      "grid_gap": null,
      "grid_row": null,
      "grid_template_areas": null,
      "grid_template_columns": null,
      "grid_template_rows": null,
      "height": null,
      "justify_content": null,
      "justify_items": null,
      "left": null,
      "margin": null,
      "max_height": null,
      "max_width": null,
      "min_height": null,
      "min_width": null,
      "object_fit": null,
      "object_position": null,
      "order": null,
      "overflow": null,
      "overflow_x": null,
      "overflow_y": null,
      "padding": null,
      "right": null,
      "top": null,
      "visibility": null,
      "width": null
     }
    },
    "b665362b662c48bf8167a02a888f5927": {
     "model_module": "@jupyter-widgets/base",
     "model_name": "LayoutModel",
     "state": {
      "_model_module": "@jupyter-widgets/base",
      "_model_module_version": "1.2.0",
      "_model_name": "LayoutModel",
      "_view_count": null,
      "_view_module": "@jupyter-widgets/base",
      "_view_module_version": "1.2.0",
      "_view_name": "LayoutView",
      "align_content": null,
      "align_items": null,
      "align_self": null,
      "border": null,
      "bottom": null,
      "display": null,
      "flex": null,
      "flex_flow": null,
      "grid_area": null,
      "grid_auto_columns": null,
      "grid_auto_flow": null,
      "grid_auto_rows": null,
      "grid_column": null,
      "grid_gap": null,
      "grid_row": null,
      "grid_template_areas": null,
      "grid_template_columns": null,
      "grid_template_rows": null,
      "height": null,
      "justify_content": null,
      "justify_items": null,
      "left": null,
      "margin": null,
      "max_height": null,
      "max_width": null,
      "min_height": null,
      "min_width": null,
      "object_fit": null,
      "object_position": null,
      "order": null,
      "overflow": null,
      "overflow_x": null,
      "overflow_y": null,
      "padding": null,
      "right": null,
      "top": null,
      "visibility": null,
      "width": null
     }
    },
    "bbe76057e82641c5a1ed6f7d904d4751": {
     "model_module": "@jupyter-widgets/controls",
     "model_name": "HBoxModel",
     "state": {
      "_dom_classes": [],
      "_model_module": "@jupyter-widgets/controls",
      "_model_module_version": "1.5.0",
      "_model_name": "HBoxModel",
      "_view_count": null,
      "_view_module": "@jupyter-widgets/controls",
      "_view_module_version": "1.5.0",
      "_view_name": "HBoxView",
      "box_style": "",
      "children": [
       "IPY_MODEL_988c2ca3586c4f149cf8387c71d8aa2b",
       "IPY_MODEL_8565bdaceafe4951ab39751e7d0a2793"
      ],
      "layout": "IPY_MODEL_b665362b662c48bf8167a02a888f5927"
     }
    },
    "c1a39a61d3a94bfc9aacba6e54ae41c2": {
     "model_module": "@jupyter-widgets/controls",
     "model_name": "FloatProgressModel",
     "state": {
      "_dom_classes": [],
      "_model_module": "@jupyter-widgets/controls",
      "_model_module_version": "1.5.0",
      "_model_name": "FloatProgressModel",
      "_view_count": null,
      "_view_module": "@jupyter-widgets/controls",
      "_view_module_version": "1.5.0",
      "_view_name": "ProgressView",
      "bar_style": "success",
      "description": "",
      "description_tooltip": null,
      "layout": "IPY_MODEL_b48293faed504d58a1c9a38d6fd8bfef",
      "max": 4422102,
      "min": 0,
      "orientation": "horizontal",
      "style": "IPY_MODEL_de47dcbe7cd14f53beb10c068683ee19",
      "value": 4422102
     }
    },
    "c636de35adb74d0f9325db09301551df": {
     "model_module": "@jupyter-widgets/controls",
     "model_name": "ProgressStyleModel",
     "state": {
      "_model_module": "@jupyter-widgets/controls",
      "_model_module_version": "1.5.0",
      "_model_name": "ProgressStyleModel",
      "_view_count": null,
      "_view_module": "@jupyter-widgets/base",
      "_view_module_version": "1.2.0",
      "_view_name": "StyleView",
      "bar_color": null,
      "description_width": "initial"
     }
    },
    "d3c18772dc724e8ebf714ff686af3155": {
     "model_module": "@jupyter-widgets/controls",
     "model_name": "DescriptionStyleModel",
     "state": {
      "_model_module": "@jupyter-widgets/controls",
      "_model_module_version": "1.5.0",
      "_model_name": "DescriptionStyleModel",
      "_view_count": null,
      "_view_module": "@jupyter-widgets/base",
      "_view_module_version": "1.2.0",
      "_view_name": "StyleView",
      "description_width": ""
     }
    },
    "d687d8fac8ca4d82922f14a81cefad27": {
     "model_module": "@jupyter-widgets/base",
     "model_name": "LayoutModel",
     "state": {
      "_model_module": "@jupyter-widgets/base",
      "_model_module_version": "1.2.0",
      "_model_name": "LayoutModel",
      "_view_count": null,
      "_view_module": "@jupyter-widgets/base",
      "_view_module_version": "1.2.0",
      "_view_name": "LayoutView",
      "align_content": null,
      "align_items": null,
      "align_self": null,
      "border": null,
      "bottom": null,
      "display": null,
      "flex": null,
      "flex_flow": null,
      "grid_area": null,
      "grid_auto_columns": null,
      "grid_auto_flow": null,
      "grid_auto_rows": null,
      "grid_column": null,
      "grid_gap": null,
      "grid_row": null,
      "grid_template_areas": null,
      "grid_template_columns": null,
      "grid_template_rows": null,
      "height": null,
      "justify_content": null,
      "justify_items": null,
      "left": null,
      "margin": null,
      "max_height": null,
      "max_width": null,
      "min_height": null,
      "min_width": null,
      "object_fit": null,
      "object_position": null,
      "order": null,
      "overflow": null,
      "overflow_x": null,
      "overflow_y": null,
      "padding": null,
      "right": null,
      "top": null,
      "visibility": null,
      "width": null
     }
    },
    "ddfdedafa206448a9f4023ee8715fdec": {
     "model_module": "@jupyter-widgets/base",
     "model_name": "LayoutModel",
     "state": {
      "_model_module": "@jupyter-widgets/base",
      "_model_module_version": "1.2.0",
      "_model_name": "LayoutModel",
      "_view_count": null,
      "_view_module": "@jupyter-widgets/base",
      "_view_module_version": "1.2.0",
      "_view_name": "LayoutView",
      "align_content": null,
      "align_items": null,
      "align_self": null,
      "border": null,
      "bottom": null,
      "display": null,
      "flex": null,
      "flex_flow": null,
      "grid_area": null,
      "grid_auto_columns": null,
      "grid_auto_flow": null,
      "grid_auto_rows": null,
      "grid_column": null,
      "grid_gap": null,
      "grid_row": null,
      "grid_template_areas": null,
      "grid_template_columns": null,
      "grid_template_rows": null,
      "height": null,
      "justify_content": null,
      "justify_items": null,
      "left": null,
      "margin": null,
      "max_height": null,
      "max_width": null,
      "min_height": null,
      "min_width": null,
      "object_fit": null,
      "object_position": null,
      "order": null,
      "overflow": null,
      "overflow_x": null,
      "overflow_y": null,
      "padding": null,
      "right": null,
      "top": null,
      "visibility": null,
      "width": null
     }
    },
    "de47dcbe7cd14f53beb10c068683ee19": {
     "model_module": "@jupyter-widgets/controls",
     "model_name": "ProgressStyleModel",
     "state": {
      "_model_module": "@jupyter-widgets/controls",
      "_model_module_version": "1.5.0",
      "_model_name": "ProgressStyleModel",
      "_view_count": null,
      "_view_module": "@jupyter-widgets/base",
      "_view_module_version": "1.2.0",
      "_view_name": "StyleView",
      "bar_color": null,
      "description_width": "initial"
     }
    },
    "f51cee8f47c144d68f4b35240a3339d9": {
     "model_module": "@jupyter-widgets/controls",
     "model_name": "ProgressStyleModel",
     "state": {
      "_model_module": "@jupyter-widgets/controls",
      "_model_module_version": "1.5.0",
      "_model_name": "ProgressStyleModel",
      "_view_count": null,
      "_view_module": "@jupyter-widgets/base",
      "_view_module_version": "1.2.0",
      "_view_name": "StyleView",
      "bar_color": null,
      "description_width": "initial"
     }
    }
   }
  }
 },
 "nbformat": 4,
 "nbformat_minor": 1
}
