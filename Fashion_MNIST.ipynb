{
 "cells": [
  {
   "cell_type": "markdown",
   "metadata": {
    "id": "BXrhgTjFG0uz"
   },
   "source": [
    "## WE WILL WORK WITH THE FASHION -MNIST DATASET & WILL FOLLOW THE FOLLOWING PROCESS;\n",
    "#### 1. PREPARE DATA\n",
    "#### 2. BUILD MODEL\n",
    "#### 3. TRAIN MODEL\n",
    "#### 4. ANALYZE THE MODEL'S RESULTS\n",
    "\n",
    "<br>\n",
    "<br>\n",
    "<br>\n",
    "\n"
   ]
  },
  {
   "cell_type": "markdown",
   "metadata": {
    "id": "qBQyzzreFn74"
   },
   "source": [
    "## **1. PREPARE DATA**\n",
    "#### We will use the ETL process to prepare data\n",
    "#### EXTRACT, TRANSFORM, LOAD - ETL process\n",
    "#### Extract the data from the source, transform it into its desirable form, load the data into a suitable structure for querrying and analysis "
   ]
  },
  {
   "cell_type": "code",
   "execution_count": 403,
   "metadata": {
    "id": "AkR6P_dyAk-q"
   },
   "outputs": [],
   "source": [
    "import torch   ## Top-level pytorch package in the tensor library\n",
    "import torchvision  ## Package that provides access to popular datasets, model architectures and image trasformations for computer vision\n",
    "import torchvision.transforms as transforms ## An interface that gives us acess to common tranformations for our image processing"
   ]
  },
  {
   "cell_type": "markdown",
   "metadata": {
    "id": "_BQfpkh1KQTU"
   },
   "source": [
    "#### EXTRACT (Get data from its source)"
   ]
  },
  {
   "cell_type": "code",
   "execution_count": 404,
   "metadata": {
    "colab": {
     "base_uri": "https://localhost:8080/",
     "height": 534,
     "referenced_widgets": [
      "bbe76057e82641c5a1ed6f7d904d4751",
      "b665362b662c48bf8167a02a888f5927",
      "988c2ca3586c4f149cf8387c71d8aa2b",
      "8565bdaceafe4951ab39751e7d0a2793",
      "58eeb471f15445c8b3a274b9c3aaaf2f",
      "68c6acfdc844472c9823350064eee16d",
      "583b6c6f7340488e8c85c0eb1fd89d23",
      "ddfdedafa206448a9f4023ee8715fdec",
      "744cd03be9d7438cbc173479aaa6f08f",
      "d687d8fac8ca4d82922f14a81cefad27",
      "74be6a0d694541e983973f44e486610b",
      "88832844280c4fd2a1953651b33069f2",
      "c636de35adb74d0f9325db09301551df",
      "0c778670e477433f8b2af7cfde745da8",
      "4bd0e72cf03d4ef99ff83fc3840c6d80",
      "2416d93c5f0c4437b1218c27aaf8cf17",
      "7ae21dccb1b74efaa75fc0c7f4139972",
      "a42b4a914da742109430f68d14983df5",
      "c1a39a61d3a94bfc9aacba6e54ae41c2",
      "70fda96397bf403197f1d14851f5d956",
      "de47dcbe7cd14f53beb10c068683ee19",
      "b48293faed504d58a1c9a38d6fd8bfef",
      "d3c18772dc724e8ebf714ff686af3155",
      "0ac14e06fc2f4793ad44354e6c709499",
      "21bb443e7ff6459bad933287f03e98d2",
      "3d148d4d57ff4298920daf031b3fa78d",
      "1f42157c5fb44849a78d12bff18b9f7a",
      "6b76d137b75e4344b0b4d49f27fca9b9",
      "f51cee8f47c144d68f4b35240a3339d9",
      "1e81809797e64e5b811e3961e2846655",
      "3f01e2e92edf4ed2a427e6a985e3e921",
      "97302b7800c44da5a26eb685666f4b1c"
     ]
    },
    "id": "6joXzUH0PlMu",
    "outputId": "7f18a29b-fec1-4b96-8741-a1895ce24d1b"
   },
   "outputs": [],
   "source": [
    "## Let's create our fashionMNIST dataset instance\n",
    "\n",
    "    ##==================================================================================================\n",
    "    ##EXTRACT \n",
    "    ##==================================================================================================\n",
    "train_set = torchvision.datasets.FashionMNIST(\n",
    "    root =  \"./data/FashinMNIST\", ## This tells it where to load the data from if its there\n",
    "    train = True, ## This tells we want the training set\n",
    "    download = True, ## This tells the class to download the data if its not present in the location we specified.\n",
    "    ##==================================================================================================\n",
    "    ##TRANSFORM   (Convert the data into tensor form)\n",
    "    ##==================================================================================================\n",
    "    transform = transforms.Compose([transforms.ToTensor()])) ## Here we pass a composition of transformations that should be performed on the datasets\n",
    "                                                             ## We use ToTensor() transformation since we want our images to be transformed to tensors"
   ]
  },
  {
   "cell_type": "markdown",
   "metadata": {
    "id": "B86VligfKRi3"
   },
   "source": [
    "#### LOAD (Put the data into an object to make it easily accessible)"
   ]
  },
  {
   "cell_type": "code",
   "execution_count": 405,
   "metadata": {
    "id": "mQD53xm0KN5w"
   },
   "outputs": [],
   "source": [
    " ##==================================================================================================\n",
    " ##LOAD \n",
    " ##==================================================================================================\n",
    "train_loader = torch.utils.data.DataLoader(train_set) ##This wraps the dataset up inside the dataloader object instance\n",
    "                                                      ## DataLoader gives us querrying capabilities\n",
    "                                                      ## Now we can leverage the laoder for tasks that would be otherwise very complicated to implement by hand\n",
    "                                                      ##E.g batchsize, thread management and shuffle capabilities"
   ]
  },
  {
   "cell_type": "markdown",
   "metadata": {
    "id": "9mA_yYN9nKzM"
   },
   "source": [
    "### PyTorch Datasets and DataLoaders - Training Set Exploration for Deep Learning"
   ]
  },
  {
   "cell_type": "code",
   "execution_count": 406,
   "metadata": {
    "id": "GN9bD7lSnQfo"
   },
   "outputs": [],
   "source": [
    "import torch   ## Top-level pytorch package in the tensor library\n",
    "import torchvision  ## Package that provides access to popular datasets, model architectures and image trasformations for computer vision\n",
    "import torchvision.transforms as transforms ## An interface that gives us acess to common tranformations for our image processing\n",
    "import numpy as np\n",
    "import matplotlib.pyplot as plt\n",
    "\n",
    "torch.set_printoptions(linewidth=120) ## Sets the linewidth for pytorch output that is printed to the console\n",
    "\n",
    "\n",
    "\n",
    "train_set = torchvision.datasets.FashionMNIST(\n",
    "    root =  \"./data/FashinMNIST\", ## This tells it where to load the data from if its there\n",
    "    train = True, ## This tells we want the training set\n",
    "    download = True, ## This tells the class to download the data if its not present in the location we specified.\n",
    "\n",
    "    transform = transforms.Compose([transforms.ToTensor()])) ## Here we pass a composition of transformations that should be performed on the datasets\n",
    "                                                             ## We use ToTensor() transformation since we want our images to be transformed to tensors"
   ]
  },
  {
   "cell_type": "code",
   "execution_count": 407,
   "metadata": {
    "id": "2bRvY_dUoCUD"
   },
   "outputs": [],
   "source": [
    "\n",
    "train_set = torchvision.datasets.FashionMNIST(\n",
    "    root =  \"./data/FashinMNIST\", ## This tells it where to load the data from if its there\n",
    "    train = True, ## This tells we want the training set\n",
    "    download = True, ## This tells the class to download the data if its not present in the location we specified.\n",
    "\n",
    "    transform = transforms.Compose([transforms.ToTensor()])) ## Here we pass a composition of transformations that should be performed on the datasets\n",
    "                                                             ## We use ToTensor() transformation since we want our images to be transformed to tensors"
   ]
  },
  {
   "cell_type": "code",
   "execution_count": 408,
   "metadata": {
    "id": "Uqzkc2gIoC-X"
   },
   "outputs": [],
   "source": [
    "train_loader = torch.utils.data.DataLoader(train_set, batch_size = 10) ##Here we specify the batch_size so we can look at many images\n",
    "                                                                       ## If we don't, we only get one image as it is the default\n",
    "                                                                       ## So in the ETL process above, we would only get one image                                            "
   ]
  },
  {
   "cell_type": "code",
   "execution_count": 409,
   "metadata": {
    "colab": {
     "base_uri": "https://localhost:8080/"
    },
    "id": "oPvxzhb_pZmc",
    "outputId": "297d1013-020c-43d7-9547-bd1cdb47d918"
   },
   "outputs": [
    {
     "data": {
      "text/plain": [
       "60000"
      ]
     },
     "execution_count": 409,
     "metadata": {},
     "output_type": "execute_result"
    }
   ],
   "source": [
    "len(train_set) ## This returns the number of images in the training set, which we already know is 60,000 from Fashion-MNST"
   ]
  },
  {
   "cell_type": "code",
   "execution_count": 410,
   "metadata": {
    "colab": {
     "base_uri": "https://localhost:8080/"
    },
    "id": "yx_OXIOLpe2Q",
    "outputId": "91a5d954-38c5-4ac4-b0a0-22e919924b4b"
   },
   "outputs": [
    {
     "data": {
      "text/plain": [
       "tensor([9, 0, 0,  ..., 3, 0, 5])"
      ]
     },
     "execution_count": 410,
     "metadata": {},
     "output_type": "execute_result"
    }
   ],
   "source": [
    "train_set.targets ##This gives us the target tensor of the dataset\n",
    "                  ##This would have been train_set.train_labels but was changed, now we use targets\n",
    "                  ##Encodes the actual class names or labels, 9 = ankleboot, 0 = T-shirt etc."
   ]
  },
  {
   "cell_type": "code",
   "execution_count": 411,
   "metadata": {
    "colab": {
     "base_uri": "https://localhost:8080/"
    },
    "id": "nqZDpcos5sKU",
    "outputId": "8a4e2456-2514-4d68-b4a5-838297338625"
   },
   "outputs": [
    {
     "data": {
      "text/plain": [
       "['T-shirt/top',\n",
       " 'Trouser',\n",
       " 'Pullover',\n",
       " 'Dress',\n",
       " 'Coat',\n",
       " 'Sandal',\n",
       " 'Shirt',\n",
       " 'Sneaker',\n",
       " 'Bag',\n",
       " 'Ankle boot']"
      ]
     },
     "execution_count": 411,
     "metadata": {},
     "output_type": "execute_result"
    }
   ],
   "source": [
    "train_set.classes ## We can check all the classes in our training set"
   ]
  },
  {
   "cell_type": "markdown",
   "metadata": {
    "id": "IdpAwnrR8B_o"
   },
   "source": [
    "### To know all the methods, decorators in train_set, we can run dir(train_set)"
   ]
  },
  {
   "cell_type": "code",
   "execution_count": 412,
   "metadata": {
    "colab": {
     "base_uri": "https://localhost:8080/"
    },
    "id": "bIGROagD8Plh",
    "outputId": "92017231-c23c-4034-8ab8-08e9d1bb66e3"
   },
   "outputs": [
    {
     "data": {
      "text/plain": [
       "['__add__',\n",
       " '__class__',\n",
       " '__class_getitem__',\n",
       " '__delattr__',\n",
       " '__dict__',\n",
       " '__dir__',\n",
       " '__doc__',\n",
       " '__eq__',\n",
       " '__format__',\n",
       " '__ge__',\n",
       " '__getattribute__',\n",
       " '__getitem__',\n",
       " '__gt__',\n",
       " '__hash__',\n",
       " '__init__',\n",
       " '__init_subclass__',\n",
       " '__le__',\n",
       " '__len__',\n",
       " '__lt__',\n",
       " '__module__',\n",
       " '__ne__',\n",
       " '__new__',\n",
       " '__orig_bases__',\n",
       " '__parameters__',\n",
       " '__reduce__',\n",
       " '__reduce_ex__',\n",
       " '__repr__',\n",
       " '__setattr__',\n",
       " '__sizeof__',\n",
       " '__slots__',\n",
       " '__str__',\n",
       " '__subclasshook__',\n",
       " '__weakref__',\n",
       " '_check_exists',\n",
       " '_format_transform_repr',\n",
       " '_is_protocol',\n",
       " '_repr_indent',\n",
       " 'class_to_idx',\n",
       " 'classes',\n",
       " 'data',\n",
       " 'download',\n",
       " 'extra_repr',\n",
       " 'mirrors',\n",
       " 'processed_folder',\n",
       " 'raw_folder',\n",
       " 'resources',\n",
       " 'root',\n",
       " 'target_transform',\n",
       " 'targets',\n",
       " 'test_data',\n",
       " 'test_file',\n",
       " 'test_labels',\n",
       " 'train',\n",
       " 'train_data',\n",
       " 'train_labels',\n",
       " 'training_file',\n",
       " 'transform',\n",
       " 'transforms']"
      ]
     },
     "execution_count": 412,
     "metadata": {},
     "output_type": "execute_result"
    }
   ],
   "source": [
    "dir(train_set)"
   ]
  },
  {
   "cell_type": "code",
   "execution_count": 413,
   "metadata": {
    "colab": {
     "base_uri": "https://localhost:8080/"
    },
    "id": "EJ5hIoHNpofi",
    "outputId": "8c727a58-9ce9-4d5e-d28c-9fc3f5502ad1"
   },
   "outputs": [
    {
     "data": {
      "text/plain": [
       "tensor([6000, 6000, 6000, 6000, 6000, 6000, 6000, 6000, 6000, 6000])"
      ]
     },
     "execution_count": 413,
     "metadata": {},
     "output_type": "execute_result"
    }
   ],
   "source": [
    "train_set.targets.bincount()##Here we create bins and count the frquency of occurances within each bin\n",
    "                            ##Calling this on the targets tensor gives the freq distrib of the values in the tensor\n",
    "                            ## The Fashion-MNST dataset is uniform with respect to the number of samples from each class (balanced)\n",
    "                            ## If the classes had varrying number of samples, the dataset would be unbalanced"
   ]
  },
  {
   "cell_type": "markdown",
   "metadata": {
    "id": "3UvobCSB5Itt"
   },
   "source": [
    "### We can make the train_set iterable and iterate over it"
   ]
  },
  {
   "cell_type": "code",
   "execution_count": 414,
   "metadata": {
    "colab": {
     "base_uri": "https://localhost:8080/"
    },
    "id": "xqJupb-Wp2oD",
    "outputId": "c146b4fc-2d56-4ae4-a1cd-891640265444"
   },
   "outputs": [
    {
     "data": {
      "text/plain": [
       "2"
      ]
     },
     "execution_count": 414,
     "metadata": {},
     "output_type": "execute_result"
    }
   ],
   "source": [
    "sample = next(iter(train_set))## This returns a single sample\n",
    "len(sample) ##The sample contains two items (image, label) each as a tensor"
   ]
  },
  {
   "cell_type": "code",
   "execution_count": 415,
   "metadata": {
    "colab": {
     "base_uri": "https://localhost:8080/"
    },
    "id": "Mc0PBUnO0Vg8",
    "outputId": "8b9c30b1-db96-4624-a9ba-30e5423ab6fa"
   },
   "outputs": [
    {
     "data": {
      "text/plain": [
       "tuple"
      ]
     },
     "execution_count": 415,
     "metadata": {},
     "output_type": "execute_result"
    }
   ],
   "source": [
    "type(sample) ## We can see that each element in the train_set is a tuple"
   ]
  },
  {
   "cell_type": "code",
   "execution_count": 416,
   "metadata": {
    "id": "wvcOWAjz0hb_"
   },
   "outputs": [],
   "source": [
    "# image = sample[0]\n",
    "# label = sample[1]\n",
    "image, label = sample ## We can use squence unpacking to assign the image and the label"
   ]
  },
  {
   "cell_type": "markdown",
   "metadata": {
    "id": "STTyYoEE3Buw"
   },
   "source": [
    "###### Checking the shapes of the image and label and then plotting the image"
   ]
  },
  {
   "cell_type": "code",
   "execution_count": 417,
   "metadata": {
    "colab": {
     "base_uri": "https://localhost:8080/"
    },
    "id": "bm-u-bEQ0q15",
    "outputId": "7935b2d8-4aeb-4204-e6b0-d1722b1b854a"
   },
   "outputs": [
    {
     "data": {
      "text/plain": [
       "torch.Size([1, 28, 28])"
      ]
     },
     "execution_count": 417,
     "metadata": {},
     "output_type": "execute_result"
    }
   ],
   "source": [
    "image.shape ##This is a grayscale image with a height and width of 28"
   ]
  },
  {
   "cell_type": "code",
   "execution_count": 418,
   "metadata": {
    "colab": {
     "base_uri": "https://localhost:8080/"
    },
    "id": "kddlCv633OWf",
    "outputId": "6134fbc0-a3d9-4443-d2b6-f76cf9adc6c2"
   },
   "outputs": [
    {
     "data": {
      "text/plain": [
       "int"
      ]
     },
     "execution_count": 418,
     "metadata": {},
     "output_type": "execute_result"
    }
   ],
   "source": [
    "type(label)## The label is given to us as an int so it does not have a shape"
   ]
  },
  {
   "cell_type": "code",
   "execution_count": 419,
   "metadata": {
    "colab": {
     "base_uri": "https://localhost:8080/",
     "height": 303
    },
    "id": "xsiLxk-83Peo",
    "outputId": "b72ba30c-f2cc-4640-eb7a-66f5a2641042"
   },
   "outputs": [
    {
     "data": {
      "text/plain": [
       "Text(0.5, 1.0, 'Label: 9')"
      ]
     },
     "execution_count": 419,
     "metadata": {},
     "output_type": "execute_result"
    },
    {
     "data": {
      "image/png": "[encoded data removed]",
      "text/plain": [
       "<Figure size 432x288 with 1 Axes>"
      ]
     },
     "metadata": {
      "needs_background": "light"
     },
     "output_type": "display_data"
    }
   ],
   "source": [
    "plt.imshow(image.squeeze(), cmap='gray') ##Here we squeeze off the color channel dimension and also specify the colormap to gray\n",
    "plt.title(\"Label: \" + str(label), fontsize =20)"
   ]
  },
  {
   "cell_type": "markdown",
   "metadata": {
    "id": "-jnWTh4z_Snp"
   },
   "source": [
    "## Working with batches and dataLoader"
   ]
  },
  {
   "cell_type": "code",
   "execution_count": 420,
   "metadata": {
    "colab": {
     "base_uri": "https://localhost:8080/"
    },
    "id": "MiHagjf4_cmD",
    "outputId": "2fcb2ebc-9fff-4a62-bbaa-9b0d3ed69d76"
   },
   "outputs": [
    {
     "data": {
      "text/plain": [
       "list"
      ]
     },
     "execution_count": 420,
     "metadata": {},
     "output_type": "execute_result"
    }
   ],
   "source": [
    "batch = next(iter(train_loader))##Iteraring over the batch\n",
    "type(batch)##Checking the type if the bacth"
   ]
  },
  {
   "cell_type": "code",
   "execution_count": 421,
   "metadata": {
    "colab": {
     "base_uri": "https://localhost:8080/"
    },
    "id": "gp08phfuVBhL",
    "outputId": "4a2f38cb-508d-4d84-aa46-1be337dce245"
   },
   "outputs": [
    {
     "data": {
      "text/plain": [
       "2"
      ]
     },
     "execution_count": 421,
     "metadata": {},
     "output_type": "execute_result"
    }
   ],
   "source": [
    "len(batch) ##Checking the batch"
   ]
  },
  {
   "cell_type": "code",
   "execution_count": 422,
   "metadata": {
    "id": "AOzttOMpVENo"
   },
   "outputs": [],
   "source": [
    "images, labels = batch ## upacking the images and labels into the variables"
   ]
  },
  {
   "cell_type": "code",
   "execution_count": 423,
   "metadata": {
    "colab": {
     "base_uri": "https://localhost:8080/"
    },
    "id": "jj6Ak7DtVIEN",
    "outputId": "0c8d731a-3466-497d-98a3-2b6e83e27122"
   },
   "outputs": [
    {
     "data": {
      "text/plain": [
       "torch.Size([10, 1, 28, 28])"
      ]
     },
     "execution_count": 423,
     "metadata": {},
     "output_type": "execute_result"
    }
   ],
   "source": [
    "images.shape #This shape is 10, 1, 28, 28 because there are 10 grayscale(1) images of height 28 and width 28 each"
   ]
  },
  {
   "cell_type": "code",
   "execution_count": 424,
   "metadata": {
    "colab": {
     "base_uri": "https://localhost:8080/"
    },
    "id": "mtX-zPvZVJey",
    "outputId": "be74a3e1-dcbe-4b10-d864-0c51e35f2a92"
   },
   "outputs": [
    {
     "data": {
      "text/plain": [
       "torch.Size([10])"
      ]
     },
     "execution_count": 424,
     "metadata": {},
     "output_type": "execute_result"
    }
   ],
   "source": [
    "labels.shape #This is a tensor containing labels to the ten images in the batch"
   ]
  },
  {
   "cell_type": "code",
   "execution_count": 425,
   "metadata": {
    "colab": {
     "base_uri": "https://localhost:8080/"
    },
    "id": "RjaO4CirpPhr",
    "outputId": "3f54f641-0f9d-4150-b4c0-006489a74af3"
   },
   "outputs": [
    {
     "data": {
      "text/plain": [
       "tensor([9, 0, 0, 3, 0, 2, 7, 2, 5, 5])"
      ]
     },
     "execution_count": 425,
     "metadata": {},
     "output_type": "execute_result"
    }
   ],
   "source": [
    "labels"
   ]
  },
  {
   "cell_type": "code",
   "execution_count": 426,
   "metadata": {
    "colab": {
     "base_uri": "https://localhost:8080/"
    },
    "id": "YnIlsfwxkVTk",
    "outputId": "3988d7c6-f3b6-405d-d227-c2a3a3c26234"
   },
   "outputs": [
    {
     "data": {
      "text/plain": [
       "['T-shirt/top',\n",
       " 'Trouser',\n",
       " 'Pullover',\n",
       " 'Dress',\n",
       " 'Coat',\n",
       " 'Sandal',\n",
       " 'Shirt',\n",
       " 'Sneaker',\n",
       " 'Bag',\n",
       " 'Ankle boot']"
      ]
     },
     "execution_count": 426,
     "metadata": {},
     "output_type": "execute_result"
    }
   ],
   "source": [
    "train_set.classes"
   ]
  },
  {
   "cell_type": "code",
   "execution_count": 427,
   "metadata": {
    "colab": {
     "base_uri": "https://localhost:8080/",
     "height": 297
    },
    "id": "y81UjL9aWHJz",
    "outputId": "d346caed-f66b-44ee-be02-65c8f8fb20c3"
   },
   "outputs": [
    {
     "data": {
      "text/plain": [
       "Text(0.5, 1.0, 'Labels:    [9, 0, 0, 3, 0, 2, 7, 2, 5, 5]')"
      ]
     },
     "execution_count": 427,
     "metadata": {},
     "output_type": "execute_result"
    },
    {
     "data": {
      "image/png": "[encoded data removed]",
      "text/plain": [
       "<Figure size 1080x1080 with 1 Axes>"
      ]
     },
     "metadata": {
      "needs_background": "light"
     },
     "output_type": "display_data"
    }
   ],
   "source": [
    "##Plotting all the images using the torchvision utility function\n",
    "\n",
    "grid = torchvision.utils.make_grid(images, nrows = 10)\n",
    "plt.figure(figsize=(15,15))\n",
    "plt.imshow(np.transpose(grid, (1,2,0)))\n",
    "plt.title(\"Labels:    \" + str(labels.tolist()), fontsize = 15)"
   ]
  },
  {
   "cell_type": "markdown",
   "metadata": {
    "id": "GwwZkCNKoMUJ"
   },
   "source": [
    "## BUILDING A SIMPLE NUERAL NETWORK(SAMPLE)"
   ]
  },
  {
   "cell_type": "code",
   "execution_count": 428,
   "metadata": {
    "colab": {
     "base_uri": "https://localhost:8080/"
    },
    "id": "57MvCK0goW0F",
    "outputId": "24b028c8-a247-4859-be41-3b0bde955ee6"
   },
   "outputs": [
    {
     "name": "stdout",
     "output_type": "stream",
     "text": [
      "Network(\n",
      "  (conv1): Conv2d(1, 6, kernel_size=(5, 5), stride=(1, 1))\n",
      "  (conv2): Conv2d(6, 12, kernel_size=(5, 5), stride=(1, 1))\n",
      "  (fc1): Linear(in_features=192, out_features=120, bias=True)\n",
      "  (fc2): Linear(in_features=120, out_features=60, bias=True)\n",
      "  (out): Linear(in_features=60, out_features=10, bias=True)\n",
      ")\n"
     ]
    }
   ],
   "source": [
    "#Within the nn package, there is a class called Module, and it is \n",
    "#the base class for all of neural network modules which includes layers.\n",
    "#This means that all of the layers in PyTorch extend the nn.Module class \n",
    "#and inherit all of PyTorch's built-in functionality within the nn.Module class.\n",
    "#Even neural networks extend the nn.Module class. This makes sense because neural\n",
    "#networks themselves can be thought of as one big layer (if needed, let that sink in over time).\n",
    "#Neural networks and layers in PyTorch extend the nn.Module class. This means that we must extend\n",
    "#the nn.Module class when building a new layer or neural network in PyTorch.\n",
    "\n",
    "## each layer has a transformation (methods/code) and learnable weights (attributes)\n",
    "## All the layers in pytorch extend the nn.Module class\n",
    "## Neural networks and layers can be viewed as the same thing. They are the same object\n",
    "\n",
    "\n",
    "import torch.nn  as nn  ## This is pytorch's neural network library\n",
    "import torch\n",
    "class Network(nn.Module):\n",
    "  def __init__(self):\n",
    "    super().__init__()\n",
    "    self.conv1   = nn.Conv2d(in_channels=1, out_channels=6, kernel_size=5) #out_channels=6 means we want 6 out_channels, which also mean\n",
    "                                                                           # We are setting the number of filters/kernnels to 6 and each will give one out_channel  \n",
    "    #This means we have in_channel/color_channel = 1,\n",
    "    #out_channel/num_kernels/num_filters = 6, kernel size = (5x5)\n",
    "    self.conv2  = nn.Conv2d(in_channels=6, out_channels=12, kernel_size=5)\n",
    "\n",
    "    self.fc1     = nn.Linear(in_features=12*4*4, out_features=120) #out_features/feature maps\n",
    "    self.fc2     = nn.Linear(in_features=120, out_features=60)\n",
    "    self.out     = nn.Linear(in_features=60, out_features=10) # out_features in the last layer is 10 because we have 10 classes\n",
    "  \n",
    "\n",
    "# PyTorch nn.Modules Have A forward() Method\n",
    "# When we pass a tensor to our network as input, the tensor flows forward though each layer \n",
    "# transformation until the tensor reaches the output layer. This process of a tensor flowing\n",
    "# forward though the network is known as a forward pass.\n",
    "\n",
    "\n",
    "  def forward(self, t):\n",
    " ##Implement the fwd method\n",
    "    return t\n",
    "\n",
    "# Each layer has its own transformation (code) and the tensor passes forward through each layer.\n",
    "# The composition of all the individual layer forward passes defines the overall forward pass transformation for the network.\n",
    "# The goal of the overall transformation is to transform or map the input to the correct prediction \n",
    "# output class, and during the training process, the layer weights (data) are updated in such a way\n",
    "# that cause the mapping to adjust to make the output closer to the correct prediction.\n",
    "\n",
    "my_network = Network()\n",
    "\n",
    "print(my_network) ## When we print the isntance of our network, we get a string representation of our network. \n",
    "                  ## This functionality is inherited from the nn.Module class"
   ]
  },
  {
   "cell_type": "markdown",
   "metadata": {
    "id": "dJ7K7TBd2lVE"
   },
   "source": [
    "## **Convolution opertation:** It performs a dot product of a filter (nxn matrix) and the input. It helps to detect features\n",
    "The ouput has dimensions of (n-f + 1) X (n-f + 1), where n = width/height of the image, f = width/height of the filter\n",
    "\n",
    "### **Zero padding** adds a padding of zeros around an image tensor in order to ensure that we get the same output size as the input without loosing any useful information\n",
    "**-Valid** Means no padding<br>\n",
    "**-Same** Means you want a padding, preserving the image size, hence the name same\n",
    "\n",
    "## **Maxpooling operation:** This operation typically follows a convolution operation <br>\n",
    "### It simply picks the max_value from the input matrix in the area covered by the filter. \n",
    "## Maxpooling reduces dimensions, parameters and overfitting\n",
    "**Stride:** Both maxpooling and convolution ops need a stride, which tell them by how much a filter should be moved over the input matrix to the right and down"
   ]
  },
  {
   "cell_type": "code",
   "execution_count": 429,
   "metadata": {
    "colab": {
     "base_uri": "https://localhost:8080/"
    },
    "id": "eCUFExqVF-Zp",
    "outputId": "72bfbe56-88eb-4b79-f5f8-f2b94efd8fee"
   },
   "outputs": [
    {
     "name": "stdout",
     "output_type": "stream",
     "text": [
      "Network(\n",
      "  (conv1): Conv2d(1, 6, kernel_size=(5, 5), stride=(1, 1))\n",
      "  (conv2): Conv2d(6, 12, kernel_size=(5, 5), stride=(1, 1))\n",
      "  (fc1): Linear(in_features=192, out_features=120, bias=True)\n",
      "  (fc2): Linear(in_features=120, out_features=60, bias=True)\n",
      "  (out): Linear(in_features=60, out_features=10, bias=True)\n",
      ")\n"
     ]
    }
   ],
   "source": [
    "import torch.nn  as nn \n",
    "import torch\n",
    "class Network(nn.Module):\n",
    "  def __init__(self):\n",
    "    super().__init__()\n",
    "    self.conv1   = nn.Conv2d(in_channels=1, out_channels=6, kernel_size=5)\n",
    "   \n",
    "    self.conv2  = nn.Conv2d(in_channels=6, out_channels=12, kernel_size=5)\n",
    "\n",
    "    self.fc1     = nn.Linear(in_features=12*4*4, out_features=120) #out_features/feature maps\n",
    "    self.fc2     = nn.Linear(in_features=120, out_features=60)\n",
    "    self.out     = nn.Linear(in_features=60, out_features=10) # out_features in the last layer is 10 because we have 10 classes\n",
    "\n",
    "  def forward(self, t):\n",
    " ##Implement the fwd method\n",
    "    return t\n",
    "\n",
    "my_network = Network()\n",
    "\n",
    "print(my_network)"
   ]
  },
  {
   "cell_type": "code",
   "execution_count": 430,
   "metadata": {
    "colab": {
     "base_uri": "https://localhost:8080/"
    },
    "id": "8KTNGLvQLiZs",
    "outputId": "f27ec2d6-0b01-42f1-9962-2e1abab36166"
   },
   "outputs": [
    {
     "data": {
      "text/plain": [
       "Parameter containing:\n",
       "tensor([[[[-0.1779, -0.1683,  0.0946,  0.1333,  0.1450],\n",
       "          [-0.1891,  0.1053, -0.1014,  0.1484, -0.0855],\n",
       "          [-0.0047, -0.1934, -0.0700,  0.0430, -0.0626],\n",
       "          [-0.0867, -0.1311, -0.1697,  0.1846, -0.1835],\n",
       "          [ 0.0462,  0.1387,  0.1087,  0.0473,  0.1110]]],\n",
       "\n",
       "\n",
       "        [[[ 0.0302,  0.1202,  0.0641, -0.0827, -0.0659],\n",
       "          [ 0.0062,  0.1276, -0.1399, -0.1458, -0.1724],\n",
       "          [ 0.1204, -0.1728, -0.0752, -0.1296,  0.0138],\n",
       "          [-0.1056,  0.1918, -0.0450,  0.0668,  0.0637],\n",
       "          [-0.0783, -0.0211,  0.1878,  0.0027,  0.0193]]],\n",
       "\n",
       "\n",
       "        [[[-0.0973, -0.0683, -0.1765,  0.0841, -0.1272],\n",
       "          [ 0.0402, -0.1854, -0.0100, -0.0955,  0.0878],\n",
       "          [-0.0983, -0.1561, -0.0212, -0.0642, -0.0443],\n",
       "          [ 0.0851,  0.0635,  0.1178,  0.1570,  0.1902],\n",
       "          [-0.1023, -0.0359,  0.0527, -0.0362, -0.1163]]],\n",
       "\n",
       "\n",
       "        [[[ 0.0203,  0.0647,  0.1049, -0.1219, -0.1070],\n",
       "          [ 0.1030,  0.0922,  0.0910, -0.1936,  0.0915],\n",
       "          [ 0.1417, -0.1742,  0.1328, -0.0143, -0.0198],\n",
       "          [-0.0830, -0.0354,  0.1346,  0.1350,  0.1662],\n",
       "          [-0.1964, -0.0970,  0.0866, -0.0737, -0.0850]]],\n",
       "\n",
       "\n",
       "        [[[ 0.1615, -0.1813,  0.1250,  0.0818, -0.0081],\n",
       "          [-0.1641, -0.0565,  0.0083,  0.0247,  0.0667],\n",
       "          [-0.0416, -0.0864, -0.0030, -0.1155,  0.1224],\n",
       "          [-0.0966, -0.1448, -0.1251,  0.0522,  0.1992],\n",
       "          [ 0.0815, -0.0536, -0.0823, -0.1627, -0.1859]]],\n",
       "\n",
       "\n",
       "        [[[-0.1222, -0.0182, -0.0665, -0.0344,  0.0043],\n",
       "          [ 0.1123,  0.0824, -0.0965, -0.0712,  0.0463],\n",
       "          [-0.0381, -0.0443,  0.1458,  0.1341, -0.1557],\n",
       "          [-0.0424,  0.0164, -0.0810, -0.1526,  0.0412],\n",
       "          [ 0.1842,  0.1224, -0.0156,  0.1798,  0.0089]]]], requires_grad=True)"
      ]
     },
     "execution_count": 430,
     "metadata": {},
     "output_type": "execute_result"
    }
   ],
   "source": [
    "# Now that we have access to each of our \n",
    "# layers, we can acess the weights inside each layer \n",
    "\n",
    "my_network.conv1.weight\n",
    "## This is an example of nesting objects. weight object lives in conv1 class, whose object also lives in the network class\n",
    "#The values in this weight tensor are learned as the network trains and learns to reduce the  error function"
   ]
  },
  {
   "cell_type": "markdown",
   "metadata": {
    "id": "ouAlmEwCPRLl"
   },
   "source": [
    "## INVESTIGATING THE SHAPES OF THE WEIGHT TENSORS\n",
    "#### The parameter values that we pass to the layers directly impact our network weights. Let's see this"
   ]
  },
  {
   "cell_type": "code",
   "execution_count": 431,
   "metadata": {
    "colab": {
     "base_uri": "https://localhost:8080/"
    },
    "id": "bRidHRsQNdCh",
    "outputId": "28912999-1e06-4376-fb36-7409abebfc0c"
   },
   "outputs": [
    {
     "data": {
      "text/plain": [
       "torch.Size([6, 1, 5, 5])"
      ]
     },
     "execution_count": 431,
     "metadata": {},
     "output_type": "execute_result"
    }
   ],
   "source": [
    "my_network.conv1.weight.shape # This means we have 6 filters of size 5x5, convolving 1 input channel"
   ]
  },
  {
   "cell_type": "code",
   "execution_count": 432,
   "metadata": {
    "colab": {
     "base_uri": "https://localhost:8080/"
    },
    "id": "3tNdHd80PDnr",
    "outputId": "61d1b026-36e8-4967-9023-bf319f74927e"
   },
   "outputs": [
    {
     "data": {
      "text/plain": [
       "torch.Size([12, 6, 5, 5])"
      ]
     },
     "execution_count": 432,
     "metadata": {},
     "output_type": "execute_result"
    }
   ],
   "source": [
    "my_network.conv2.weight.shape"
   ]
  },
  {
   "cell_type": "code",
   "execution_count": 433,
   "metadata": {
    "colab": {
     "base_uri": "https://localhost:8080/"
    },
    "id": "WNwsjTTaPdOm",
    "outputId": "9d267710-8656-4a44-a4b5-544f5b547ed2"
   },
   "outputs": [
    {
     "data": {
      "text/plain": [
       "torch.Size([120, 192])"
      ]
     },
     "execution_count": 433,
     "metadata": {},
     "output_type": "execute_result"
    }
   ],
   "source": [
    "my_network.fc1.weight.shape"
   ]
  },
  {
   "cell_type": "code",
   "execution_count": 434,
   "metadata": {
    "colab": {
     "base_uri": "https://localhost:8080/"
    },
    "id": "T0Y5kcS4Pf93",
    "outputId": "41fb4ff3-dc42-45b7-aafc-d371eeb13de2"
   },
   "outputs": [
    {
     "data": {
      "text/plain": [
       "torch.Size([60, 120])"
      ]
     },
     "execution_count": 434,
     "metadata": {},
     "output_type": "execute_result"
    }
   ],
   "source": [
    "my_network.fc2.weight.shape"
   ]
  },
  {
   "cell_type": "code",
   "execution_count": 435,
   "metadata": {
    "colab": {
     "base_uri": "https://localhost:8080/"
    },
    "id": "7V6nEChqPhUc",
    "outputId": "58774609-e7d1-4597-a86a-d5a29ce5acf6"
   },
   "outputs": [
    {
     "data": {
      "text/plain": [
       "torch.Size([10, 60])"
      ]
     },
     "execution_count": 435,
     "metadata": {},
     "output_type": "execute_result"
    }
   ],
   "source": [
    "my_network.out.weight.shape"
   ]
  },
  {
   "cell_type": "code",
   "execution_count": 436,
   "metadata": {
    "colab": {
     "base_uri": "https://localhost:8080/"
    },
    "id": "ozfQ_K8pR0Rn",
    "outputId": "0849e72f-cc08-4dc7-fc11-0d1a6d1b6718"
   },
   "outputs": [
    {
     "data": {
      "text/plain": [
       "torch.Size([6, 5, 5])"
      ]
     },
     "execution_count": 436,
     "metadata": {},
     "output_type": "execute_result"
    }
   ],
   "source": [
    "my_network.conv2.weight[0].shape ## We can index out a single filter by indexing the first axis of the weight tensor. \n",
    "                                ## This gives a filter of width and height 5 and depth 6"
   ]
  },
  {
   "cell_type": "markdown",
   "metadata": {
    "id": "FYJxWZdNT9yD"
   },
   "source": [
    "## weight tensors for linear layers"
   ]
  },
  {
   "cell_type": "code",
   "execution_count": 437,
   "metadata": {
    "colab": {
     "base_uri": "https://localhost:8080/"
    },
    "id": "z0ZsDTP-T7xo",
    "outputId": "924efadf-b5c3-4cb4-da1c-467a5635e9c2"
   },
   "outputs": [
    {
     "data": {
      "text/plain": [
       "torch.Size([120, 192])"
      ]
     },
     "execution_count": 437,
     "metadata": {},
     "output_type": "execute_result"
    }
   ],
   "source": [
    "my_network.fc1.weight.shape ## These are rank 2 tensors"
   ]
  },
  {
   "cell_type": "code",
   "execution_count": 438,
   "metadata": {
    "colab": {
     "base_uri": "https://localhost:8080/"
    },
    "id": "VwYdnDsxUGKZ",
    "outputId": "7a21c6f1-eec5-4a6a-a5d6-9a0794e86a24"
   },
   "outputs": [
    {
     "data": {
      "text/plain": [
       "torch.Size([60, 120])"
      ]
     },
     "execution_count": 438,
     "metadata": {},
     "output_type": "execute_result"
    }
   ],
   "source": [
    "my_network.fc2.weight.shape"
   ]
  },
  {
   "cell_type": "code",
   "execution_count": 439,
   "metadata": {
    "colab": {
     "base_uri": "https://localhost:8080/"
    },
    "id": "sPR6bwo1UJT4",
    "outputId": "f23c34fa-dbd5-4b38-e209-e87bf1af4e3f"
   },
   "outputs": [
    {
     "data": {
      "text/plain": [
       "torch.Size([10, 60])"
      ]
     },
     "execution_count": 439,
     "metadata": {},
     "output_type": "execute_result"
    }
   ],
   "source": [
    "my_network.out.weight.shape"
   ]
  },
  {
   "cell_type": "markdown",
   "metadata": {
    "id": "qGAvtuKEj2n3"
   },
   "source": [
    "## Maxtrix multiplication using pytorch"
   ]
  },
  {
   "cell_type": "code",
   "execution_count": 440,
   "metadata": {
    "id": "2CRHz8G1ULPu"
   },
   "outputs": [],
   "source": [
    "in_features = torch.tensor([1,2,3,4], dtype = torch.float32)"
   ]
  },
  {
   "cell_type": "code",
   "execution_count": 441,
   "metadata": {
    "colab": {
     "base_uri": "https://localhost:8080/"
    },
    "id": "N3IDx7xskE4X",
    "outputId": "a6fcccc8-995b-4480-e663-83fcb8c07978"
   },
   "outputs": [
    {
     "data": {
      "text/plain": [
       "tensor([1., 2., 3., 4.])"
      ]
     },
     "execution_count": 441,
     "metadata": {},
     "output_type": "execute_result"
    }
   ],
   "source": [
    "in_features"
   ]
  },
  {
   "cell_type": "code",
   "execution_count": 442,
   "metadata": {
    "id": "7UTP2GRVkPlp"
   },
   "outputs": [],
   "source": [
    "weight_matrix = torch.tensor([\n",
    "                              [1,2,3, 4],\n",
    "                              [2,3,4,5],\n",
    "                              [3,4,5,6],\n",
    "                              ], dtype = torch.float32)"
   ]
  },
  {
   "cell_type": "code",
   "execution_count": 443,
   "metadata": {
    "colab": {
     "base_uri": "https://localhost:8080/"
    },
    "id": "ajGHQo7S9uAV",
    "outputId": "a1f0ac67-95a6-4b0b-b08c-c4bd705fa74d"
   },
   "outputs": [
    {
     "data": {
      "text/plain": [
       "tensor([[1., 2., 3., 4.],\n",
       "        [2., 3., 4., 5.],\n",
       "        [3., 4., 5., 6.]])"
      ]
     },
     "execution_count": 443,
     "metadata": {},
     "output_type": "execute_result"
    }
   ],
   "source": [
    "weight_matrix"
   ]
  },
  {
   "cell_type": "code",
   "execution_count": 444,
   "metadata": {
    "colab": {
     "base_uri": "https://localhost:8080/"
    },
    "id": "p-JKN9UHkuiN",
    "outputId": "fab32d16-8361-42bd-9b87-c6f6fcad9f73"
   },
   "outputs": [
    {
     "data": {
      "text/plain": [
       "torch.Size([3, 4])"
      ]
     },
     "execution_count": 444,
     "metadata": {},
     "output_type": "execute_result"
    }
   ],
   "source": [
    "weight_matrix.shape"
   ]
  },
  {
   "cell_type": "code",
   "execution_count": 445,
   "metadata": {
    "colab": {
     "base_uri": "https://localhost:8080/"
    },
    "id": "ULODFgj4loPC",
    "outputId": "2b5fa19a-1efa-41d0-85aa-768000879964"
   },
   "outputs": [
    {
     "data": {
      "text/plain": [
       "torch.Size([4])"
      ]
     },
     "execution_count": 445,
     "metadata": {},
     "output_type": "execute_result"
    }
   ],
   "source": [
    "in_features.shape"
   ]
  },
  {
   "cell_type": "code",
   "execution_count": 446,
   "metadata": {
    "colab": {
     "base_uri": "https://localhost:8080/"
    },
    "id": "45F06rXoI76i",
    "outputId": "86695310-28f4-4af8-93cb-b1031ace95b5"
   },
   "outputs": [
    {
     "data": {
      "text/plain": [
       "torch.Size([4])"
      ]
     },
     "execution_count": 446,
     "metadata": {},
     "output_type": "execute_result"
    }
   ],
   "source": [
    "in_features.shape"
   ]
  },
  {
   "cell_type": "code",
   "execution_count": 447,
   "metadata": {
    "colab": {
     "base_uri": "https://localhost:8080/"
    },
    "id": "AWFZTQQ0k3ih",
    "outputId": "2751f615-dbb2-4a2a-ad80-d0e3a6031ff3"
   },
   "outputs": [
    {
     "data": {
      "text/plain": [
       "tensor([30., 40., 50.])"
      ]
     },
     "execution_count": 447,
     "metadata": {},
     "output_type": "execute_result"
    }
   ],
   "source": [
    "weight_matrix.matmul(in_features)"
   ]
  },
  {
   "cell_type": "code",
   "execution_count": 448,
   "metadata": {
    "colab": {
     "base_uri": "https://localhost:8080/"
    },
    "id": "G-NLYJEnlbp9",
    "outputId": "5be8359b-8e48-4668-db34-6d66221c8af1"
   },
   "outputs": [
    {
     "data": {
      "text/plain": [
       "tensor([30., 40., 50.])"
      ]
     },
     "execution_count": 448,
     "metadata": {},
     "output_type": "execute_result"
    }
   ],
   "source": [
    "torch.matmul(weight_matrix,in_features )"
   ]
  },
  {
   "cell_type": "markdown",
   "metadata": {
    "id": "Z-zOuChVFsUC"
   },
   "source": [
    "## Accessing all parameters at once"
   ]
  },
  {
   "cell_type": "code",
   "execution_count": 449,
   "metadata": {
    "colab": {
     "base_uri": "https://localhost:8080/"
    },
    "id": "hzvbpXVeFnlt",
    "outputId": "68ac7213-1e85-48b6-87bf-94881dca4802"
   },
   "outputs": [
    {
     "name": "stdout",
     "output_type": "stream",
     "text": [
      "torch.Size([6, 1, 5, 5])\n",
      "torch.Size([6])\n",
      "torch.Size([12, 6, 5, 5])\n",
      "torch.Size([12])\n",
      "torch.Size([120, 192])\n",
      "torch.Size([120])\n",
      "torch.Size([60, 120])\n",
      "torch.Size([60])\n",
      "torch.Size([10, 60])\n",
      "torch.Size([10])\n"
     ]
    }
   ],
   "source": [
    "for param in my_network.parameters():\n",
    "  print(param.shape)"
   ]
  },
  {
   "cell_type": "code",
   "execution_count": 450,
   "metadata": {
    "colab": {
     "base_uri": "https://localhost:8080/"
    },
    "id": "zmfRwtpJF5Rs",
    "outputId": "d5c2bd50-396c-446c-e46c-c83c1b9578fb"
   },
   "outputs": [
    {
     "name": "stdout",
     "output_type": "stream",
     "text": [
      "conv1.weight \t\t torch.Size([6, 1, 5, 5])\n",
      "conv1.bias \t\t torch.Size([6])\n",
      "conv2.weight \t\t torch.Size([12, 6, 5, 5])\n",
      "conv2.bias \t\t torch.Size([12])\n",
      "fc1.weight \t\t torch.Size([120, 192])\n",
      "fc1.bias \t\t torch.Size([120])\n",
      "fc2.weight \t\t torch.Size([60, 120])\n",
      "fc2.bias \t\t torch.Size([60])\n",
      "out.weight \t\t torch.Size([10, 60])\n",
      "out.bias \t\t torch.Size([10])\n"
     ]
    }
   ],
   "source": [
    "for name, param in my_network.named_parameters():\n",
    "  print(name, '\\t\\t', param.shape)"
   ]
  },
  {
   "cell_type": "markdown",
   "metadata": {
    "id": "aIqgcNy9dVOP"
   },
   "source": [
    "##Transform Using A Matrix"
   ]
  },
  {
   "cell_type": "code",
   "execution_count": 451,
   "metadata": {
    "colab": {
     "base_uri": "https://localhost:8080/"
    },
    "id": "eVuYagLYGyfZ",
    "outputId": "1180876d-e608-46ab-9070-0c75e6aa4ecd"
   },
   "outputs": [
    {
     "data": {
      "text/plain": [
       "tensor([30., 40., 50.])"
      ]
     },
     "execution_count": 451,
     "metadata": {},
     "output_type": "execute_result"
    }
   ],
   "source": [
    "in_features = torch.tensor([1,2,3,4], dtype=torch.float32)\n",
    "\n",
    "weight_matrix = torch.tensor([\n",
    "    [1,2,3,4],\n",
    "    [2,3,4,5],\n",
    "    [3,4,5,6]\n",
    "], dtype=torch.float32)\n",
    "\n",
    "\n",
    "weight_matrix.matmul(in_features)\n"
   ]
  },
  {
   "cell_type": "code",
   "execution_count": 452,
   "metadata": {
    "colab": {
     "base_uri": "https://localhost:8080/"
    },
    "id": "eXDtFUTVm3nE",
    "outputId": "f71a825d-bd98-4381-c0a7-ed121f7a8c17"
   },
   "outputs": [
    {
     "name": "stdout",
     "output_type": "stream",
     "text": [
      "torch.Size([4])\n",
      "torch.Size([3, 4])\n"
     ]
    }
   ],
   "source": [
    "print(in_features.shape)\n",
    "print(weight_matrix.shape)"
   ]
  },
  {
   "cell_type": "code",
   "execution_count": 453,
   "metadata": {
    "colab": {
     "base_uri": "https://localhost:8080/"
    },
    "id": "6SfTg9zxjsM1",
    "outputId": "5da01058-73b0-424b-c719-6fd2c1b707a7"
   },
   "outputs": [
    {
     "data": {
      "text/plain": [
       "tensor([30., 40., 50.])"
      ]
     },
     "execution_count": 453,
     "metadata": {},
     "output_type": "execute_result"
    }
   ],
   "source": [
    "##### Here since the input tensor is on the left side, we have to transpose the weight tensor before performing the matplication.\n",
    "#### That's what happens under the hood in the Linear layer\n",
    "in_features.matmul(weight_matrix.T)"
   ]
  },
  {
   "cell_type": "markdown",
   "metadata": {
    "id": "F28A4tEvdkVm"
   },
   "source": [
    "\n",
    "Here, we have created a 1-dimensional tensor called in_features. We have also created a weight matrix which of course is a 2-dimensional tensor. Then, we've use the matmul() function to preform the matrix multiplication operation that produces a 1-dimensional tensor.\n",
    "\n",
    "In general, the weight matrix defines a linear function that maps a 1-dimensional tensor with four elements to a 1-dimensional tensor that has three elements. We can think of this function as a mapping from 4-dimensional Euclidean space to 3-dimensional Euclidean space.\n",
    "'''"
   ]
  },
  {
   "cell_type": "code",
   "execution_count": 454,
   "metadata": {
    "colab": {
     "base_uri": "https://localhost:8080/"
    },
    "id": "v22nA0rMdZKd",
    "outputId": "4de476b8-6d58-45cc-d7c4-07b63cf817f9"
   },
   "outputs": [
    {
     "data": {
      "text/plain": [
       "Linear(in_features=4, out_features=3, bias=False)"
      ]
     },
     "execution_count": 454,
     "metadata": {},
     "output_type": "execute_result"
    }
   ],
   "source": [
    "#Let's see how to create a PyTorch linear layer that will do this same operation.\n",
    "\n",
    "fc = nn.Linear(in_features=4, out_features=3, bias=False)\n",
    "fc"
   ]
  },
  {
   "cell_type": "code",
   "execution_count": 455,
   "metadata": {
    "id": "WvZuMgq4d3Zt"
   },
   "outputs": [],
   "source": [
    "## ??nn.Linear() Use this to see that pytorch creates  a weight matrix of shape (out_features X in_features)"
   ]
  },
  {
   "cell_type": "code",
   "execution_count": 456,
   "metadata": {
    "colab": {
     "base_uri": "https://localhost:8080/"
    },
    "id": "LJ5HEJppeN5X",
    "outputId": "bf1c503d-3ff1-4b4a-8dc6-021c87f0cf35"
   },
   "outputs": [
    {
     "data": {
      "text/plain": [
       "tensor([-0.8309, -2.0490, -0.3759], grad_fn=<SqueezeBackward3>)"
      ]
     },
     "execution_count": 456,
     "metadata": {},
     "output_type": "execute_result"
    }
   ],
   "source": [
    "fc(in_features)## The weight matrix is initialized with random values so we dnt expect the output herento match the one we got when we did used matmul"
   ]
  },
  {
   "cell_type": "markdown",
   "metadata": {
    "id": "4WighuSugIop"
   },
   "source": [
    "\n",
    "## Let's explicitly set the weight matrix of the linear layer to be the same as the one we used in our other example.\n"
   ]
  },
  {
   "cell_type": "code",
   "execution_count": 457,
   "metadata": {
    "colab": {
     "base_uri": "https://localhost:8080/"
    },
    "id": "Erp622_NfWhj",
    "outputId": "8649ef8b-2f8c-467c-d589-935c7fe4391d"
   },
   "outputs": [
    {
     "data": {
      "text/plain": [
       "tensor([30., 40., 50.], grad_fn=<SqueezeBackward3>)"
      ]
     },
     "execution_count": 457,
     "metadata": {},
     "output_type": "execute_result"
    }
   ],
   "source": [
    "fc.weight = nn.Parameter(weight_matrix) \n",
    "fc(in_features) ## Now we get the same output"
   ]
  },
  {
   "cell_type": "markdown",
   "metadata": {
    "id": "ZkHi1l95hA5t"
   },
   "source": [
    "# Callable Layers And Neural Networks\n",
    "We pointed out before how it was kind of strange that we called the layer object instance as if it were a function.\n",
    "\n",
    "> fc(in_features)\n",
    "tensor([30.0261, 40.1404, 49.7643], grad_fn=<AddBackward0>)\n",
    "What makes this possible is that PyTorch module classes implement another special Python function called __call__(). If a class implements the __call__() method, the special call method will be invoked anytime the object instance is called.\n",
    "\n",
    "This fact is an important PyTorch concept because of the way the __call__() method interacts with the forward() method for our layers and networks.\n",
    "\n",
    "alling the forward() method directly, we call the object instance. After the object instance is called, the __call__() method is invoked under the hood, and the __call__() in turn invokes the forward() method. This applies to all PyTorch neural network modules, namely, networks and layers."
   ]
  },
  {
   "cell_type": "code",
   "execution_count": 458,
   "metadata": {
    "colab": {
     "base_uri": "https://localhost:8080/",
     "height": 35
    },
    "id": "phchG9VZgRLT",
    "outputId": "ad337e73-7c93-480d-8365-5e047492e118"
   },
   "outputs": [
    {
     "data": {
      "text/plain": [
       "'\\n __call__ : Callable[..., Any] = _call_impl\\n'"
      ]
     },
     "execution_count": 458,
     "metadata": {},
     "output_type": "execute_result"
    }
   ],
   "source": [
    "##??nn.Module\n",
    "\n",
    "'''\n",
    " __call__ : Callable[..., Any] = _call_impl\n",
    "'''"
   ]
  },
  {
   "cell_type": "markdown",
   "metadata": {
    "id": "pIRtFQXsk4kE"
   },
   "source": [
    "### The extra code that PyTorch runs inside the __call__() method is why we never invoke the forward() method directly. If we did, the additional PyTorch code would not be executed. As a result, any time we want to invoke our forward() method, we call the object instance. This applies to both layers, and networks because they are both PyTorch neural network modules."
   ]
  },
  {
   "cell_type": "markdown",
   "metadata": {
    "id": "8l_CFIgvozsB"
   },
   "source": [
    "## FORWARD METHOD"
   ]
  },
  {
   "cell_type": "code",
   "execution_count": 459,
   "metadata": {
    "colab": {
     "base_uri": "https://localhost:8080/",
     "height": 120
    },
    "id": "6iRVZ-bQhdtC",
    "outputId": "4aa7dffe-6b08-4d18-c0cc-253470466f7e"
   },
   "outputs": [
    {
     "data": {
      "text/plain": [
       "\"'\\nAs we can see here, our input tensor is transformed as we move through the convolutional layers. \\nThe first convolutional layer has a convolutional operation, followed by a relu activation operation whose\\noutput is then passed to a max pooling operation with kernel_size=2 and stride=2.\\n\\nThe output tensor t of the first convolutional layer is then passed to the next convolutional layer,\\n which is identical except for the fact that we call self.conv2() instead of self.conv1().\\n\\nEach of these layers is comprised of a collection of weights (data) and a collection operations (code). \\nThe weights are encapsulated inside the nn.Conv2d() class instance. The relu() and the max_pool2d() calls are\\n just pure operations. Neither of these have weights, and this is why we call them directly from the nn.functional API.\\n\\n\\n Sometimes we may see pooling operations referred to as pooling layers. Sometimes we may even hear activation operations called activation layers.\\n\\nHowever, what makes a layer distinct from an operation is that layers have weights. Since pooling operations and activation functions do not have weights,\\n we will refer to them as operations and view them as being added to the collection of layer operations.\\n\""
      ]
     },
     "execution_count": 459,
     "metadata": {},
     "output_type": "execute_result"
    }
   ],
   "source": [
    "class Network(nn.Module):\n",
    "    def __init__(self):\n",
    "        super().__init__()\n",
    "        self.conv1 = nn.Conv2d(in_channels=1, out_channels=6, kernel_size=5)\n",
    "        self.conv2 = nn.Conv2d(in_channels=6, out_channels=12, kernel_size=5)\n",
    "\n",
    "        self.fc1 = nn.Linear(in_features=12 * 4 * 4, out_features=120)\n",
    "        self.fc2 = nn.Linear(in_features=120, out_features=60)\n",
    "        self.out = nn.Linear(in_features=60, out_features=10)\n",
    "\n",
    "    def forward(self, t):\n",
    "      # (1) input layer\n",
    "      t = t \n",
    "\n",
    "      # (2) hidden conv layer\n",
    "      t = self.conv1(t)\n",
    "      t = F.relu(t)\n",
    "      t = F.max_pool2d(t, kernel_size=2, stride=2)\n",
    "\n",
    "      # (3) hidden conv layer\n",
    "      t = self.conv2(t)\n",
    "      t = F.relu(t)\n",
    "      t = F.max_pool2d(t, kernel_size=2, stride=2)\n",
    "\n",
    "      # (4) hidden linear layer\n",
    "      t = t.reshape(-1, 12 * 4 * 4)\n",
    "      t = self.fc1(t)\n",
    "      t = F.relu(t)\n",
    "\n",
    "      # (5) hidden linear layer\n",
    "      t = self.fc2(t)\n",
    "      t = F.relu(t)\n",
    "\n",
    "      # (6) output layer\n",
    "      t = self.out(t)\n",
    "      #t = F.softmax(t, dim=1)\n",
    "      '''\n",
    "      Inside the network we usually use relu() as our non-linear activation function,\n",
    "      but for the output layer, whenever we have a single category that we are trying to \n",
    "      predict, we use softmax(). The softmax function returns a positive probability for\n",
    "      each of the prediction classes, and the probabilities sum to 1.\n",
    "      However, in our case, we won't use softmax() because the loss function that we'll use,\n",
    "      F.cross_entropy(), implicitly performs the softmax() operation on its input, so we'll \n",
    "      just return the result of the last linear transformation\n",
    "      '''\n",
    "      return t\n",
    "\n",
    "''''\n",
    "As we can see here, our input tensor is transformed as we move through the convolutional layers. \n",
    "The first convolutional layer has a convolutional operation, followed by a relu activation operation whose\n",
    "output is then passed to a max pooling operation with kernel_size=2 and stride=2.\n",
    "\n",
    "The output tensor t of the first convolutional layer is then passed to the next convolutional layer,\n",
    " which is identical except for the fact that we call self.conv2() instead of self.conv1().\n",
    "\n",
    "Each of these layers is comprised of a collection of weights (data) and a collection operations (code). \n",
    "The weights are encapsulated inside the nn.Conv2d() class instance. The relu() and the max_pool2d() calls are\n",
    " just pure operations. Neither of these have weights, and this is why we call them directly from the nn.functional API.\n",
    "\n",
    "\n",
    " Sometimes we may see pooling operations referred to as pooling layers. Sometimes we may even hear activation operations called activation layers.\n",
    "\n",
    "However, what makes a layer distinct from an operation is that layers have weights. Since pooling operations and activation functions do not have weights,\n",
    " we will refer to them as operations and view them as being added to the collection of layer operations.\n",
    "'''\n",
    "\n"
   ]
  },
  {
   "cell_type": "markdown",
   "metadata": {
    "id": "enFcx3qisuB0"
   },
   "source": [
    "## CNN Image Prediction"
   ]
  },
  {
   "cell_type": "code",
   "execution_count": 460,
   "metadata": {
    "id": "VI0fSGi-pPv8"
   },
   "outputs": [],
   "source": [
    "import torch   ## Top-level pytorch package in the tensor library\n",
    "import torchvision  ## Package that provides access to popular datasets, model architectures and image trasformations for computer vision\n",
    "import torchvision.transforms as transforms ## An interface that gives us acess to common tranformations for our image processing\n",
    "import torch.nn.functional as F\n",
    "import numpy as np\n",
    "import matplotlib.pyplot as plt\n",
    "\n",
    "torch.set_printoptions(linewidth=120) ## Sets the linewidth for pytorch output that is printed to the console\n",
    "\n",
    "\n",
    "\n",
    "train_set = torchvision.datasets.FashionMNIST(\n",
    "    root =  \"./data/FashinMNIST\", ## This tells it where to load the data from if its there\n",
    "    train = True, ## This tells we want the training set\n",
    "    download = True, ## This tells the class to download the data if its not present in the location we specified.\n",
    "\n",
    "    transform = transforms.Compose([transforms.ToTensor()])) ## Here we pass a composition of transformations that should be performed on the datasets\n",
    "                                                             ## We use ToTensor() transformation since we want our images to be transformed to tensors\n",
    "\n",
    "\n",
    "\n",
    "class Network(nn.Module):\n",
    "    def __init__(self):\n",
    "        super().__init__()\n",
    "        self.conv1 = nn.Conv2d(in_channels=1, out_channels=6, kernel_size=5)\n",
    "        self.conv2 = nn.Conv2d(in_channels=6, out_channels=12, kernel_size=5)\n",
    "\n",
    "        self.fc1 = nn.Linear(in_features=12 * 4 * 4, out_features=120)\n",
    "        self.fc2 = nn.Linear(in_features=120, out_features=60)\n",
    "        self.out = nn.Linear(in_features=60, out_features=10)\n",
    "\n",
    "    def forward(self, t):\n",
    "      # (1) input layer\n",
    "      t = t \n",
    "\n",
    "      # (2) hidden conv layer\n",
    "      t = self.conv1(t)\n",
    "      t = F.relu(t)\n",
    "      t = F.max_pool2d(t, kernel_size=2, stride=2)\n",
    "\n",
    "      # (3) hidden conv layer\n",
    "      t = self.conv2(t)\n",
    "      t = F.relu(t)\n",
    "      t = F.max_pool2d(t, kernel_size=2, stride=2)\n",
    "\n",
    "      # (4) hidden linear layer\n",
    "      t = t.reshape(-1, 12 * 4 * 4) # This means we want to reshape to (1x192).\n",
    "                                    # This flattens each image tensor in the batch\n",
    "                                    #This is a tensor of a batch of 1 and a flattened image pf 192 pixels\n",
    "      t = self.fc1(t)\n",
    "      t = F.relu(t)\n",
    "\n",
    "      # (5) hidden linear layer\n",
    "      t = self.fc2(t)\n",
    "      t = F.relu(t)\n",
    "\n",
    "      # (6) output layer\n",
    "      t = self.out(t)\n",
    "  \n",
    "      return t\n"
   ]
  },
  {
   "cell_type": "markdown",
   "metadata": {
    "id": "7l1771KMwVSx"
   },
   "source": [
    "Before we being, we are going to turn off PyTorch's gradient calculation feature. This will stop PyTorch from automatically building a computation graph as our tensor flows through the network.\n",
    "\n",
    "he computation graph keeps track of the network's mapping by tracking each computation that happens. The graph is used during the training process to calculate the derivative (gradient) of the loss function with respect to the network's weights.\n",
    "\n",
    "Since we are not training the network yet, we aren't planning on updating the weights, and so we don't require gradient calculations. We will turn this back on when training begins.\n",
    "\n",
    "This process of tracking calculations happens in real-time, as the calculations occur. Remember back at the beginning of the series, we said that PyTorch uses a dynamic computational graph. We'll now we're turning it off.\n",
    "\n",
    "Turning it off isn't strictly necessary but having the feature turned off does reduce memory consumption since the graph isn't stored in memory. This code will turn the feature off."
   ]
  },
  {
   "cell_type": "code",
   "execution_count": 461,
   "metadata": {
    "id": "CaJUFe5hvZ9l"
   },
   "outputs": [],
   "source": [
    "torch.set_grad_enabled(False) \n",
    "network = Network()"
   ]
  },
  {
   "cell_type": "code",
   "execution_count": 462,
   "metadata": {
    "colab": {
     "base_uri": "https://localhost:8080/"
    },
    "id": "RGpqRi4Nw0t7",
    "outputId": "09b719c2-9abe-4ac1-b0fc-a0c7d5717ac6"
   },
   "outputs": [
    {
     "data": {
      "text/plain": [
       "torch.Size([1, 28, 28])"
      ]
     },
     "execution_count": 462,
     "metadata": {},
     "output_type": "execute_result"
    }
   ],
   "source": [
    "#Next, we'll procure a single sample from our training set, unpack the image and the label, and verify the image's shape:\n",
    "\n",
    "sample = next(iter(train_set)) \n",
    "image, label = sample \n",
    "image.shape \n",
    "torch.Size([1, 28, 28])\n",
    "#The image tensor's shape indicates that we have a single channel image that is 28 in height and 28 in width. Cool, this is what we expect."
   ]
  },
  {
   "cell_type": "markdown",
   "metadata": {
    "id": "73_COmwmxKDD"
   },
   "source": [
    "Now, there's a second step we must preform before simply passing this tensor to our network. When we pass a tensor to our network, the network is expecting a batch, so even if we want to pass a single image, we still need a batch.\n",
    "\n",
    "This is no problem. We can create a batch that contains a single image. All of this will be packaged into a single four dimensional tensor that reflects the following dimensions.\n",
    "\n",
    "## (batch_size, in_channels, height, width)"
   ]
  },
  {
   "cell_type": "code",
   "execution_count": 463,
   "metadata": {
    "colab": {
     "base_uri": "https://localhost:8080/"
    },
    "id": "Dc8vjREUxCFf",
    "outputId": "4165463b-fa23-4231-d715-652239edb8d3"
   },
   "outputs": [
    {
     "data": {
      "text/plain": [
       "torch.Size([1, 1, 28, 28])"
      ]
     },
     "execution_count": 463,
     "metadata": {},
     "output_type": "execute_result"
    }
   ],
   "source": [
    "# Inserts an additional dimension that represents a batch of size 1\n",
    "image.unsqueeze(0).shape\n",
    "torch.Size([1, 1, 28, 28])"
   ]
  },
  {
   "cell_type": "code",
   "execution_count": 464,
   "metadata": {
    "colab": {
     "base_uri": "https://localhost:8080/"
    },
    "id": "o7S3AxdgxTwl",
    "outputId": "458912c0-160c-474a-967d-1b5b8611b00d"
   },
   "outputs": [
    {
     "data": {
      "text/plain": [
       "tensor([[ 0.0270,  0.0332, -0.0108, -0.0501, -0.0041,  0.0319,  0.1046, -0.0017, -0.0940,  0.0396]])"
      ]
     },
     "execution_count": 464,
     "metadata": {},
     "output_type": "execute_result"
    }
   ],
   "source": [
    " pred = network(image.unsqueeze(0)) # image shape needs to be (batch_size × in_channels × H × W)\n",
    "pred"
   ]
  },
  {
   "cell_type": "code",
   "execution_count": 465,
   "metadata": {
    "colab": {
     "base_uri": "https://localhost:8080/"
    },
    "id": "AB1m4Mr2yTts",
    "outputId": "33f3c206-849d-420e-bff7-dee00e6fba04"
   },
   "outputs": [
    {
     "data": {
      "text/plain": [
       "torch.Size([1, 10])"
      ]
     },
     "execution_count": 465,
     "metadata": {},
     "output_type": "execute_result"
    }
   ],
   "source": [
    "pred.shape"
   ]
  },
  {
   "cell_type": "code",
   "execution_count": 466,
   "metadata": {
    "colab": {
     "base_uri": "https://localhost:8080/"
    },
    "id": "XjoEZNJQzAnt",
    "outputId": "c3c8815c-9475-48d1-f856-6fe2dc19d10b"
   },
   "outputs": [
    {
     "data": {
      "text/plain": [
       "9"
      ]
     },
     "execution_count": 466,
     "metadata": {},
     "output_type": "execute_result"
    }
   ],
   "source": [
    "label ##Correct label of the image"
   ]
  },
  {
   "cell_type": "code",
   "execution_count": 467,
   "metadata": {
    "colab": {
     "base_uri": "https://localhost:8080/"
    },
    "id": "WSITaG_AzGxY",
    "outputId": "12c5858c-a522-4c93-fa41-63c4f1a276bd"
   },
   "outputs": [
    {
     "data": {
      "text/plain": [
       "tensor([6])"
      ]
     },
     "execution_count": 467,
     "metadata": {},
     "output_type": "execute_result"
    }
   ],
   "source": [
    "pred.argmax(dim=1)"
   ]
  },
  {
   "cell_type": "markdown",
   "metadata": {
    "id": "X7QPswc_0HGP"
   },
   "source": [
    "The shape of the prediction tensor is 1 x 10. This tells us that the first axis has a length of one while the second axis has a length of ten. The interpretation of this is that we have one image in our batch and ten prediction classes.\n",
    "\n",
    "**(batch size, number of prediction classes)**\n",
    "\n",
    "\n",
    "\n",
    "For each input in the batch, and for each prediction class, we have a prediction value. If we wanted these values to be probabilities, we could just the softmax() function from the nn.functional package."
   ]
  },
  {
   "cell_type": "code",
   "execution_count": 468,
   "metadata": {
    "colab": {
     "base_uri": "https://localhost:8080/"
    },
    "id": "NVUl8c9ozJlB",
    "outputId": "26ed624b-99da-46bb-9a2a-bd7a6d2b8100"
   },
   "outputs": [
    {
     "data": {
      "text/plain": [
       "tensor([[0.1018, 0.1025, 0.0981, 0.0943, 0.0987, 0.1023, 0.1100, 0.0989, 0.0902, 0.1031]])"
      ]
     },
     "execution_count": 468,
     "metadata": {},
     "output_type": "execute_result"
    }
   ],
   "source": [
    "# import random\n",
    "# random.seed(4)\n",
    "F.softmax(pred, dim=1) ## transform the predictions into probabilities\n",
    "\n",
    "## Please note that the output generated will be different each time we run the notebook since the network weights are randomly generated"
   ]
  },
  {
   "cell_type": "code",
   "execution_count": 469,
   "metadata": {
    "colab": {
     "base_uri": "https://localhost:8080/"
    },
    "id": "leXWlcsy0W_E",
    "outputId": "0e26494c-4ed2-4860-ca9d-2851d64d588a"
   },
   "outputs": [
    {
     "data": {
      "text/plain": [
       "tensor(1.0000)"
      ]
     },
     "execution_count": 469,
     "metadata": {},
     "output_type": "execute_result"
    }
   ],
   "source": [
    "## The sum of the probabilities must be 1\n",
    "F.softmax(pred, dim=1).sum()"
   ]
  },
  {
   "cell_type": "code",
   "execution_count": 470,
   "metadata": {
    "colab": {
     "base_uri": "https://localhost:8080/"
    },
    "id": "hy1aEOBE0aCz",
    "outputId": "6f95fc69-834f-49f4-807d-6eb06681c8a5"
   },
   "outputs": [
    {
     "data": {
      "text/plain": [
       "tensor(6)"
      ]
     },
     "execution_count": 470,
     "metadata": {},
     "output_type": "execute_result"
    }
   ],
   "source": [
    "F.softmax(pred, dim=1).argmax() ## Here let's get the index that produces the highest probability"
   ]
  },
  {
   "cell_type": "markdown",
   "metadata": {
    "id": "2vlPkEyu0zhi"
   },
   "source": [
    "The label for the first image in our training set is 9, and using the argmax() function we can see that the highest value in our prediction tensor occurred at the class represented by index 7.\n",
    "\n",
    "**Prediction: Sneaker (7) Note that this can change**<br>\n",
    "**Actual: Ankle boot (9)**\n",
    "\n",
    "The prediction in this case is incorrect, which is what we expect because the weights in the network were generated randomly."
   ]
  },
  {
   "cell_type": "code",
   "execution_count": 471,
   "metadata": {
    "colab": {
     "base_uri": "https://localhost:8080/"
    },
    "id": "uoYf7qnm0ofR",
    "outputId": "c03859f2-25c9-4207-a256-761ddc045a1f"
   },
   "outputs": [
    {
     "data": {
      "text/plain": [
       "['T-shirt/top',\n",
       " 'Trouser',\n",
       " 'Pullover',\n",
       " 'Dress',\n",
       " 'Coat',\n",
       " 'Sandal',\n",
       " 'Shirt',\n",
       " 'Sneaker',\n",
       " 'Bag',\n",
       " 'Ankle boot']"
      ]
     },
     "execution_count": 471,
     "metadata": {},
     "output_type": "execute_result"
    }
   ],
   "source": [
    "train_set.classes ## Take a look at the classes"
   ]
  },
  {
   "cell_type": "code",
   "execution_count": 472,
   "metadata": {
    "colab": {
     "base_uri": "https://localhost:8080/",
     "height": 35
    },
    "id": "pqycuqN6F5yA",
    "outputId": "9add4fee-e8c2-4d62-af27-19b074e87bb1"
   },
   "outputs": [
    {
     "data": {
      "text/plain": [
       "'Shirt'"
      ]
     },
     "execution_count": 472,
     "metadata": {},
     "output_type": "execute_result"
    }
   ],
   "source": [
    "train_set.classes[pred.argmax(dim=1)] ## Take a look at the predicted value"
   ]
  },
  {
   "cell_type": "markdown",
   "metadata": {
    "id": "sRiD9x4Q1toK"
   },
   "source": [
    "## Network Weights Are Randomly Generated\n",
    "There are a couple of important things we need to point out about these results. Most of the probabilities came in close to 10%, and this makes sense because our network is guessing and we have ten prediction classes coming from a balanced dataset.\n",
    "\n",
    "Another implication of the randomly generated weights is that each time we create a new instance of our network, the weights within the network will be different. This means that the predictions we get will be different if we create different networks. Keep this in mind. Your predictions will be different from what we see here."
   ]
  },
  {
   "cell_type": "code",
   "execution_count": 473,
   "metadata": {
    "colab": {
     "base_uri": "https://localhost:8080/"
    },
    "id": "RrrMVpLa1xeQ",
    "outputId": "120189d8-59c7-4b4e-b4c0-969a6a9515ac"
   },
   "outputs": [
    {
     "data": {
      "text/plain": [
       "tensor([[-0.0541,  0.0866, -0.1236, -0.0565, -0.0530, -0.0768,  0.0570, -0.1285, -0.1615,  0.0330]])"
      ]
     },
     "execution_count": 473,
     "metadata": {},
     "output_type": "execute_result"
    }
   ],
   "source": [
    "net1 = Network()\n",
    "net2 = Network()\n",
    "\n",
    "net1(image.unsqueeze(0))"
   ]
  },
  {
   "cell_type": "code",
   "execution_count": 474,
   "metadata": {
    "colab": {
     "base_uri": "https://localhost:8080/"
    },
    "id": "bOxrJOkn15Td",
    "outputId": "32ef3828-ec33-4aed-d39b-60207dab2b1b"
   },
   "outputs": [
    {
     "data": {
      "text/plain": [
       "tensor([[ 0.0286,  0.0407,  0.0371, -0.0868,  0.1917,  0.0630, -0.0204, -0.0527,  0.0141,  0.0575]])"
      ]
     },
     "execution_count": 474,
     "metadata": {},
     "output_type": "execute_result"
    }
   ],
   "source": [
    "net2(image.unsqueeze(0))"
   ]
  },
  {
   "cell_type": "markdown",
   "metadata": {
    "id": "pyazKwXbNPcG"
   },
   "source": [
    "## Passing A Batch Of Images To The Network"
   ]
  },
  {
   "cell_type": "code",
   "execution_count": 475,
   "metadata": {
    "id": "C2Xo7id0NSF7"
   },
   "outputs": [],
   "source": [
    "import torch   ## Top-level pytorch package in the tensor library\n",
    "import torchvision  ## Package that provides access to popular datasets, model architectures and image trasformations for computer vision\n",
    "import torchvision.transforms as transforms ## An interface that gives us acess to common tranformations for our image processing\n",
    "import torch.nn.functional as F\n",
    "import numpy as np\n",
    "import matplotlib.pyplot as plt\n",
    "\n",
    "torch.set_printoptions(linewidth=120) ## Sets the linewidth for pytorch output that is printed to the console\n",
    "\n",
    "\n",
    "\n",
    "train_set = torchvision.datasets.FashionMNIST(\n",
    "    root =  \"./data/FashinMNIST\", ## This tells it where to load the data from if its there\n",
    "    train = True, ## This tells we want the training set\n",
    "    download = True, ## This tells the class to download the data if its not present in the location we specified.\n",
    "\n",
    "    transform = transforms.Compose([transforms.ToTensor()])) ## Here we pass a composition of transformations that should be performed on the datasets\n",
    "                                                             ## We use ToTensor() transformation since we want our images to be transformed to tensors\n",
    "\n"
   ]
  },
  {
   "cell_type": "markdown",
   "metadata": {
    "id": "P0YtrF_XOLx3"
   },
   "source": [
    "#### Now, we'll use our training set to create a new DataLoader instance, and we'll set our batch_size=10, so the outputs will be more manageable."
   ]
  },
  {
   "cell_type": "code",
   "execution_count": 476,
   "metadata": {
    "id": "7UEg4RL_OABn"
   },
   "outputs": [],
   "source": [
    "data_loader = torch.utils.data.DataLoader(\n",
    "    train_set,\n",
    "    batch_size = 10\n",
    ")"
   ]
  },
  {
   "cell_type": "code",
   "execution_count": 477,
   "metadata": {
    "id": "MZJTEoiCOZKE"
   },
   "outputs": [],
   "source": [
    "# We'll pull a batch from the data loader and unpack the image and label tensors \n",
    "# from the batch. We'll name our variables using the plural forms since we know the \n",
    "# data loader is returning a batch of ten images when we call next on the data loader iterator.\n",
    "\n",
    "batch = next(iter(data_loader))\n",
    "images, labels = batch\n",
    "# In the last episode, when we pulled a single image from our training set,\n",
    "# we had to unsqueeze() the tensor to add another dimension that would effectively transform the singleton image into a batch with a size of one. \n",
    "# Now that we are working with the data loader, we are dealing with\n",
    "# batches by default, so there is no further processing needed."
   ]
  },
  {
   "cell_type": "code",
   "execution_count": 478,
   "metadata": {
    "colab": {
     "base_uri": "https://localhost:8080/"
    },
    "id": "uJ39r5P0OoDD",
    "outputId": "6ec0644e-7cce-4a72-9c07-74d68728eedd"
   },
   "outputs": [
    {
     "data": {
      "text/plain": [
       "torch.Size([10, 10])"
      ]
     },
     "execution_count": 478,
     "metadata": {},
     "output_type": "execute_result"
    }
   ],
   "source": [
    "# Alright. Let's get a prediction by passing the images tensor to the network.\n",
    "\n",
    "preds = network(images)\n",
    "preds.shape"
   ]
  },
  {
   "cell_type": "markdown",
   "metadata": {
    "id": "w6tvopWYR4VU"
   },
   "source": [
    "##### The prediction tensor has a shape of 10 by 10, which gives us two axes that each have a length of ten.\n",
    "#####  This reflects the fact that we have ten images and for each of these ten images we have ten prediction classes."
   ]
  },
  {
   "cell_type": "markdown",
   "metadata": {
    "id": "H4pIs_RxRF6U"
   },
   "source": [
    "## Using Argmax: Prediction Vs Label"
   ]
  },
  {
   "cell_type": "code",
   "execution_count": 479,
   "metadata": {
    "colab": {
     "base_uri": "https://localhost:8080/"
    },
    "id": "f_Ja8ijIRHRA",
    "outputId": "491ec8e8-3751-4071-edfd-5b2b194a6286"
   },
   "outputs": [
    {
     "data": {
      "text/plain": [
       "tensor([6, 6, 6, 6, 6, 6, 6, 6, 6, 6])"
      ]
     },
     "execution_count": 479,
     "metadata": {},
     "output_type": "execute_result"
    }
   ],
   "source": [
    "preds.argmax(dim=1) ## Predicted labels"
   ]
  },
  {
   "cell_type": "code",
   "execution_count": 480,
   "metadata": {
    "colab": {
     "base_uri": "https://localhost:8080/"
    },
    "id": "9E-82nGuReR2",
    "outputId": "42e209f4-3703-44f3-b728-8498a0d787bb"
   },
   "outputs": [
    {
     "data": {
      "text/plain": [
       "tensor([9, 0, 0, 3, 0, 2, 7, 2, 5, 5])"
      ]
     },
     "execution_count": 480,
     "metadata": {},
     "output_type": "execute_result"
    }
   ],
   "source": [
    "labels ## Actual labels"
   ]
  },
  {
   "cell_type": "markdown",
   "metadata": {
    "id": "HcHnT8rNS9FE"
   },
   "source": [
    "## Comparing to the label tensor"
   ]
  },
  {
   "cell_type": "code",
   "execution_count": 481,
   "metadata": {
    "colab": {
     "base_uri": "https://localhost:8080/"
    },
    "id": "r1A0BOYHSltF",
    "outputId": "380b84a9-4516-43e8-b55e-faca6aaa7518"
   },
   "outputs": [
    {
     "data": {
      "text/plain": [
       "tensor([False, False, False, False, False, False, False, False, False, False])"
      ]
     },
     "execution_count": 481,
     "metadata": {},
     "output_type": "execute_result"
    }
   ],
   "source": [
    " ## Actual labels\n",
    "preds.argmax(dim=1).eq(labels)"
   ]
  },
  {
   "cell_type": "code",
   "execution_count": 482,
   "metadata": {
    "colab": {
     "base_uri": "https://localhost:8080/"
    },
    "id": "0u4hpAKbTGlU",
    "outputId": "61d3269b-1431-422d-d6f6-dc7b4499910d"
   },
   "outputs": [
    {
     "data": {
      "text/plain": [
       "tensor(0)"
      ]
     },
     "execution_count": 482,
     "metadata": {},
     "output_type": "execute_result"
    }
   ],
   "source": [
    "## Total number of correct predictions \n",
    "# if we call the sum() function on this result, we can reduce the output into\n",
    "#  a single number of correct predictions inside this scalar valued tensor\n",
    "\n",
    "preds.argmax(dim=1).eq(labels).sum()\n",
    "\n",
    "# We can see that the network performs poorly since it is not trained yet"
   ]
  },
  {
   "cell_type": "markdown",
   "metadata": {
    "id": "Etzha4cpVgb9"
   },
   "source": [
    "#### We can wrap this last call into a function called get_num_correct() that accepts the predictions and the labels, and uses the item() method to return the Python number of correct predictions."
   ]
  },
  {
   "cell_type": "code",
   "execution_count": 483,
   "metadata": {
    "id": "AvHQL17vTlBR"
   },
   "outputs": [],
   "source": [
    "def get_num_correct_pred(preds:torch.float32,labels:torch.float32):\n",
    "  predicted_labels = preds.argmax(dim = 1)\n",
    "  comparision = predicted_labels.eq(labels)\n",
    "  num_correct_pred = comparision.sum().item()\n",
    "  return num_correct_pred"
   ]
  },
  {
   "cell_type": "code",
   "execution_count": 484,
   "metadata": {
    "colab": {
     "base_uri": "https://localhost:8080/"
    },
    "id": "EqU7joLAVXIU",
    "outputId": "c2696e80-a346-40bd-ae5a-95f06db5e241"
   },
   "outputs": [
    {
     "data": {
      "text/plain": [
       "0"
      ]
     },
     "execution_count": 484,
     "metadata": {},
     "output_type": "execute_result"
    }
   ],
   "source": [
    "## Number of correct predictions\n",
    "get_num_correct_pred(preds, labels)"
   ]
  },
  {
   "cell_type": "markdown",
   "metadata": {
    "id": "f6PqZDYfXjvA"
   },
   "source": [
    "## CNN OUTPUT SIZE FORMULA"
   ]
  },
  {
   "cell_type": "code",
   "execution_count": 485,
   "metadata": {
    "colab": {
     "base_uri": "https://localhost:8080/"
    },
    "id": "kVpgsP4aVa5B",
    "outputId": "47199e10-aa25-4287-e512-7ecbd08b0c27"
   },
   "outputs": [
    {
     "data": {
      "text/plain": [
       "tensor([[ 0.0571, -0.0002,  0.0227,  0.1459,  0.0443,  0.0893,  0.0299, -0.1398,  0.0337,  0.0685]])"
      ]
     },
     "execution_count": 485,
     "metadata": {},
     "output_type": "execute_result"
    }
   ],
   "source": [
    "# Passing A Batch Of Size One (A Single Image)\n",
    "# In a previous episode, we saw how we can pass a single image by adding a batch dimension using\n",
    "# PyTorch's unsqueeze() method. We'll pass this tensor to the network again, but this time we will\n",
    "# step through the forward() method using the debugger. This will allow us to inspect our tensor as transformations are performed.\n",
    "\n",
    "network = Network()\n",
    "network(image.unsqueeze(0))"
   ]
  },
  {
   "cell_type": "markdown",
   "metadata": {
    "id": "gsGrYsIMfbSI"
   },
   "source": [
    "# THIS CODE IS FROM THE DEBUGGER IN VSCODE"
   ]
  },
  {
   "cell_type": "code",
   "execution_count": 486,
   "metadata": {
    "id": "SmbbmV0ufGM3"
   },
   "outputs": [],
   "source": [
    "# # We saw how we can pass a single image by adding a batch dimension using PyTorch's unsqueeze() method.\n",
    "# #  We'll pass this tensor to the network again, but this time we will step through the forward() method using the debugger.\n",
    "# #   This will allow us to inspect our tensor as transformations are performed.\n",
    "\n",
    "\n",
    "# network = Network()\n",
    "# network(image.unsqueeze(0))\n",
    "\n",
    "#-----------------------------------------------------------------\n",
    "# #1 Input Layer\n",
    "#-----------------------------------------------------------------\n",
    "\n",
    "\n",
    "# When the tensor comes into the input layer, we have:\n",
    "\n",
    "# > t.shape\n",
    "# torch.Size([1, 1, 28, 28])\n",
    "# This value in each of these dimensions represent the following values: (batch_size, color_channel, height, width)\n",
    "\n",
    "\n",
    "# #-------------------------------------------------------------------\n",
    "# #2 Convolutional Layer (1)\n",
    "# #-------------------------------------------------------------------\n",
    "\n",
    "\n",
    "# When the tensor comes into this layer, we have:\n",
    "\n",
    "# > t.shape\n",
    "# torch.Size([1, 1, 28, 28])\n",
    "# After the first convolution operation self.conv1, we have:\n",
    "\n",
    "# > t.shape\n",
    "# torch.Size([1, 6, 24, 24])\n",
    "# The batch size is still 1. This makes sense because we wouldn't expect our batch size to change, and this is going to be the case through the entire forward pass.\n",
    "\n",
    "# The batch_size is fixed as we move through the forward pass.\n",
    "\n",
    "# The number of color channels has increased from 1 to 6. After we move forward beyond the first convolutional layer, \n",
    "# we don't think of the channels as color channels any longer. We just think of them as output channels. \n",
    "# The reason we have 6 output channels is due to the number of out_channels that we specified when self.conv1 was created.\n",
    "\n",
    "\n",
    "# #------------------------------------------------------------------------\n",
    "# Convolution Operations Use Filters\n",
    "# #------------------------------------------------------------------------\n",
    "\n",
    "\n",
    "# Like we have seen, this number 6 is arbitrary. The out_channels parameter instructs the nn.Conv2d layer class generate six filters, also known as kernels, with shape 5 by 5 with randomly initialized values. These filters are used to generate the six output channels.\n",
    "\n",
    "# The out_channels parameter determines how many filters will be created.\n",
    "\n",
    "\n",
    "#------------------------------------------------------------------------\n",
    "# The algorithm:\n",
    "#------------------------------------------------------------------------\n",
    "\n",
    "# Color channels are passed in.\n",
    "# Convolutions are performed using the weight tensor (filters).\n",
    "# Feature maps are produced and passed forward\n",
    "\n",
    "\n",
    "#-------------------------------------------------------------------------------------------------\n",
    "# The Max Pooling Operation\n",
    "#-------------------------------------------------------------------------------------------------\n",
    "\n",
    "\n",
    "# The pooling operation reduces the shape of our tensor further by extracting the maximum value from each 2x2 location within our tensor.\n",
    "\n",
    "# > t.shape\n",
    "# torch.Size([1, 6, 24, 24])\n",
    "\n",
    "# > t = F.max_pool2d(t, kernel_size=2, stride=2)\n",
    "# > t.shape\n",
    "# torch.Size([1, 6, 12, 12])\n",
    "\n",
    "#--------------------------------------------------------------------------------------------------------\n",
    "# Convolution Layer Summary\n",
    "#--------------------------------------------------------------------------------------------------------\n",
    "\n",
    "# The shapes of the tensor input to and output from the convolutional layer is given by:\n",
    "# Input shape: [1, 1, 28, 28]\n",
    "# Output shape: [1, 6, 12, 12]\n",
    "\n",
    "#--------------------------------------------------------------------------------------------------------\n",
    "# Summary of each operation that occurs:\n",
    "#--------------------------------------------------------------------------------------------------------\n",
    "\n",
    "# The convolution layer convolves the input tensor using six randomly initialized 5x5 filters.\n",
    "# This reduces the height and width dimensions by four.\n",
    "# The relu activation function operation maps all negative values to 0.\n",
    "# This means that all the values in the tensor are now positive.\n",
    "# The max pooling operation extracts the max value from each 2x2 section of the six feature maps that were created by the convolutions.\n",
    "# This reduced the height and width dimensions by twelve.\n",
    "\n"
   ]
  },
  {
   "cell_type": "markdown",
   "metadata": {
    "id": "_0c_4phKl9u8"
   },
   "source": [
    "## CNN Output Size Formula (SQUARE)"
   ]
  },
  {
   "cell_type": "code",
   "execution_count": 487,
   "metadata": {
    "id": "liGtZ-xqmBS8"
   },
   "outputs": [],
   "source": [
    "# Let's have a look at the formula for computing the output size of the tensor after performing convolutional and pooling operations. <br>\n",
    "      # CNN Output Size Formula (Square)\n",
    "      # Suppose we have an nxn input.\n",
    "      # Suppose we have an fxf filter.\n",
    "      # Suppose we have a padding of p and a stride of s.\n",
    "# The output size O is given by this formula:\n",
    "\n",
    "\n",
    "#O = [(n-f+2p)/s] + 1\n",
    "\n",
    "\n",
    "# This value will be the height and width of the output.\n",
    "# However, if the input or the filter isn't a square, this\n",
    "# formula needs to be applied twice, once for the width and once for the height."
   ]
  },
  {
   "cell_type": "markdown",
   "metadata": {
    "id": "MmTOFK_SnU24"
   },
   "source": [
    "## CNN Output Size Formula (NON-SQUARE)"
   ]
  },
  {
   "cell_type": "code",
   "execution_count": 488,
   "metadata": {
    "id": "a3Gmd-PbnZgm"
   },
   "outputs": [],
   "source": [
    "# Suppose we have an nh x nw input.\n",
    "# Suppose we have an fh x fw filter.\n",
    "# Suppose we have a padding of p and a stride of s.\n",
    "# The output size O is given by this formula:\n",
    "\n",
    "\n",
    "#Oh  = [(nh-fh+2p)/s] + 1\n",
    "\n",
    "#Ow  = [(nw-fw+2p)/s] + 1"
   ]
  },
  {
   "cell_type": "code",
   "execution_count": 489,
   "metadata": {
    "id": "Ql22YVr6n-f_"
   },
   "outputs": [],
   "source": [
    "#----------------------------------------------------------------------------------------\n",
    "# #3 Convolutional Layer (2)\n",
    "#----------------------------------------------------------------------------------------\n",
    "\n",
    "# The second hidden convolutional layer self.conv2, transforms the \n",
    "#tensor in the same was as self.conv1 and reduces the height and width dimensions further.\n",
    "#Before we run through these transformations, let's check the shape of the weight tensor for self.conv2:\n",
    "\n",
    "# self.conv2.weight.shape\n",
    "# torch.Size([12, 6, 5, 5])\n",
    "# This time our weight tensor has twelve filters of height of five and width of five,\n",
    "# but instead of having a single input channel, the number of channels is is coming in at six, which gives the filters a depth. \n",
    "#This accounts for the six output channels from the first convolutional layer. The resulting output will have twelve channels.\n",
    "\n",
    "# ----------------------------------------------------\n",
    "# Let's run these operations now.\n",
    "# ----------------------------------------------------\n",
    "\n",
    "# > t.shape\n",
    "# torch.Size([1, 6, 12, 12])\n",
    "\n",
    "# > t = self.conv2(t)\n",
    "# > t.shape\n",
    "# torch.Size([1, 12, 8, 8])\n",
    "\n",
    "# > t.min().item()\n",
    "# -0.39324113726615906\n",
    "\n",
    "# > t = F.relu(t)\n",
    "# > t.min().item()\n",
    "# 0.0\n",
    "\n",
    "# > t = F.max_pool2d(t, kernel_size=2, stride=2)\n",
    "# > t.shape\n",
    "# torch.Size([1, 12, 4, 4])\n",
    "\n",
    "\n",
    "\n",
    "# The shape of the resulting output of self.conv2 allows us to\n",
    "# see why we reshape the tensor using 12*4*4 before passing the tensor to the first linear layer, self.fc1.\n",
    "\n",
    "# As we have seen in the past, this particular reshaping is called flattening the tensor.\n",
    "# The flatten operation puts all of the tensor's elements into a single dimension.\n",
    "\n",
    "# > t = t.reshape(-1, 12*4*4)\n",
    "# > t.shape\n",
    "# torch.Size([1, 192])\n",
    "# The resulting shape is 1x192. The 1 in this case represents the batch size, and \n",
    "#the 192 is the number of elements in the tensor that are now in the same dimension.\n",
    "\n",
    "\n",
    "# -----------------------------------------------------------------------------\n",
    "# #4 #5 #6 Linear Layers\n",
    "# -------------------------------------------------------------------------------\n",
    "\n",
    "# Now, we just have a series of linear layers followed by non-linear activation function until we reach the output layer.\n",
    "\n",
    "# > t = self.fc1(t)\n",
    "\n",
    "# > t.shape\n",
    "# torch.Size([1, 120])\n",
    "\n",
    "# > t = self.fc2(t)\n",
    "# > t.shape\n",
    "# torch.Size([1, 60])\n",
    "\n",
    "# > t = self.out(t)\n",
    "# > t.shape\n",
    "# torch.Size([1, 10])\n",
    "\n",
    "# > t\n",
    "# tensor([[ 0.1009, -0.0842,  0.0349, -0.0640,  0.0754, -0.0057,  0.0878,  0.0296,  0.0345,  0.0236]])"
   ]
  },
  {
   "cell_type": "code",
   "execution_count": 490,
   "metadata": {
    "id": "v_dIR9LMfRuX"
   },
   "outputs": [],
   "source": [
    "#------------------------------------------------------\n",
    "                  #SUMMARY\n",
    "#--------------------------------------------------------\n",
    "\n",
    "# Operation\tOutput Shape\n",
    "# Identity function\ttorch.Size([1, 1, 28, 28])\n",
    "# Convolution (5 x 5)     \ttorch.Size([1, 6, 24, 24]) ## We get this because we dnt use any padding and stride = 1 1.e. O = (28 - 5 + 0)/1 + 1 = 24\n",
    "# Max pooling (2 x 2)     \ttorch.Size([1, 6, 12, 12]) ## For maxpooling, we get almost the same, but the stride here is 2, so we get 12 i.e O = (24 - 2 + 0)/2  + 1 = 12\n",
    "# Convolution (5 x 5)     \ttorch.Size([1, 12, 8, 8])\n",
    "# Max pooling (2 x 2)     \ttorch.Size([1, 12, 4, 4])\n",
    "# Flatten (reshape)\t        torch.Size([1, 192])\n",
    "# Linear transformation    \ttorch.Size([1, 120])\n",
    "# Linear transformation\t    torch.Size([1, 60])\n",
    "# Linear transformation\t    torch.Size([1, 10])"
   ]
  },
  {
   "cell_type": "markdown",
   "metadata": {
    "id": "41EIEGzGB4wL"
   },
   "source": [
    "# TRAINING A CNN, CALCULATE THE LOSS, GRADIENT AND UPDATE THE WEIGHTS"
   ]
  },
  {
   "cell_type": "markdown",
   "metadata": {
    "id": "5mPeAqO1E3Bi"
   },
   "source": [
    "## Training: What We Do After The Forward Pass <br>\n",
    "During training, we do a forward pass, but then what? We'll suppose we get a batch and pass it forward through the network. Once the output is obtained, we compare the predicted output to the actual labels, and once we know how close the predicted values are from the actual labels, we tweak the weights inside the network in such a way that the values the network predicts move closer to the true values (labels).\n",
    "\n",
    "All of this is for a single batch, and we repeat this process for every batch until we have covered every sample in our training set. After we've completed this process for all of the batches and passed over every sample in our training set, we say that an epoch is complete. We use the word epoch to represent a time period in which our entire training set has been covered."
   ]
  },
  {
   "cell_type": "code",
   "execution_count": 491,
   "metadata": {
    "id": "M1M-JU0Fhi6m"
   },
   "outputs": [],
   "source": [
    "# During the entire training process, we do as many epochs as necessary to\n",
    "#  reach our desired level of accuracy. With this, we have the following steps:\n",
    "    # Get batch from the training set.\n",
    "    # Pass batch to network.\n",
    "    # Calculate the loss (difference between the predicted values and the true values).\n",
    "    # Calculate the gradient of the loss function w.r.t the network's weights.\n",
    "    # Update the weights using the gradients to reduce the loss.\n",
    "    # Repeat steps 1-5 until one epoch is completed.\n",
    "    # Repeat steps 1-6 for as many epochs required to reach the minimum loss.\n"
   ]
  },
  {
   "cell_type": "code",
   "execution_count": 492,
   "metadata": {
    "colab": {
     "base_uri": "https://localhost:8080/"
    },
    "id": "m7Wa2WVpJbGT",
    "outputId": "068e84f9-7a0a-414c-c817-8f3b22eed73c"
   },
   "outputs": [
    {
     "data": {
      "text/plain": [
       "<torch.autograd.grad_mode.set_grad_enabled at 0x216296116d0>"
      ]
     },
     "execution_count": 492,
     "metadata": {},
     "output_type": "execute_result"
    }
   ],
   "source": [
    "import torch\n",
    "import torch.nn as nn\n",
    "import torch.nn.functional as F\n",
    "import torch.optim as optim\n",
    "\n",
    "import torchvision\n",
    "import torchvision.transforms as transforms\n",
    "torch.set_printoptions(linewidth=120)\n",
    "torch.set_grad_enabled(True)"
   ]
  },
  {
   "cell_type": "code",
   "execution_count": 493,
   "metadata": {
    "id": "budpF7tCKI8U"
   },
   "outputs": [],
   "source": [
    "def get_num_correct_pred(preds,labels):\n",
    "  predicted_labels = preds.argmax(dim = 1)\n",
    "  comparision = predicted_labels.eq(labels)\n",
    "  num_correct_pred = comparision.sum().item()\n",
    "  return num_correct_pred"
   ]
  },
  {
   "cell_type": "code",
   "execution_count": 494,
   "metadata": {
    "id": "1hweoIm4LE_S"
   },
   "outputs": [],
   "source": [
    "train_set = torchvision.datasets.FashionMNIST(\n",
    "    root =  \"./data/FashinMNIST\", ## This tells it where to load the data from if its there\n",
    "    train = True, ## This tells we want the training set\n",
    "    download = True, ## This tells the class to download the data if its not present in the location we specified.\n",
    "\n",
    "    transform = transforms.Compose([transforms.ToTensor()])) ## Here we pass a composition of transformations that should be performed on the datasets\n",
    "                                                             ## We use ToTensor() transformation since we want our images to be transformed to tensors\n",
    "\n",
    "\n",
    "\n",
    "class Network(nn.Module):\n",
    "    def __init__(self):\n",
    "        super().__init__()\n",
    "        self.conv1 = nn.Conv2d(in_channels=1, out_channels=6, kernel_size=5)\n",
    "        self.conv2 = nn.Conv2d(in_channels=6, out_channels=12, kernel_size=5)\n",
    "\n",
    "        self.fc1 = nn.Linear(in_features=12 * 4 * 4, out_features=120)\n",
    "        self.fc2 = nn.Linear(in_features=120, out_features=60)\n",
    "        self.out = nn.Linear(in_features=60, out_features=10)\n",
    "\n",
    "    def forward(self, t):\n",
    "      # (1) input layer\n",
    "      t = t \n",
    "\n",
    "      # (2) hidden conv layer\n",
    "      t = self.conv1(t)\n",
    "      t = F.relu(t)\n",
    "      t = F.max_pool2d(t, kernel_size=2, stride=2)\n",
    "\n",
    "      # (3) hidden conv layer\n",
    "      t = self.conv2(t)\n",
    "      t = F.relu(t)\n",
    "      t = F.max_pool2d(t, kernel_size=2, stride=2)\n",
    "\n",
    "      # (4) hidden linear layer\n",
    "      t = t.reshape(-1, 12 * 4 * 4) # This means we want to reshape to (1x192).\n",
    "                                    # This flattens each image tensor in the batch\n",
    "                                    #This is a tensor of a batch of 1 and a flattened image pf 192 pixels\n",
    "      t = self.fc1(t)\n",
    "      t = F.relu(t)\n",
    "\n",
    "      # (5) hidden linear layer\n",
    "      t = self.fc2(t)\n",
    "      t = F.relu(t)\n",
    "\n",
    "      # (6) output layer\n",
    "      t = self.out(t)\n",
    "  \n",
    "      return t\n"
   ]
  },
  {
   "cell_type": "markdown",
   "metadata": {
    "id": "HY4kUK9SLrUb"
   },
   "source": [
    "## Creating an instance of a network"
   ]
  },
  {
   "cell_type": "code",
   "execution_count": 495,
   "metadata": {
    "id": "Gjcff43jKwYy"
   },
   "outputs": [],
   "source": [
    "network = Network()"
   ]
  },
  {
   "cell_type": "markdown",
   "metadata": {
    "id": "0WKfthHuLoOt"
   },
   "source": [
    "## Getting a batch"
   ]
  },
  {
   "cell_type": "code",
   "execution_count": 496,
   "metadata": {
    "id": "Ue1RbUfDKkbH"
   },
   "outputs": [],
   "source": [
    "train_loader = torch.utils.data.DataLoader(train_set, batch_size=100)\n",
    "batch = next(iter(train_loader)) # Getting a batch\n",
    "images, labels = batch"
   ]
  },
  {
   "cell_type": "markdown",
   "metadata": {
    "id": "w6CoZD8bMF_r"
   },
   "source": [
    "## Calculating the loss"
   ]
  },
  {
   "cell_type": "code",
   "execution_count": 497,
   "metadata": {
    "colab": {
     "base_uri": "https://localhost:8080/"
    },
    "id": "2uuCvNntLgLf",
    "outputId": "147ce779-6ed9-462e-8f54-fccdfd1f0a85"
   },
   "outputs": [
    {
     "data": {
      "text/plain": [
       "2.311347723007202"
      ]
     },
     "execution_count": 497,
     "metadata": {},
     "output_type": "execute_result"
    }
   ],
   "source": [
    "preds  = network(images)\n",
    "loss = F.cross_entropy(preds, labels)\n",
    "loss.item()"
   ]
  },
  {
   "cell_type": "markdown",
   "metadata": {
    "id": "xRTRdoUaMwYn"
   },
   "source": [
    "## Calculating gradients"
   ]
  },
  {
   "cell_type": "code",
   "execution_count": 498,
   "metadata": {
    "colab": {
     "base_uri": "https://localhost:8080/"
    },
    "id": "v3OeiG_ONHxR",
    "outputId": "7fc76ee9-622c-4c11-d8c9-8edcef60a90c"
   },
   "outputs": [
    {
     "name": "stdout",
     "output_type": "stream",
     "text": [
      "None\n"
     ]
    }
   ],
   "source": [
    "print(network.conv1.weight.grad) #Initially no gradients"
   ]
  },
  {
   "cell_type": "code",
   "execution_count": 499,
   "metadata": {
    "id": "3R78KxuRMPJZ"
   },
   "outputs": [],
   "source": [
    "loss.backward()"
   ]
  },
  {
   "cell_type": "code",
   "execution_count": 500,
   "metadata": {
    "colab": {
     "base_uri": "https://localhost:8080/"
    },
    "id": "UGWdf2F9M7oj",
    "outputId": "4937522c-c176-48d8-bac8-ccd8f291736c"
   },
   "outputs": [
    {
     "data": {
      "text/plain": [
       "torch.Size([6, 1, 5, 5])"
      ]
     },
     "execution_count": 500,
     "metadata": {},
     "output_type": "execute_result"
    }
   ],
   "source": [
    "network.conv1.weight.grad.shape #Now the gradients have been calculated"
   ]
  },
  {
   "cell_type": "markdown",
   "metadata": {
    "id": "9a6IS4ciOOMK"
   },
   "source": [
    "## Updating The Weights\n",
    "hese gradients are used by the optimizer to update the respective weights. To create our optimizer, we use the torch.optim package that has many optimization algorithm implementations that we can use e.g SGD and Adam. We'll use Adam for our example\n",
    "\n",
    "To the Adam class constructor, we pass the network parameters (this is how the optimizer is able to access the gradients), and we pass the learning rate .\n",
    "\n",
    "Finally, all we have to do to update the weights is to tell the optimizer to use the gradients to step in the direction of the loss function's minimum."
   ]
  },
  {
   "cell_type": "code",
   "execution_count": 501,
   "metadata": {
    "colab": {
     "base_uri": "https://localhost:8080/"
    },
    "id": "SMvRo1FVOmRk",
    "outputId": "704134ce-e471-45d8-afd3-54c24218eaeb"
   },
   "outputs": [
    {
     "data": {
      "text/plain": [
       "2.311347723007202"
      ]
     },
     "execution_count": 501,
     "metadata": {},
     "output_type": "execute_result"
    }
   ],
   "source": [
    "loss.item() # Checking loss again "
   ]
  },
  {
   "cell_type": "code",
   "execution_count": 502,
   "metadata": {
    "colab": {
     "base_uri": "https://localhost:8080/"
    },
    "id": "yn5x72GoPK0v",
    "outputId": "ab6ffc13-046b-49b0-cd13-4bda60738f64"
   },
   "outputs": [
    {
     "data": {
      "text/plain": [
       "11"
      ]
     },
     "execution_count": 502,
     "metadata": {},
     "output_type": "execute_result"
    }
   ],
   "source": [
    "get_num_correct_pred(preds, labels) ## Correct predictions"
   ]
  },
  {
   "cell_type": "code",
   "execution_count": 503,
   "metadata": {
    "id": "orzivZ2MPTkG"
   },
   "outputs": [],
   "source": [
    "optimizer = optim.Adam(network.parameters(), lr=0.01)\n",
    "optimizer.step() # Updating the weights, telling the optimizer to start stepping"
   ]
  },
  {
   "cell_type": "markdown",
   "metadata": {
    "id": "aP10t-7PSMAk"
   },
   "source": [
    "# Now if we check the loss and number of correct predictions, we see an improvement"
   ]
  },
  {
   "cell_type": "code",
   "execution_count": 504,
   "metadata": {
    "colab": {
     "base_uri": "https://localhost:8080/"
    },
    "id": "_Xk0yFfuR4Bi",
    "outputId": "3d221169-59eb-4788-de04-4205f1fb7809"
   },
   "outputs": [
    {
     "data": {
      "text/plain": [
       "2.298386812210083"
      ]
     },
     "execution_count": 504,
     "metadata": {},
     "output_type": "execute_result"
    }
   ],
   "source": [
    "preds  = network(images)\n",
    "loss = F.cross_entropy(preds, labels)\n",
    "loss.item()"
   ]
  },
  {
   "cell_type": "code",
   "execution_count": 505,
   "metadata": {
    "colab": {
     "base_uri": "https://localhost:8080/"
    },
    "id": "kkZU6X2oSCWq",
    "outputId": "f51f76d6-2b69-435e-f4e7-5026a678d3dc"
   },
   "outputs": [
    {
     "data": {
      "text/plain": [
       "11"
      ]
     },
     "execution_count": 505,
     "metadata": {},
     "output_type": "execute_result"
    }
   ],
   "source": [
    "get_num_correct_pred(preds, labels) ## Correct predictions"
   ]
  },
  {
   "cell_type": "markdown",
   "metadata": {
    "id": "TmV0NiZmTQzO"
   },
   "source": [
    "## Train Using A Single Batch"
   ]
  },
  {
   "cell_type": "code",
   "execution_count": 506,
   "metadata": {
    "colab": {
     "base_uri": "https://localhost:8080/"
    },
    "id": "0-odUTehTTo9",
    "outputId": "2a212b16-3d55-4d48-d767-5da549beeae0"
   },
   "outputs": [
    {
     "name": "stdout",
     "output_type": "stream",
     "text": [
      "loss1: 2.3126933574676514\n",
      "loss2: 2.2790932655334473\n"
     ]
    }
   ],
   "source": [
    "network = Network()\n",
    "\n",
    "train_loader = torch.utils.data.DataLoader(train_set, batch_size=100)\n",
    "optimizer = optim.Adam(network.parameters(), lr=0.01)\n",
    "\n",
    "batch = next(iter(train_loader)) # Get Batch\n",
    "images, labels = batch\n",
    "\n",
    "preds = network(images) # Pass Batch\n",
    "loss = F.cross_entropy(preds, labels) # Calculate Loss\n",
    "\n",
    "loss.backward() # Calculate Gradients\n",
    "optimizer.step() # Update Weights\n",
    "\n",
    "#--------------------------------------------------------------------------------\n",
    "print('loss1:', loss.item()) ##Loss before any optimization\n",
    "preds = network(images)\n",
    "loss = F.cross_entropy(preds, labels) ##Loss after an optimization\n",
    "print('loss2:', loss.item())"
   ]
  },
  {
   "cell_type": "markdown",
   "metadata": {
    "id": "K_KaaIKYVAFN"
   },
   "source": [
    "## COMPLETE TRAINING LOOP"
   ]
  },
  {
   "cell_type": "code",
   "execution_count": 507,
   "metadata": {
    "colab": {
     "base_uri": "https://localhost:8080/"
    },
    "id": "6Ogx1Ai0TnEF",
    "outputId": "f3fc0310-d4c4-408d-c9f4-f07144ec221a"
   },
   "outputs": [
    {
     "data": {
      "text/plain": [
       "<torch.autograd.grad_mode.set_grad_enabled at 0x21629619b80>"
      ]
     },
     "execution_count": 507,
     "metadata": {},
     "output_type": "execute_result"
    }
   ],
   "source": [
    "import torch\n",
    "import torch.nn as nn\n",
    "import torch.nn.functional as F\n",
    "import torch.optim as optim\n",
    "\n",
    "import torchvision\n",
    "import torchvision.transforms as transforms\n",
    "torch.set_printoptions(linewidth=120)\n",
    "torch.set_grad_enabled(True) ## Turns on pytorch's gradient tracking feature"
   ]
  },
  {
   "cell_type": "code",
   "execution_count": 508,
   "metadata": {
    "id": "nSZMlGjoqShu"
   },
   "outputs": [],
   "source": [
    "def get_num_correct_pred(preds,labels):\n",
    "  predicted_labels = preds.argmax(dim = 1)\n",
    "  comparision = predicted_labels.eq(labels)\n",
    "  num_correct_pred = comparision.sum().item()\n",
    "  return num_correct_pred"
   ]
  },
  {
   "cell_type": "code",
   "execution_count": 509,
   "metadata": {
    "id": "HGHxa8m5qTiS"
   },
   "outputs": [],
   "source": [
    "train_set = torchvision.datasets.FashionMNIST(\n",
    "    root =  \"./data/FashinMNIST\", ## This tells it where to load the data from if its there\n",
    "    train = True, ## This tells we want the training set\n",
    "    download = True, ## This tells the class to download the data if its not present in the location we specified.\n",
    "\n",
    "    transform = transforms.Compose([transforms.ToTensor()])) ## Here we pass a composition of transformations that should be performed on the datasets\n",
    "                                                             ## We use ToTensor() transformation since we want our images to be transformed to tensors\n",
    "\n",
    "\n",
    "\n",
    "class Network(nn.Module):\n",
    "    def __init__(self):\n",
    "        super().__init__()\n",
    "        self.conv1 = nn.Conv2d(in_channels=1, out_channels=6, kernel_size=5)\n",
    "        self.conv2 = nn.Conv2d(in_channels=6, out_channels=12, kernel_size=5)\n",
    "\n",
    "        self.fc1 = nn.Linear(in_features=12 * 4 * 4, out_features=120)\n",
    "        self.fc2 = nn.Linear(in_features=120, out_features=60)\n",
    "        self.out = nn.Linear(in_features=60, out_features=10)\n",
    "\n",
    "    def forward(self, t):\n",
    "      # (1) input layer\n",
    "      t = t \n",
    "\n",
    "      # (2) hidden conv layer\n",
    "      t = self.conv1(t)\n",
    "      t = F.relu(t)\n",
    "      t = F.max_pool2d(t, kernel_size=2, stride=2)\n",
    "\n",
    "      # (3) hidden conv layer\n",
    "      t = self.conv2(t)\n",
    "      t = F.relu(t)\n",
    "      t = F.max_pool2d(t, kernel_size=2, stride=2)\n",
    "\n",
    "      # (4) hidden linear layer\n",
    "      t = t.reshape(-1, 12 * 4 * 4) # This means we want to reshape to (1x192).\n",
    "                                    # This flattens each image tensor in the batch\n",
    "                                    #This is a tensor of a batch of 1 and a flattened image pf 192 pixels\n",
    "      t = self.fc1(t)\n",
    "      t = F.relu(t)\n",
    "\n",
    "      # (5) hidden linear layer\n",
    "      t = self.fc2(t)\n",
    "      t = F.relu(t)\n",
    "\n",
    "      # (6) output layer\n",
    "      t = self.out(t)\n",
    "  \n",
    "      return t\n"
   ]
  },
  {
   "cell_type": "markdown",
   "metadata": {
    "id": "H-Hnwr9y-ZYq"
   },
   "source": [
    "## Single epoch"
   ]
  },
  {
   "cell_type": "code",
   "execution_count": 510,
   "metadata": {
    "colab": {
     "base_uri": "https://localhost:8080/"
    },
    "id": "_WKEMaRsuT6j",
    "outputId": "f01189ff-2cd1-45c1-c009-a0f3f34e5fb6"
   },
   "outputs": [
    {
     "ename": "KeyboardInterrupt",
     "evalue": "",
     "output_type": "error",
     "traceback": [
      "\u001b[1;31m---------------------------------------------------------------------------\u001b[0m",
      "\u001b[1;31mKeyboardInterrupt\u001b[0m                         Traceback (most recent call last)",
      "\u001b[1;32m<ipython-input-510-8172426ad057>\u001b[0m in \u001b[0;36m<module>\u001b[1;34m\u001b[0m\n\u001b[0;32m      9\u001b[0m \u001b[1;33m\u001b[0m\u001b[0m\n\u001b[0;32m     10\u001b[0m \u001b[1;33m\u001b[0m\u001b[0m\n\u001b[1;32m---> 11\u001b[1;33m \u001b[1;32mfor\u001b[0m \u001b[0mbatch\u001b[0m \u001b[1;32min\u001b[0m  \u001b[0mtrain_loader\u001b[0m\u001b[1;33m:\u001b[0m \u001b[1;31m# Get Batches\u001b[0m\u001b[1;33m\u001b[0m\u001b[1;33m\u001b[0m\u001b[0m\n\u001b[0m\u001b[0;32m     12\u001b[0m   \u001b[0mimages\u001b[0m\u001b[1;33m,\u001b[0m \u001b[0mlabels\u001b[0m \u001b[1;33m=\u001b[0m \u001b[0mbatch\u001b[0m\u001b[1;33m\u001b[0m\u001b[1;33m\u001b[0m\u001b[0m\n\u001b[0;32m     13\u001b[0m \u001b[1;33m\u001b[0m\u001b[0m\n",
      "\u001b[1;32mD:\\anaconda\\lib\\site-packages\\torch\\utils\\data\\dataloader.py\u001b[0m in \u001b[0;36m__next__\u001b[1;34m(self)\u001b[0m\n\u001b[0;32m    515\u001b[0m             \u001b[1;32mif\u001b[0m \u001b[0mself\u001b[0m\u001b[1;33m.\u001b[0m\u001b[0m_sampler_iter\u001b[0m \u001b[1;32mis\u001b[0m \u001b[1;32mNone\u001b[0m\u001b[1;33m:\u001b[0m\u001b[1;33m\u001b[0m\u001b[1;33m\u001b[0m\u001b[0m\n\u001b[0;32m    516\u001b[0m                 \u001b[0mself\u001b[0m\u001b[1;33m.\u001b[0m\u001b[0m_reset\u001b[0m\u001b[1;33m(\u001b[0m\u001b[1;33m)\u001b[0m\u001b[1;33m\u001b[0m\u001b[1;33m\u001b[0m\u001b[0m\n\u001b[1;32m--> 517\u001b[1;33m             \u001b[0mdata\u001b[0m \u001b[1;33m=\u001b[0m \u001b[0mself\u001b[0m\u001b[1;33m.\u001b[0m\u001b[0m_next_data\u001b[0m\u001b[1;33m(\u001b[0m\u001b[1;33m)\u001b[0m\u001b[1;33m\u001b[0m\u001b[1;33m\u001b[0m\u001b[0m\n\u001b[0m\u001b[0;32m    518\u001b[0m             \u001b[0mself\u001b[0m\u001b[1;33m.\u001b[0m\u001b[0m_num_yielded\u001b[0m \u001b[1;33m+=\u001b[0m \u001b[1;36m1\u001b[0m\u001b[1;33m\u001b[0m\u001b[1;33m\u001b[0m\u001b[0m\n\u001b[0;32m    519\u001b[0m             \u001b[1;32mif\u001b[0m \u001b[0mself\u001b[0m\u001b[1;33m.\u001b[0m\u001b[0m_dataset_kind\u001b[0m \u001b[1;33m==\u001b[0m \u001b[0m_DatasetKind\u001b[0m\u001b[1;33m.\u001b[0m\u001b[0mIterable\u001b[0m \u001b[1;32mand\u001b[0m\u001b[0;31m \u001b[0m\u001b[0;31m\\\u001b[0m\u001b[1;33m\u001b[0m\u001b[1;33m\u001b[0m\u001b[0m\n",
      "\u001b[1;32mD:\\anaconda\\lib\\site-packages\\torch\\utils\\data\\dataloader.py\u001b[0m in \u001b[0;36m_next_data\u001b[1;34m(self)\u001b[0m\n\u001b[0;32m    555\u001b[0m     \u001b[1;32mdef\u001b[0m \u001b[0m_next_data\u001b[0m\u001b[1;33m(\u001b[0m\u001b[0mself\u001b[0m\u001b[1;33m)\u001b[0m\u001b[1;33m:\u001b[0m\u001b[1;33m\u001b[0m\u001b[1;33m\u001b[0m\u001b[0m\n\u001b[0;32m    556\u001b[0m         \u001b[0mindex\u001b[0m \u001b[1;33m=\u001b[0m \u001b[0mself\u001b[0m\u001b[1;33m.\u001b[0m\u001b[0m_next_index\u001b[0m\u001b[1;33m(\u001b[0m\u001b[1;33m)\u001b[0m  \u001b[1;31m# may raise StopIteration\u001b[0m\u001b[1;33m\u001b[0m\u001b[1;33m\u001b[0m\u001b[0m\n\u001b[1;32m--> 557\u001b[1;33m         \u001b[0mdata\u001b[0m \u001b[1;33m=\u001b[0m \u001b[0mself\u001b[0m\u001b[1;33m.\u001b[0m\u001b[0m_dataset_fetcher\u001b[0m\u001b[1;33m.\u001b[0m\u001b[0mfetch\u001b[0m\u001b[1;33m(\u001b[0m\u001b[0mindex\u001b[0m\u001b[1;33m)\u001b[0m  \u001b[1;31m# may raise StopIteration\u001b[0m\u001b[1;33m\u001b[0m\u001b[1;33m\u001b[0m\u001b[0m\n\u001b[0m\u001b[0;32m    558\u001b[0m         \u001b[1;32mif\u001b[0m \u001b[0mself\u001b[0m\u001b[1;33m.\u001b[0m\u001b[0m_pin_memory\u001b[0m\u001b[1;33m:\u001b[0m\u001b[1;33m\u001b[0m\u001b[1;33m\u001b[0m\u001b[0m\n\u001b[0;32m    559\u001b[0m             \u001b[0mdata\u001b[0m \u001b[1;33m=\u001b[0m \u001b[0m_utils\u001b[0m\u001b[1;33m.\u001b[0m\u001b[0mpin_memory\u001b[0m\u001b[1;33m.\u001b[0m\u001b[0mpin_memory\u001b[0m\u001b[1;33m(\u001b[0m\u001b[0mdata\u001b[0m\u001b[1;33m)\u001b[0m\u001b[1;33m\u001b[0m\u001b[1;33m\u001b[0m\u001b[0m\n",
      "\u001b[1;32mD:\\anaconda\\lib\\site-packages\\torch\\utils\\data\\_utils\\fetch.py\u001b[0m in \u001b[0;36mfetch\u001b[1;34m(self, possibly_batched_index)\u001b[0m\n\u001b[0;32m     42\u001b[0m     \u001b[1;32mdef\u001b[0m \u001b[0mfetch\u001b[0m\u001b[1;33m(\u001b[0m\u001b[0mself\u001b[0m\u001b[1;33m,\u001b[0m \u001b[0mpossibly_batched_index\u001b[0m\u001b[1;33m)\u001b[0m\u001b[1;33m:\u001b[0m\u001b[1;33m\u001b[0m\u001b[1;33m\u001b[0m\u001b[0m\n\u001b[0;32m     43\u001b[0m         \u001b[1;32mif\u001b[0m \u001b[0mself\u001b[0m\u001b[1;33m.\u001b[0m\u001b[0mauto_collation\u001b[0m\u001b[1;33m:\u001b[0m\u001b[1;33m\u001b[0m\u001b[1;33m\u001b[0m\u001b[0m\n\u001b[1;32m---> 44\u001b[1;33m             \u001b[0mdata\u001b[0m \u001b[1;33m=\u001b[0m \u001b[1;33m[\u001b[0m\u001b[0mself\u001b[0m\u001b[1;33m.\u001b[0m\u001b[0mdataset\u001b[0m\u001b[1;33m[\u001b[0m\u001b[0midx\u001b[0m\u001b[1;33m]\u001b[0m \u001b[1;32mfor\u001b[0m \u001b[0midx\u001b[0m \u001b[1;32min\u001b[0m \u001b[0mpossibly_batched_index\u001b[0m\u001b[1;33m]\u001b[0m\u001b[1;33m\u001b[0m\u001b[1;33m\u001b[0m\u001b[0m\n\u001b[0m\u001b[0;32m     45\u001b[0m         \u001b[1;32melse\u001b[0m\u001b[1;33m:\u001b[0m\u001b[1;33m\u001b[0m\u001b[1;33m\u001b[0m\u001b[0m\n\u001b[0;32m     46\u001b[0m             \u001b[0mdata\u001b[0m \u001b[1;33m=\u001b[0m \u001b[0mself\u001b[0m\u001b[1;33m.\u001b[0m\u001b[0mdataset\u001b[0m\u001b[1;33m[\u001b[0m\u001b[0mpossibly_batched_index\u001b[0m\u001b[1;33m]\u001b[0m\u001b[1;33m\u001b[0m\u001b[1;33m\u001b[0m\u001b[0m\n",
      "\u001b[1;32mD:\\anaconda\\lib\\site-packages\\torch\\utils\\data\\_utils\\fetch.py\u001b[0m in \u001b[0;36m<listcomp>\u001b[1;34m(.0)\u001b[0m\n\u001b[0;32m     42\u001b[0m     \u001b[1;32mdef\u001b[0m \u001b[0mfetch\u001b[0m\u001b[1;33m(\u001b[0m\u001b[0mself\u001b[0m\u001b[1;33m,\u001b[0m \u001b[0mpossibly_batched_index\u001b[0m\u001b[1;33m)\u001b[0m\u001b[1;33m:\u001b[0m\u001b[1;33m\u001b[0m\u001b[1;33m\u001b[0m\u001b[0m\n\u001b[0;32m     43\u001b[0m         \u001b[1;32mif\u001b[0m \u001b[0mself\u001b[0m\u001b[1;33m.\u001b[0m\u001b[0mauto_collation\u001b[0m\u001b[1;33m:\u001b[0m\u001b[1;33m\u001b[0m\u001b[1;33m\u001b[0m\u001b[0m\n\u001b[1;32m---> 44\u001b[1;33m             \u001b[0mdata\u001b[0m \u001b[1;33m=\u001b[0m \u001b[1;33m[\u001b[0m\u001b[0mself\u001b[0m\u001b[1;33m.\u001b[0m\u001b[0mdataset\u001b[0m\u001b[1;33m[\u001b[0m\u001b[0midx\u001b[0m\u001b[1;33m]\u001b[0m \u001b[1;32mfor\u001b[0m \u001b[0midx\u001b[0m \u001b[1;32min\u001b[0m \u001b[0mpossibly_batched_index\u001b[0m\u001b[1;33m]\u001b[0m\u001b[1;33m\u001b[0m\u001b[1;33m\u001b[0m\u001b[0m\n\u001b[0m\u001b[0;32m     45\u001b[0m         \u001b[1;32melse\u001b[0m\u001b[1;33m:\u001b[0m\u001b[1;33m\u001b[0m\u001b[1;33m\u001b[0m\u001b[0m\n\u001b[0;32m     46\u001b[0m             \u001b[0mdata\u001b[0m \u001b[1;33m=\u001b[0m \u001b[0mself\u001b[0m\u001b[1;33m.\u001b[0m\u001b[0mdataset\u001b[0m\u001b[1;33m[\u001b[0m\u001b[0mpossibly_batched_index\u001b[0m\u001b[1;33m]\u001b[0m\u001b[1;33m\u001b[0m\u001b[1;33m\u001b[0m\u001b[0m\n",
      "\u001b[1;32mD:\\anaconda\\lib\\site-packages\\torchvision\\datasets\\mnist.py\u001b[0m in \u001b[0;36m__getitem__\u001b[1;34m(self, index)\u001b[0m\n\u001b[0;32m    110\u001b[0m \u001b[1;33m\u001b[0m\u001b[0m\n\u001b[0;32m    111\u001b[0m         \u001b[1;32mif\u001b[0m \u001b[0mself\u001b[0m\u001b[1;33m.\u001b[0m\u001b[0mtransform\u001b[0m \u001b[1;32mis\u001b[0m \u001b[1;32mnot\u001b[0m \u001b[1;32mNone\u001b[0m\u001b[1;33m:\u001b[0m\u001b[1;33m\u001b[0m\u001b[1;33m\u001b[0m\u001b[0m\n\u001b[1;32m--> 112\u001b[1;33m             \u001b[0mimg\u001b[0m \u001b[1;33m=\u001b[0m \u001b[0mself\u001b[0m\u001b[1;33m.\u001b[0m\u001b[0mtransform\u001b[0m\u001b[1;33m(\u001b[0m\u001b[0mimg\u001b[0m\u001b[1;33m)\u001b[0m\u001b[1;33m\u001b[0m\u001b[1;33m\u001b[0m\u001b[0m\n\u001b[0m\u001b[0;32m    113\u001b[0m \u001b[1;33m\u001b[0m\u001b[0m\n\u001b[0;32m    114\u001b[0m         \u001b[1;32mif\u001b[0m \u001b[0mself\u001b[0m\u001b[1;33m.\u001b[0m\u001b[0mtarget_transform\u001b[0m \u001b[1;32mis\u001b[0m \u001b[1;32mnot\u001b[0m \u001b[1;32mNone\u001b[0m\u001b[1;33m:\u001b[0m\u001b[1;33m\u001b[0m\u001b[1;33m\u001b[0m\u001b[0m\n",
      "\u001b[1;32mD:\\anaconda\\lib\\site-packages\\torchvision\\transforms\\transforms.py\u001b[0m in \u001b[0;36m__call__\u001b[1;34m(self, img)\u001b[0m\n\u001b[0;32m     58\u001b[0m     \u001b[1;32mdef\u001b[0m \u001b[0m__call__\u001b[0m\u001b[1;33m(\u001b[0m\u001b[0mself\u001b[0m\u001b[1;33m,\u001b[0m \u001b[0mimg\u001b[0m\u001b[1;33m)\u001b[0m\u001b[1;33m:\u001b[0m\u001b[1;33m\u001b[0m\u001b[1;33m\u001b[0m\u001b[0m\n\u001b[0;32m     59\u001b[0m         \u001b[1;32mfor\u001b[0m \u001b[0mt\u001b[0m \u001b[1;32min\u001b[0m \u001b[0mself\u001b[0m\u001b[1;33m.\u001b[0m\u001b[0mtransforms\u001b[0m\u001b[1;33m:\u001b[0m\u001b[1;33m\u001b[0m\u001b[1;33m\u001b[0m\u001b[0m\n\u001b[1;32m---> 60\u001b[1;33m             \u001b[0mimg\u001b[0m \u001b[1;33m=\u001b[0m \u001b[0mt\u001b[0m\u001b[1;33m(\u001b[0m\u001b[0mimg\u001b[0m\u001b[1;33m)\u001b[0m\u001b[1;33m\u001b[0m\u001b[1;33m\u001b[0m\u001b[0m\n\u001b[0m\u001b[0;32m     61\u001b[0m         \u001b[1;32mreturn\u001b[0m \u001b[0mimg\u001b[0m\u001b[1;33m\u001b[0m\u001b[1;33m\u001b[0m\u001b[0m\n\u001b[0;32m     62\u001b[0m \u001b[1;33m\u001b[0m\u001b[0m\n",
      "\u001b[1;32mD:\\anaconda\\lib\\site-packages\\torchvision\\transforms\\transforms.py\u001b[0m in \u001b[0;36m__call__\u001b[1;34m(self, pic)\u001b[0m\n\u001b[0;32m     95\u001b[0m             \u001b[0mTensor\u001b[0m\u001b[1;33m:\u001b[0m \u001b[0mConverted\u001b[0m \u001b[0mimage\u001b[0m\u001b[1;33m.\u001b[0m\u001b[1;33m\u001b[0m\u001b[1;33m\u001b[0m\u001b[0m\n\u001b[0;32m     96\u001b[0m         \"\"\"\n\u001b[1;32m---> 97\u001b[1;33m         \u001b[1;32mreturn\u001b[0m \u001b[0mF\u001b[0m\u001b[1;33m.\u001b[0m\u001b[0mto_tensor\u001b[0m\u001b[1;33m(\u001b[0m\u001b[0mpic\u001b[0m\u001b[1;33m)\u001b[0m\u001b[1;33m\u001b[0m\u001b[1;33m\u001b[0m\u001b[0m\n\u001b[0m\u001b[0;32m     98\u001b[0m \u001b[1;33m\u001b[0m\u001b[0m\n\u001b[0;32m     99\u001b[0m     \u001b[1;32mdef\u001b[0m \u001b[0m__repr__\u001b[0m\u001b[1;33m(\u001b[0m\u001b[0mself\u001b[0m\u001b[1;33m)\u001b[0m\u001b[1;33m:\u001b[0m\u001b[1;33m\u001b[0m\u001b[1;33m\u001b[0m\u001b[0m\n",
      "\u001b[1;32mD:\\anaconda\\lib\\site-packages\\torchvision\\transforms\\functional.py\u001b[0m in \u001b[0;36mto_tensor\u001b[1;34m(pic)\u001b[0m\n\u001b[0;32m    140\u001b[0m     \u001b[0mimg\u001b[0m \u001b[1;33m=\u001b[0m \u001b[0mimg\u001b[0m\u001b[1;33m.\u001b[0m\u001b[0mpermute\u001b[0m\u001b[1;33m(\u001b[0m\u001b[1;33m(\u001b[0m\u001b[1;36m2\u001b[0m\u001b[1;33m,\u001b[0m \u001b[1;36m0\u001b[0m\u001b[1;33m,\u001b[0m \u001b[1;36m1\u001b[0m\u001b[1;33m)\u001b[0m\u001b[1;33m)\u001b[0m\u001b[1;33m.\u001b[0m\u001b[0mcontiguous\u001b[0m\u001b[1;33m(\u001b[0m\u001b[1;33m)\u001b[0m\u001b[1;33m\u001b[0m\u001b[1;33m\u001b[0m\u001b[0m\n\u001b[0;32m    141\u001b[0m     \u001b[1;32mif\u001b[0m \u001b[0misinstance\u001b[0m\u001b[1;33m(\u001b[0m\u001b[0mimg\u001b[0m\u001b[1;33m,\u001b[0m \u001b[0mtorch\u001b[0m\u001b[1;33m.\u001b[0m\u001b[0mByteTensor\u001b[0m\u001b[1;33m)\u001b[0m\u001b[1;33m:\u001b[0m\u001b[1;33m\u001b[0m\u001b[1;33m\u001b[0m\u001b[0m\n\u001b[1;32m--> 142\u001b[1;33m         \u001b[1;32mreturn\u001b[0m \u001b[0mimg\u001b[0m\u001b[1;33m.\u001b[0m\u001b[0mto\u001b[0m\u001b[1;33m(\u001b[0m\u001b[0mdtype\u001b[0m\u001b[1;33m=\u001b[0m\u001b[0mdefault_float_dtype\u001b[0m\u001b[1;33m)\u001b[0m\u001b[1;33m.\u001b[0m\u001b[0mdiv\u001b[0m\u001b[1;33m(\u001b[0m\u001b[1;36m255\u001b[0m\u001b[1;33m)\u001b[0m\u001b[1;33m\u001b[0m\u001b[1;33m\u001b[0m\u001b[0m\n\u001b[0m\u001b[0;32m    143\u001b[0m     \u001b[1;32melse\u001b[0m\u001b[1;33m:\u001b[0m\u001b[1;33m\u001b[0m\u001b[1;33m\u001b[0m\u001b[0m\n\u001b[0;32m    144\u001b[0m         \u001b[1;32mreturn\u001b[0m \u001b[0mimg\u001b[0m\u001b[1;33m\u001b[0m\u001b[1;33m\u001b[0m\u001b[0m\n",
      "\u001b[1;31mKeyboardInterrupt\u001b[0m: "
     ]
    }
   ],
   "source": [
    "#Using all batches\n",
    "network = Network()\n",
    "\n",
    "train_loader = torch.utils.data.DataLoader(train_set, batch_size=100)\n",
    "optimizer = optim.Adam(network.parameters(), lr=0.01)\n",
    "\n",
    "total_loss = 0\n",
    "total_correct = 0\n",
    "\n",
    "\n",
    "for batch in  train_loader: # Get Batches\n",
    "  images, labels = batch\n",
    "\n",
    "  preds = network(images) # Pass Batch\n",
    "  loss = F.cross_entropy(preds, labels) # Calculate Loss\n",
    "\n",
    "  ##Total up the loss and num_correct predictions as we go\n",
    "  total_loss += loss.item()\n",
    "  total_correct += get_num_correct_pred(preds, label)\n",
    "\n",
    "  optimizer.zero_grad()## Zeros out any gradient values that currently exist.\n",
    "                      ## This is because pytorch accumulates gradients (grad++)\n",
    "  loss.backward() # Calculate Gradients\n",
    "  optimizer.step() # Update Weights\n",
    "\n",
    "print(\"Epoch:\", 0, \"Total correct:\", total_correct, \"Total loss:\", total_loss)"
   ]
  },
  {
   "cell_type": "code",
   "execution_count": null,
   "metadata": {
    "colab": {
     "base_uri": "https://localhost:8080/"
    },
    "id": "uGkhrKZZ-zJ5",
    "outputId": "94ec10e3-8f99-4255-8116-735aa5650120"
   },
   "outputs": [],
   "source": [
    "Accuracy = (total_correct/len(train_set))*100\n",
    "print(\"Accuracy % = \",Accuracy)"
   ]
  },
  {
   "cell_type": "code",
   "execution_count": null,
   "metadata": {
    "colab": {
     "base_uri": "https://localhost:8080/"
    },
    "id": "I6QLmEC6-tIY",
    "outputId": "71bba08a-ad41-40d9-bab2-ccf4447162b0"
   },
   "outputs": [],
   "source": [
    "## We can get the number of time the loop executes by calculating the number of batches\n",
    "num_batches = len(train_set)/100 #batch_size = 100\n",
    "num_batches"
   ]
  },
  {
   "cell_type": "markdown",
   "metadata": {
    "id": "iA6bousS-ewW"
   },
   "source": [
    "## Multiple **epochs**, complete training loop"
   ]
  },
  {
   "cell_type": "code",
   "execution_count": null,
   "metadata": {
    "colab": {
     "base_uri": "https://localhost:8080/"
    },
    "id": "5KEK74xq-ow9",
    "outputId": "8768c01b-cfec-41f9-ccd7-f4ce7e19e560"
   },
   "outputs": [],
   "source": [
    "#Using all batches\n",
    "network = Network()\n",
    "\n",
    "train_loader = torch.utils.data.DataLoader(train_set, batch_size=100)\n",
    "optimizer = optim.Adam(network.parameters(), lr=0.01)\n",
    "\n",
    "total_loss = 0\n",
    "total_correct = 0\n",
    "\n",
    "for epoch in range(3):\n",
    "  for batch in  train_loader: # Get Batches\n",
    "    images, labels = batch\n",
    "\n",
    "    preds = network(images) # Pass Batch\n",
    "    loss = F.cross_entropy(preds, labels) # Calculate Loss\n",
    "\n",
    "    ##Total up the loss and num_correct predictions as we go\n",
    "    total_loss += loss.item()\n",
    "    total_correct += get_num_correct_pred(preds, label)\n",
    "\n",
    "    optimizer.zero_grad()## Zeros out any gradient values that currently exist.\n",
    "                        ## This is because pytorch accumulates gradients (grad++)\n",
    "    loss.backward() # Calculate Gradients\n",
    "    optimizer.step() # Update Weights\n",
    "\n",
    "  Accuracy = (total_correct/len(train_set))*100 ## This is the accuracy for each epoch\n",
    "  print(\"Epoch:\",    epoch, \"Total correct:\",    total_correct, \"Total loss:\",    total_loss,    \"Accuracy\", Accuracy)"
   ]
  },
  {
   "cell_type": "code",
   "execution_count": null,
   "metadata": {
    "colab": {
     "base_uri": "https://localhost:8080/"
    },
    "id": "dlSglTtQz3yD",
    "outputId": "2f1a3dc8-4f20-409e-cd8f-2bf841dad4b5"
   },
   "outputs": [],
   "source": [
    "Accuracy = (total_correct/len(train_set))*100\n",
    "print(\"Accuracy % = \",Accuracy)"
   ]
  },
  {
   "cell_type": "markdown",
   "metadata": {
    "id": "UoNm03GuAKrR"
   },
   "source": [
    "# Create A Confusion Matrix With PyTorch\n",
    "A confusion matrix will show us where the model is getting confused. To be more specific, the confusion matrix will show us which categories the model is predicting correctly and which categories the model is predicting incorrectly. For the incorrect predictions, we will be able to see which category the model predicted, and this will show us which categories are confusing the model.\n",
    "\n",
    "**To create a confusion matrix for our entire dataset, we need to have a prediction tensor with a single dimension that has the same length as our training set.**"
   ]
  },
  {
   "cell_type": "markdown",
   "metadata": {
    "id": "RfoEylHLe6_d"
   },
   "source": [
    "## Get Predictions For The Entire Training Set\n",
    "To get the predictions for all the training set samples, we need to pass all of the samples forward through the network\n",
    "\n",
    "To do this, it is possible to create a DataLoader that has batch_size=1. This will pass a single batch to the network at once and will give us the desired prediction tensor for all the training set samples.\n",
    "\n",
    "However, depending on the computing resources and the size of the training set if we were training on a different data set, we need a way to prediction on smaller batches and collect the results. To collect the results, we'll use the torch.cat() function to concatenate the output tensors together to obtain our single prediction tensor. Let's build a function to do this."
   ]
  },
  {
   "cell_type": "code",
   "execution_count": null,
   "metadata": {
    "colab": {
     "base_uri": "https://localhost:8080/"
    },
    "id": "byNzn6sye-G1",
    "outputId": "a98c4fcb-1ac4-4375-ea78-b9dd1072cfeb"
   },
   "outputs": [],
   "source": [
    "#We'll create a function called get_all_preds(), and we'll pass a model and a data loader. The model will be used to obtain\n",
    "#the predictions, and the data loader will be used to provide the batches from the training set.\n",
    "#  All the function needs to do is iterate over the data loader passing the batches to the model\n",
    "#   and concatenating the results of each batch to a prediction tensor that will returned to the caller.\n",
    "\n",
    "@torch.no_grad() ## Because we want this functions execution to omit gradient tracking. This does it locally instead of globally(torch.set_grad_enabled(false)).\n",
    "def get_all_preds(model, loader):\n",
    "    all_preds = torch.tensor([])\n",
    "    for batch in loader:\n",
    "        images, labels = batch\n",
    "\n",
    "        preds = model(images)\n",
    "        all_preds = torch.cat( (all_preds, preds), dim=0 )\n",
    "    return all_preds\n",
    "\n",
    "prediction_loader = torch.utils.data.DataLoader(train_set, batch_size=10000)\n",
    "train_preds = get_all_preds(network, prediction_loader)\n",
    "\n",
    "\n",
    "#----------------------------------------------------------------------------------------------------------------------------------------------------------\n",
    "# Turning off PyTorch's gradient tracking feature locally in a different way\n",
    "#As another example we, we can use Python's with context manger keyword to specify that a specify block of code should exclude gradient computations.\n",
    "# with torch.no_grad():\n",
    "#     prediction_loader = torch.utils.data.DataLoader(train_set, batch_size=10000)\n",
    "#     train_preds = get_all_preds(network, prediction_loader)\n",
    "#-----------------------------------------------------------------------------------------------------------------------------------------------------------\n",
    "\n",
    "\n",
    "train_preds.shape"
   ]
  },
  {
   "cell_type": "code",
   "execution_count": null,
   "metadata": {
    "colab": {
     "base_uri": "https://localhost:8080/"
    },
    "id": "5vXyE6cJilsI",
    "outputId": "69ad54c3-9a9c-4663-8d24-3b9a599d7017"
   },
   "outputs": [],
   "source": [
    "train_preds.requires_grad #That's because we turned on gradient tracking"
   ]
  },
  {
   "cell_type": "markdown",
   "metadata": {
    "id": "VziHZrfkjkjL"
   },
   "source": [
    "## Using The Predictions Tensor"
   ]
  },
  {
   "cell_type": "code",
   "execution_count": null,
   "metadata": {
    "colab": {
     "base_uri": "https://localhost:8080/"
    },
    "id": "gF6CzIFyggL7",
    "outputId": "925fddd2-ea3e-48d3-c179-d8e2c1e65ff9"
   },
   "outputs": [],
   "source": [
    "preds_correct = get_num_correct_pred(train_preds, train_set.targets)\n",
    "\n",
    "print('total correct:', preds_correct)\n",
    "print('accuracy:', preds_correct / len(train_set))"
   ]
  },
  {
   "cell_type": "markdown",
   "metadata": {
    "id": "6Ltdeaivl4LW"
   },
   "source": [
    "## Building a confusion maxtrix"
   ]
  },
  {
   "cell_type": "code",
   "execution_count": null,
   "metadata": {
    "colab": {
     "base_uri": "https://localhost:8080/"
    },
    "id": "qW-ewJ6wj0kL",
    "outputId": "6e0181f2-dc2c-49aa-ef24-7770294066c9"
   },
   "outputs": [],
   "source": [
    "# To do this, we need to have the targets tensor and the predicted label from the train_preds tensor.\n",
    "\n",
    "train_set.targets\n",
    "train_preds.argmax(dim=1)\n",
    "\n",
    "print(train_set.targets)\n",
    "print(train_preds.argmax(dim=1))"
   ]
  },
  {
   "cell_type": "code",
   "execution_count": null,
   "metadata": {
    "colab": {
     "base_uri": "https://localhost:8080/"
    },
    "id": "kDV7Yl_qmEHW",
    "outputId": "e017f2c5-da32-4edf-c1df-b9977ed9387b"
   },
   "outputs": [],
   "source": [
    "# Now, if we compare the two tensors element-wise, \n",
    "# we can see if the predicted label matches the target. \n",
    "#We can pair up the two tensors by stacking them up\n",
    "\n",
    "stacked = torch.stack(  ( train_set.targets, train_preds.argmax(dim=1)), dim=1  )\n",
    "print(stacked)\n",
    "\n",
    "## We can get a list from the stacked tensor \n",
    "stacked[0].tolist()"
   ]
  },
  {
   "cell_type": "code",
   "execution_count": null,
   "metadata": {
    "colab": {
     "base_uri": "https://localhost:8080/"
    },
    "id": "9nv-AL4Lnh9s",
    "outputId": "1ee4831a-2fa8-4f74-db9c-d0ecb2bb54f3"
   },
   "outputs": [],
   "source": [
    "# Now, we can iterate over these pairs and count the number of occurrences at each position in the matrix.\n",
    "# Let's create the matrix. Since we have ten prediction categories, we'll have a ten by ten matrix.\n",
    "# But first, we have to create an empty tenor which will eventually represent the confusion matrix\n",
    "cmt = torch.zeros(10,10, dtype=torch.int64)\n",
    "cmt"
   ]
  },
  {
   "cell_type": "code",
   "execution_count": null,
   "metadata": {
    "id": "zni19qmqoj-g"
   },
   "outputs": [],
   "source": [
    "# Now, we'll iterate over the prediction-target pairs and \n",
    "# add one to the value inside the matrix each time the particular position occurs.\n",
    "\n",
    "for p in stacked:\n",
    "    tl, pl = p.tolist()\n",
    "    cmt[tl, pl] = cmt[tl, pl] + 1"
   ]
  },
  {
   "cell_type": "code",
   "execution_count": null,
   "metadata": {
    "colab": {
     "base_uri": "https://localhost:8080/"
    },
    "id": "_CTjfrz3pC1b",
    "outputId": "3c80c613-c0d7-4b59-f382-dd835d2c5ab0"
   },
   "outputs": [],
   "source": [
    "cmt"
   ]
  },
  {
   "cell_type": "markdown",
   "metadata": {
    "id": "Nm3ss6AHpN0m"
   },
   "source": [
    "## Plotting The Confusion Matrix"
   ]
  },
  {
   "cell_type": "code",
   "execution_count": null,
   "metadata": {
    "colab": {
     "base_uri": "https://localhost:8080/"
    },
    "id": "oCFDqnWYpPfG",
    "outputId": "647a0a1d-b16d-45ac-8822-3d88154df1b7"
   },
   "outputs": [],
   "source": [
    "# We can also use sklearn to generate the confusion matrix for us\n",
    "\n",
    "import matplotlib.pyplot as plt\n",
    "from sklearn.metrics import confusion_matrix\n",
    "\n",
    "cm = confusion_matrix(train_set.targets, train_preds.argmax(dim=1))\n",
    "cm ## As you can see, they look exactly the same"
   ]
  },
  {
   "cell_type": "code",
   "execution_count": null,
   "metadata": {
    "id": "yoXDCTOisoqa"
   },
   "outputs": [],
   "source": [
    "names = train_set.classes"
   ]
  },
  {
   "cell_type": "code",
   "execution_count": null,
   "metadata": {
    "colab": {
     "base_uri": "https://localhost:8080/",
     "height": 621
    },
    "id": "vGFPEEVYphKd",
    "outputId": "8d3bcf42-b7e3-4316-ec9a-9e5d3fa1d1fc"
   },
   "outputs": [],
   "source": [
    "import seaborn as sns\n",
    "plt.figure(figsize=(18,8))\n",
    "plt.suptitle(\"Confusion matrix for our network as a heatmap\", fontsize = 30)\n",
    "plt.tick_params(axis='x', labelsize=15)#Make x-scale visible\n",
    "plt.tick_params(axis='y', labelsize=15)#Make y-scale visible\n",
    "plt.xticks(rotation = 45) # Rotate the classes alittle bit\n",
    "sns.heatmap(cmt, xticklabels = names, yticklabels = names, annot=True, fmt='d', cmap='copper_r')\n",
    "plt.xlabel(\"Predicted\", fontsize = 20)\n",
    "plt.ylabel(\"True\",  fontsize = 20)\n",
    "plt.show()"
   ]
  },
  {
   "cell_type": "markdown",
   "metadata": {},
   "source": [
    "# Hyperparameter Tunnning\n",
    "\n",
    "We can manually change our parameters, but this is not an efficient way"
   ]
  },
  {
   "cell_type": "code",
   "execution_count": null,
   "metadata": {},
   "outputs": [],
   "source": [
    "from itertools import product\n",
    "\n",
    "parameters = dict(\n",
    "    batch_size  =   [100, 1000, 10000],\n",
    "    rl          =  [0.00001, 0.0001, 0.001, 0.01],\n",
    "    shuffle     =  [True, False]    \n",
    ")\n",
    "\n",
    "\n",
    "## Alternative way of creating the dictionary\n",
    "# parameters = {\n",
    "#     'batch_size' :   [100, 1000, 10000],\n",
    "#     'rl'         :   [0.00001, 0.0001, 0.001, 0.01],\n",
    "#     'shuffle'    :   [True, False]    \n",
    "# }\n",
    "\n",
    "\n",
    "param_values = [v for v in parameters.values()]\n",
    "param_values"
   ]
  },
  {
   "cell_type": "code",
   "execution_count": null,
   "metadata": {},
   "outputs": [],
   "source": [
    "for batch_size, rl, shuffle in product(*param_values):\n",
    "    print(batch_size,   rl,   shuffle)"
   ]
  },
  {
   "cell_type": "code",
   "execution_count": null,
   "metadata": {},
   "outputs": [],
   "source": [
    "network = Network()\n",
    "\n",
    "train_loader = torch.utils.data.DataLoader(train_set, batch_size=batch_size)\n",
    "optimizer = optim.Adam(network.parameters(), lr=lr)\n",
    "\n",
    "total_loss = 0\n",
    "total_correct = 0\n",
    "\n",
    "for epoch in range(3):\n",
    "      for batch in  train_loader: # Get Batches\n",
    "        images, labels = batch\n",
    "\n",
    "        preds = network(images) # Pass Batch\n",
    "        loss = F.cross_entropy(preds, labels) # Calculate Loss\n",
    "\n",
    "        ##Total up the loss and num_correct predictions as we go\n",
    "        total_loss += loss.item()\n",
    "        total_correct += get_num_correct_pred(preds, label)\n",
    "\n",
    "        optimizer.zero_grad()## Zeros out any gradient values that currently exist.\n",
    "                            ## This is because pytorch accumulates gradients (grad++)\n",
    "        loss.backward() # Calculate Gradients\n",
    "        optimizer.step() # Update Weights\n",
    "    Accuracy = (total_correct/len(train_set))*100 ## This is the accuracy for each epoch\n",
    "    print(\"Epoch:\",    epoch, \"Total correct:\",    total_correct, \"Total loss:\",    total_loss,    \"Accuracy\", Accuracy)"
   ]
  },
  {
   "cell_type": "markdown",
   "metadata": {},
   "source": [
    "## Run Builder Class"
   ]
  },
  {
   "cell_type": "code",
   "execution_count": 532,
   "metadata": {},
   "outputs": [],
   "source": [
    "from collections import OrderedDict\n",
    "from collections import namedtuple\n",
    "from itertools import product"
   ]
  },
  {
   "cell_type": "code",
   "execution_count": 535,
   "metadata": {},
   "outputs": [],
   "source": [
    "class RunBuilder():\n",
    "    \n",
    "    @staticmethod\n",
    "    def get_runs(parameters):\n",
    "        Run = namedtuple('Run', parameters.keys())\n",
    "        \n",
    "        runs = []\n",
    "\n",
    "        for v in product(*parameters.values()):\n",
    "            runs.append(Run(*v))\n",
    "        return runs"
   ]
  },
  {
   "cell_type": "code",
   "execution_count": 536,
   "metadata": {},
   "outputs": [
    {
     "name": "stdout",
     "output_type": "stream",
     "text": [
      "Run(batch_size=100, rl=1e-05, shuffle=True)\n",
      "Run(batch_size=100, rl=1e-05, shuffle=False)\n",
      "Run(batch_size=100, rl=0.0001, shuffle=True)\n",
      "Run(batch_size=100, rl=0.0001, shuffle=False)\n",
      "Run(batch_size=100, rl=0.001, shuffle=True)\n",
      "Run(batch_size=100, rl=0.001, shuffle=False)\n",
      "Run(batch_size=100, rl=0.01, shuffle=True)\n",
      "Run(batch_size=100, rl=0.01, shuffle=False)\n",
      "Run(batch_size=1000, rl=1e-05, shuffle=True)\n",
      "Run(batch_size=1000, rl=1e-05, shuffle=False)\n",
      "Run(batch_size=1000, rl=0.0001, shuffle=True)\n",
      "Run(batch_size=1000, rl=0.0001, shuffle=False)\n",
      "Run(batch_size=1000, rl=0.001, shuffle=True)\n",
      "Run(batch_size=1000, rl=0.001, shuffle=False)\n",
      "Run(batch_size=1000, rl=0.01, shuffle=True)\n",
      "Run(batch_size=1000, rl=0.01, shuffle=False)\n",
      "Run(batch_size=10000, rl=1e-05, shuffle=True)\n",
      "Run(batch_size=10000, rl=1e-05, shuffle=False)\n",
      "Run(batch_size=10000, rl=0.0001, shuffle=True)\n",
      "Run(batch_size=10000, rl=0.0001, shuffle=False)\n",
      "Run(batch_size=10000, rl=0.001, shuffle=True)\n",
      "Run(batch_size=10000, rl=0.001, shuffle=False)\n",
      "Run(batch_size=10000, rl=0.01, shuffle=True)\n",
      "Run(batch_size=10000, rl=0.01, shuffle=False)\n"
     ]
    }
   ],
   "source": [
    "## this is an example of generated runs by the RunBuilder class\n",
    "\n",
    "parameters = OrderedDict(\n",
    "    batch_size  =   [100, 1000, 10000],\n",
    "    rl          =  [0.00001, 0.0001, 0.001, 0.01],\n",
    "    shuffle     =  [True, False]    \n",
    ")\n",
    "\n",
    "for run in RunBuilder().get_runs(parameters):\n",
    "    comment = f'{run}'\n",
    "    print(comment)"
   ]
  },
  {
   "cell_type": "markdown",
   "metadata": {},
   "source": [
    "## Building The RunManger For Training Loop Runs\n",
    "### We can try to experiment with different parameters manually, or we can build classes that will make experimentation very easy for us"
   ]
  },
  {
   "cell_type": "code",
   "execution_count": 560,
   "metadata": {},
   "outputs": [],
   "source": [
    "import torch\n",
    "import torch.nn as nn\n",
    "import torch.optim as optim\n",
    "import torch.nn.functional as F\n",
    "import torchvision\n",
    "import torchvision.transforms as transforms\n",
    "\n",
    "from torch.utils.data import DataLoader\n",
    "# from torch.utils.tensorboard import SummaryWriter\n",
    "from IPython.display import display, clear_output\n",
    "import pandas as pd\n",
    "import time\n",
    "import json\n",
    "\n",
    "from itertools import product\n",
    "from collections import namedtuple\n",
    "from collections import OrderedDict\n",
    "    "
   ]
  },
  {
   "cell_type": "code",
   "execution_count": 618,
   "metadata": {},
   "outputs": [],
   "source": [
    "class RunManager():\n",
    "    def __init__(self):\n",
    "\n",
    "        self.epoch_count = 0\n",
    "        self.epoch_loss = 0\n",
    "        self.epoch_num_correct = 0\n",
    "        self.epoch_start_time = None\n",
    "\n",
    "        self.run_params = None\n",
    "        self.run_count = 0\n",
    "        self.run_data = []\n",
    "        self.run_start_time = None\n",
    "\n",
    "        self.network = None\n",
    "        self.loader = None\n",
    "        self.tb = None\n",
    "    \n",
    "    \n",
    "    def begin_run(self, run, network, loader):\n",
    "\n",
    "        self.run_start_time = time.time()\n",
    "\n",
    "        self.run_params = run\n",
    "        self.run_count += 1\n",
    "\n",
    "        self.network = network\n",
    "        self.loader = loader\n",
    "    #     self.tb = SummaryWriter(comment=f'-{run}')\n",
    "\n",
    "        images, labels = next(iter(self.loader))\n",
    "    #     grid = torchvision.utils.make_grid(images)\n",
    "\n",
    "    #     self.tb.add_image('images', grid)\n",
    "    #     self.tb.add_graph(\n",
    "    #             self.network\n",
    "    #         ,images.to(getattr(run, 'device', 'cpu'))\n",
    "\n",
    "\n",
    "\n",
    "    def end_run(self):\n",
    "    #     self.tb.close()\n",
    "        self.epoch_count = 0\n",
    "\n",
    "\n",
    "\n",
    "    def begin_epoch(self):\n",
    "        self.epoch_start_time = time.time()\n",
    "\n",
    "        self.epoch_count += 1\n",
    "        self.epoch_loss = 0\n",
    "        self.epoch_num_correct = 0\n",
    "\n",
    "\n",
    "    def end_epoch(self):\n",
    "\n",
    "        epoch_duration = time.time() - self.epoch_start_time\n",
    "        run_duration = time.time() - self.run_start_time\n",
    "\n",
    "        loss = self.epoch_loss / len(self.loader.dataset)\n",
    "        accuracy = self.epoch_num_correct / len(self.loader.dataset)\n",
    "\n",
    "    #     self.tb.add_scalar('Loss', loss, self.epoch_count)\n",
    "    #     self.tb.add_scalar('Accuracy', accuracy, self.epoch_count)\n",
    "\n",
    "    #     for name, param in self.network.named_parameters():\n",
    "    #         self.tb.add_histogram(name, param, self.epoch_count)\n",
    "    #         self.tb.add_histogram(f'{name}.grad', param.grad, self.epoch_count)\n",
    "        results = OrderedDict()\n",
    "        results[\"run\"] = self.run_count\n",
    "        results[\"epoch\"] = self.epoch_count\n",
    "        results['loss'] = loss\n",
    "        results[\"accuracy\"] = accuracy\n",
    "        results['epoch duration'] = epoch_duration\n",
    "        results['run duration'] = run_duration\n",
    "        for k,v in self.run_params._asdict().items(): results[k] = v\n",
    "        self.run_data.append(results)\n",
    "\n",
    "        df = pd.DataFrame.from_dict(self.run_data, orient='columns')\n",
    "        clear_output(wait=True)\n",
    "        display(df)\n",
    "\n",
    "\n",
    "    def track_loss(self, loss):\n",
    "        self.epoch_loss += loss.item() * self.loader.batch_size#batch[0].shape[0]\n",
    "\n",
    "    def track_num_correct(self, preds, labels):\n",
    "        self.epoch_num_correct += self.get_num_correct(preds, labels)\n",
    "\n",
    "    def get_num_correct(self, preds, labels):\n",
    "        return preds.argmax(dim=1).eq(labels).sum().item()\n",
    "\n",
    "    def save(self, fileName):\n",
    "\n",
    "        pd.DataFrame.from_dict(\n",
    "            self.run_data, orient='columns'\n",
    "        ).to_csv(f'{fileName}.csv')\n",
    "\n",
    "        with open(f'{fileName}.json', 'w', encoding='utf-8') as f:\n",
    "            json.dump(self.run_data, f, ensure_ascii=False, indent=4)\n",
    "\n"
   ]
  },
  {
   "cell_type": "markdown",
   "metadata": {},
   "source": [
    "### Using our classes for Hyperparametr tunning"
   ]
  },
  {
   "cell_type": "code",
   "execution_count": 570,
   "metadata": {},
   "outputs": [
    {
     "data": {
      "text/html": [
       "<div>\n",
       "<style scoped>\n",
       "    .dataframe tbody tr th:only-of-type {\n",
       "        vertical-align: middle;\n",
       "    }\n",
       "\n",
       "    .dataframe tbody tr th {\n",
       "        vertical-align: top;\n",
       "    }\n",
       "\n",
       "    .dataframe thead th {\n",
       "        text-align: right;\n",
       "    }\n",
       "</style>\n",
       "<table border=\"1\" class=\"dataframe\">\n",
       "  <thead>\n",
       "    <tr style=\"text-align: right;\">\n",
       "      <th></th>\n",
       "      <th>run</th>\n",
       "      <th>epoch</th>\n",
       "      <th>loss</th>\n",
       "      <th>accuracy</th>\n",
       "      <th>epoch duration</th>\n",
       "      <th>run duration</th>\n",
       "      <th>lr</th>\n",
       "      <th>batch_size</th>\n",
       "      <th>shuffle</th>\n",
       "      <th>num_workers</th>\n",
       "    </tr>\n",
       "  </thead>\n",
       "  <tbody>\n",
       "    <tr>\n",
       "      <th>0</th>\n",
       "      <td>1</td>\n",
       "      <td>1</td>\n",
       "      <td>1.014464</td>\n",
       "      <td>0.618567</td>\n",
       "      <td>19.738194</td>\n",
       "      <td>19.847848</td>\n",
       "      <td>0.01</td>\n",
       "      <td>1000</td>\n",
       "      <td>True</td>\n",
       "      <td>0</td>\n",
       "    </tr>\n",
       "    <tr>\n",
       "      <th>1</th>\n",
       "      <td>2</td>\n",
       "      <td>1</td>\n",
       "      <td>0.999374</td>\n",
       "      <td>0.619600</td>\n",
       "      <td>10.580713</td>\n",
       "      <td>17.105785</td>\n",
       "      <td>0.01</td>\n",
       "      <td>1000</td>\n",
       "      <td>True</td>\n",
       "      <td>1</td>\n",
       "    </tr>\n",
       "    <tr>\n",
       "      <th>2</th>\n",
       "      <td>3</td>\n",
       "      <td>1</td>\n",
       "      <td>1.008386</td>\n",
       "      <td>0.615683</td>\n",
       "      <td>10.777055</td>\n",
       "      <td>12.089692</td>\n",
       "      <td>0.01</td>\n",
       "      <td>1000</td>\n",
       "      <td>True</td>\n",
       "      <td>2</td>\n",
       "    </tr>\n",
       "    <tr>\n",
       "      <th>3</th>\n",
       "      <td>4</td>\n",
       "      <td>1</td>\n",
       "      <td>0.934628</td>\n",
       "      <td>0.644350</td>\n",
       "      <td>11.313068</td>\n",
       "      <td>12.713879</td>\n",
       "      <td>0.01</td>\n",
       "      <td>1000</td>\n",
       "      <td>True</td>\n",
       "      <td>4</td>\n",
       "    </tr>\n",
       "    <tr>\n",
       "      <th>4</th>\n",
       "      <td>5</td>\n",
       "      <td>1</td>\n",
       "      <td>0.932536</td>\n",
       "      <td>0.641883</td>\n",
       "      <td>27.294381</td>\n",
       "      <td>27.510072</td>\n",
       "      <td>0.01</td>\n",
       "      <td>1000</td>\n",
       "      <td>False</td>\n",
       "      <td>0</td>\n",
       "    </tr>\n",
       "    <tr>\n",
       "      <th>5</th>\n",
       "      <td>6</td>\n",
       "      <td>1</td>\n",
       "      <td>1.027729</td>\n",
       "      <td>0.602650</td>\n",
       "      <td>11.115199</td>\n",
       "      <td>12.318732</td>\n",
       "      <td>0.01</td>\n",
       "      <td>1000</td>\n",
       "      <td>False</td>\n",
       "      <td>1</td>\n",
       "    </tr>\n",
       "    <tr>\n",
       "      <th>6</th>\n",
       "      <td>7</td>\n",
       "      <td>1</td>\n",
       "      <td>0.936837</td>\n",
       "      <td>0.635083</td>\n",
       "      <td>10.437394</td>\n",
       "      <td>11.740575</td>\n",
       "      <td>0.01</td>\n",
       "      <td>1000</td>\n",
       "      <td>False</td>\n",
       "      <td>2</td>\n",
       "    </tr>\n",
       "    <tr>\n",
       "      <th>7</th>\n",
       "      <td>8</td>\n",
       "      <td>1</td>\n",
       "      <td>0.973460</td>\n",
       "      <td>0.620983</td>\n",
       "      <td>10.800514</td>\n",
       "      <td>12.292872</td>\n",
       "      <td>0.01</td>\n",
       "      <td>1000</td>\n",
       "      <td>False</td>\n",
       "      <td>4</td>\n",
       "    </tr>\n",
       "    <tr>\n",
       "      <th>8</th>\n",
       "      <td>9</td>\n",
       "      <td>1</td>\n",
       "      <td>1.266163</td>\n",
       "      <td>0.523700</td>\n",
       "      <td>27.020365</td>\n",
       "      <td>27.331706</td>\n",
       "      <td>0.01</td>\n",
       "      <td>2000</td>\n",
       "      <td>True</td>\n",
       "      <td>0</td>\n",
       "    </tr>\n",
       "    <tr>\n",
       "      <th>9</th>\n",
       "      <td>10</td>\n",
       "      <td>1</td>\n",
       "      <td>1.310304</td>\n",
       "      <td>0.530150</td>\n",
       "      <td>9.149822</td>\n",
       "      <td>10.508106</td>\n",
       "      <td>0.01</td>\n",
       "      <td>2000</td>\n",
       "      <td>True</td>\n",
       "      <td>1</td>\n",
       "    </tr>\n",
       "    <tr>\n",
       "      <th>10</th>\n",
       "      <td>11</td>\n",
       "      <td>1</td>\n",
       "      <td>1.330327</td>\n",
       "      <td>0.490233</td>\n",
       "      <td>10.560747</td>\n",
       "      <td>12.088918</td>\n",
       "      <td>0.01</td>\n",
       "      <td>2000</td>\n",
       "      <td>True</td>\n",
       "      <td>2</td>\n",
       "    </tr>\n",
       "    <tr>\n",
       "      <th>11</th>\n",
       "      <td>12</td>\n",
       "      <td>1</td>\n",
       "      <td>1.269592</td>\n",
       "      <td>0.512783</td>\n",
       "      <td>10.838140</td>\n",
       "      <td>12.551070</td>\n",
       "      <td>0.01</td>\n",
       "      <td>2000</td>\n",
       "      <td>True</td>\n",
       "      <td>4</td>\n",
       "    </tr>\n",
       "    <tr>\n",
       "      <th>12</th>\n",
       "      <td>13</td>\n",
       "      <td>1</td>\n",
       "      <td>1.295470</td>\n",
       "      <td>0.502667</td>\n",
       "      <td>24.225823</td>\n",
       "      <td>24.651095</td>\n",
       "      <td>0.01</td>\n",
       "      <td>2000</td>\n",
       "      <td>False</td>\n",
       "      <td>0</td>\n",
       "    </tr>\n",
       "    <tr>\n",
       "      <th>13</th>\n",
       "      <td>14</td>\n",
       "      <td>1</td>\n",
       "      <td>1.260042</td>\n",
       "      <td>0.512483</td>\n",
       "      <td>9.765289</td>\n",
       "      <td>11.114024</td>\n",
       "      <td>0.01</td>\n",
       "      <td>2000</td>\n",
       "      <td>False</td>\n",
       "      <td>1</td>\n",
       "    </tr>\n",
       "    <tr>\n",
       "      <th>14</th>\n",
       "      <td>15</td>\n",
       "      <td>1</td>\n",
       "      <td>1.308448</td>\n",
       "      <td>0.490767</td>\n",
       "      <td>9.607333</td>\n",
       "      <td>10.932203</td>\n",
       "      <td>0.01</td>\n",
       "      <td>2000</td>\n",
       "      <td>False</td>\n",
       "      <td>2</td>\n",
       "    </tr>\n",
       "    <tr>\n",
       "      <th>15</th>\n",
       "      <td>16</td>\n",
       "      <td>1</td>\n",
       "      <td>1.271170</td>\n",
       "      <td>0.516183</td>\n",
       "      <td>10.972656</td>\n",
       "      <td>12.511623</td>\n",
       "      <td>0.01</td>\n",
       "      <td>2000</td>\n",
       "      <td>False</td>\n",
       "      <td>4</td>\n",
       "    </tr>\n",
       "  </tbody>\n",
       "</table>\n",
       "</div>"
      ],
      "text/plain": [
       "    run  epoch      loss  accuracy  epoch duration  run duration    lr  \\\n",
       "0     1      1  1.014464  0.618567       19.738194     19.847848  0.01   \n",
       "1     2      1  0.999374  0.619600       10.580713     17.105785  0.01   \n",
       "2     3      1  1.008386  0.615683       10.777055     12.089692  0.01   \n",
       "3     4      1  0.934628  0.644350       11.313068     12.713879  0.01   \n",
       "4     5      1  0.932536  0.641883       27.294381     27.510072  0.01   \n",
       "5     6      1  1.027729  0.602650       11.115199     12.318732  0.01   \n",
       "6     7      1  0.936837  0.635083       10.437394     11.740575  0.01   \n",
       "7     8      1  0.973460  0.620983       10.800514     12.292872  0.01   \n",
       "8     9      1  1.266163  0.523700       27.020365     27.331706  0.01   \n",
       "9    10      1  1.310304  0.530150        9.149822     10.508106  0.01   \n",
       "10   11      1  1.330327  0.490233       10.560747     12.088918  0.01   \n",
       "11   12      1  1.269592  0.512783       10.838140     12.551070  0.01   \n",
       "12   13      1  1.295470  0.502667       24.225823     24.651095  0.01   \n",
       "13   14      1  1.260042  0.512483        9.765289     11.114024  0.01   \n",
       "14   15      1  1.308448  0.490767        9.607333     10.932203  0.01   \n",
       "15   16      1  1.271170  0.516183       10.972656     12.511623  0.01   \n",
       "\n",
       "    batch_size  shuffle  num_workers  \n",
       "0         1000     True            0  \n",
       "1         1000     True            1  \n",
       "2         1000     True            2  \n",
       "3         1000     True            4  \n",
       "4         1000    False            0  \n",
       "5         1000    False            1  \n",
       "6         1000    False            2  \n",
       "7         1000    False            4  \n",
       "8         2000     True            0  \n",
       "9         2000     True            1  \n",
       "10        2000     True            2  \n",
       "11        2000     True            4  \n",
       "12        2000    False            0  \n",
       "13        2000    False            1  \n",
       "14        2000    False            2  \n",
       "15        2000    False            4  "
      ]
     },
     "metadata": {},
     "output_type": "display_data"
    }
   ],
   "source": [
    "parameters = OrderedDict(\n",
    "    lr = [.01]\n",
    "    ,batch_size = [1000, 2000]\n",
    "    ,shuffle = [True, False],\n",
    "    num_workers = [0, 1, 2, 4]\n",
    ")\n",
    "\n",
    "\n",
    "m = RunManager()\n",
    "for run in RunBuilder.get_runs(parameters):\n",
    "    network = Network()\n",
    "    loader = torch.utils.data.DataLoader(train_set, batch_size=run.batch_size, shuffle=run.shuffle, num_workers=run.num_workers)\n",
    "    optimizer = optim.Adam(network.parameters(), lr=run.lr)\n",
    "    \n",
    "    m.begin_run(run, network,loader)\n",
    "    for epoch in range(1):\n",
    "        m.begin_epoch()\n",
    "        for batch in loader:\n",
    "            \n",
    "            images, labels =  batch\n",
    "            preds = network(images)\n",
    "            loss = F.cross_entropy(preds, labels)\n",
    "            optimizer.zero_grad()\n",
    "            loss.backward()\n",
    "            optimizer.step()\n",
    "            \n",
    "            m.track_loss(loss)\n",
    "            m.track_num_correct(preds, labels)\n",
    "        m.end_epoch()\n",
    "    m.end_run()\n",
    "m.save('results')\n",
    "            "
   ]
  },
  {
   "cell_type": "markdown",
   "metadata": {},
   "source": [
    "# Pytorch and the GPU: CUDA"
   ]
  },
  {
   "cell_type": "markdown",
   "metadata": {},
   "source": [
    "## Moving to GPU"
   ]
  },
  {
   "cell_type": "code",
   "execution_count": 575,
   "metadata": {},
   "outputs": [],
   "source": [
    "#Creating the image tensor and instatiatying the network\n",
    "t = torch.ones(1,1,28, 28)\n",
    "network = Network()\n",
    "\n",
    "## Moving the image tensor and the network to the GPU\n",
    "t = t.cuda()\n",
    "network = network.cuda()"
   ]
  },
  {
   "cell_type": "code",
   "execution_count": 582,
   "metadata": {},
   "outputs": [
    {
     "data": {
      "text/plain": [
       "device(type='cuda', index=0)"
      ]
     },
     "execution_count": 582,
     "metadata": {},
     "output_type": "execute_result"
    }
   ],
   "source": [
    "gpu_pred = network(t)\n",
    "gpu_pred.device"
   ]
  },
  {
   "cell_type": "markdown",
   "metadata": {},
   "source": [
    "## Moving to CPU"
   ]
  },
  {
   "cell_type": "code",
   "execution_count": 584,
   "metadata": {},
   "outputs": [
    {
     "data": {
      "text/plain": [
       "device(type='cpu')"
      ]
     },
     "execution_count": 584,
     "metadata": {},
     "output_type": "execute_result"
    }
   ],
   "source": [
    "t = t.cpu()\n",
    "network = network.cpu()\n",
    "\n",
    "cpu_pred = network(t)\n",
    "cpu_pred.device"
   ]
  },
  {
   "cell_type": "markdown",
   "metadata": {},
   "source": [
    "## Operations with tensors on different devices"
   ]
  },
  {
   "cell_type": "code",
   "execution_count": 585,
   "metadata": {},
   "outputs": [],
   "source": [
    "t1 = torch.tensor([[1,2,3], [2,3,5]])\n",
    "t2 = torch.tensor([[6,7,8], [9,10,11]])"
   ]
  },
  {
   "cell_type": "code",
   "execution_count": 588,
   "metadata": {},
   "outputs": [
    {
     "data": {
      "text/plain": [
       "device(type='cpu')"
      ]
     },
     "execution_count": 588,
     "metadata": {},
     "output_type": "execute_result"
    }
   ],
   "source": [
    "t1.device ## By default, Pytorch creates the tensors on a CPU"
   ]
  },
  {
   "cell_type": "code",
   "execution_count": 598,
   "metadata": {},
   "outputs": [
    {
     "data": {
      "text/plain": [
       "device(type='cpu')"
      ]
     },
     "execution_count": 598,
     "metadata": {},
     "output_type": "execute_result"
    }
   ],
   "source": [
    "t2.device ## By default, Pytorch creates the tensors on a CPU"
   ]
  },
  {
   "cell_type": "code",
   "execution_count": 600,
   "metadata": {},
   "outputs": [],
   "source": [
    "t1 = t1.to('cuda') # Moving t1 to the GPU\n",
    "\n",
    "## Or t1 = t1.cuda()"
   ]
  },
  {
   "cell_type": "code",
   "execution_count": 606,
   "metadata": {},
   "outputs": [],
   "source": [
    "try:\n",
    "    t1 + t2\n",
    "except Exception as e:\n",
    "        print(e)"
   ]
  },
  {
   "cell_type": "code",
   "execution_count": 605,
   "metadata": {},
   "outputs": [],
   "source": [
    "## Now let's move t2 to cuda as well\n",
    "t2 = t2.cuda()\n",
    "\n",
    "try:\n",
    "    T = t1 + t2\n",
    "except Exception as e:\n",
    "        print(e)\n",
    "        \n",
    "## Now as you can see, it works fine"
   ]
  },
  {
   "cell_type": "code",
   "execution_count": 607,
   "metadata": {},
   "outputs": [
    {
     "data": {
      "text/plain": [
       "device(type='cuda', index=0)"
      ]
     },
     "execution_count": 607,
     "metadata": {},
     "output_type": "execute_result"
    }
   ],
   "source": [
    "T.device"
   ]
  },
  {
   "cell_type": "code",
   "execution_count": 609,
   "metadata": {},
   "outputs": [
    {
     "data": {
      "text/plain": [
       "True"
      ]
     },
     "execution_count": 609,
     "metadata": {},
     "output_type": "execute_result"
    }
   ],
   "source": [
    "torch.cuda.is_available()"
   ]
  },
  {
   "cell_type": "markdown",
   "metadata": {},
   "source": [
    "## PyTorch nn.Module Computations On A GPU\n",
    "By deafult, all network parameters are on the CPU"
   ]
  },
  {
   "cell_type": "code",
   "execution_count": 611,
   "metadata": {},
   "outputs": [
    {
     "name": "stdout",
     "output_type": "stream",
     "text": [
      "cpu  conv1.weight\n",
      "cpu  conv1.bias\n",
      "cpu  conv2.weight\n",
      "cpu  conv2.bias\n",
      "cpu  fc1.weight\n",
      "cpu  fc1.bias\n",
      "cpu  fc2.weight\n",
      "cpu  fc2.bias\n",
      "cpu  out.weight\n",
      "cpu  out.bias\n"
     ]
    }
   ],
   "source": [
    "for n, p in network.named_parameters():\n",
    "    print(p.device, '', n)"
   ]
  },
  {
   "cell_type": "markdown",
   "metadata": {},
   "source": [
    "## Let's see what happens when we ask a network to be moved to() the GPU:"
   ]
  },
  {
   "cell_type": "code",
   "execution_count": 612,
   "metadata": {},
   "outputs": [
    {
     "data": {
      "text/plain": [
       "Network(\n",
       "  (conv1): Conv2d(1, 6, kernel_size=(5, 5), stride=(1, 1))\n",
       "  (conv2): Conv2d(6, 12, kernel_size=(5, 5), stride=(1, 1))\n",
       "  (fc1): Linear(in_features=192, out_features=120, bias=True)\n",
       "  (fc2): Linear(in_features=120, out_features=60, bias=True)\n",
       "  (out): Linear(in_features=60, out_features=10, bias=True)\n",
       ")"
      ]
     },
     "execution_count": 612,
     "metadata": {},
     "output_type": "execute_result"
    }
   ],
   "source": [
    "network.to('cuda')"
   ]
  },
  {
   "cell_type": "code",
   "execution_count": 613,
   "metadata": {},
   "outputs": [
    {
     "name": "stdout",
     "output_type": "stream",
     "text": [
      "cuda:0  conv1.weight\n",
      "cuda:0  conv1.bias\n",
      "cuda:0  conv2.weight\n",
      "cuda:0  conv2.bias\n",
      "cuda:0  fc1.weight\n",
      "cuda:0  fc1.bias\n",
      "cuda:0  fc2.weight\n",
      "cuda:0  fc2.bias\n",
      "cuda:0  out.weight\n",
      "cuda:0  out.bias\n"
     ]
    }
   ],
   "source": [
    "# we can see that all parameters have been moved to the GPU\n",
    "for n, p in network.named_parameters():\n",
    "    print(p.device, '', n)"
   ]
  },
  {
   "cell_type": "markdown",
   "metadata": {},
   "source": [
    "## Passing A Sample To The Network\n",
    "Here pytorch complains since the network is on a GPU and the tensor is on a CPU"
   ]
  },
  {
   "cell_type": "code",
   "execution_count": 615,
   "metadata": {},
   "outputs": [
    {
     "name": "stdout",
     "output_type": "stream",
     "text": [
      "Input type (torch.FloatTensor) and weight type (torch.cuda.FloatTensor) should be the same\n"
     ]
    }
   ],
   "source": [
    "sample = torch.ones(1,1,28,28)\n",
    "\n",
    "try:\n",
    "    network(sample)\n",
    "except Exception as e: \n",
    "    print(e)\n"
   ]
  },
  {
   "cell_type": "markdown",
   "metadata": {},
   "source": [
    "## We can fix this issue by sending our sample to the GPU like so"
   ]
  },
  {
   "cell_type": "code",
   "execution_count": 616,
   "metadata": {},
   "outputs": [
    {
     "name": "stdout",
     "output_type": "stream",
     "text": [
      "tensor([[ 0.1229,  0.0830, -0.1051, -0.1133, -0.0103, -0.0654, -0.0424, -0.0980,  0.0735,  0.1214]], device='cuda:0',\n",
      "       grad_fn=<AddmmBackward>)\n"
     ]
    }
   ],
   "source": [
    "try:\n",
    "    pred = network(sample.to('cuda'))\n",
    "    print(pred)\n",
    "except Exception as e:\n",
    "    print(e)"
   ]
  },
  {
   "cell_type": "markdown",
   "metadata": {},
   "source": [
    "# Writing Device Agnostic PyTorch Code"
   ]
  },
  {
   "cell_type": "markdown",
   "metadata": {},
   "source": [
    "This term device agnostic means that our code doesn't depend on the underlying device. You may come across this terminology when reading PyTorch documentation.\n",
    "\n",
    "For example, suppose we write code that uses the cuda() method everywhere, and then, we give the code to a user who doesn't have a GPU. This won't work."
   ]
  },
  {
   "cell_type": "markdown",
   "metadata": {},
   "source": [
    "## Now let's repeat our traning loop including the device attribute"
   ]
  },
  {
   "cell_type": "code",
   "execution_count": 619,
   "metadata": {},
   "outputs": [
    {
     "data": {
      "text/html": [
       "<div>\n",
       "<style scoped>\n",
       "    .dataframe tbody tr th:only-of-type {\n",
       "        vertical-align: middle;\n",
       "    }\n",
       "\n",
       "    .dataframe tbody tr th {\n",
       "        vertical-align: top;\n",
       "    }\n",
       "\n",
       "    .dataframe thead th {\n",
       "        text-align: right;\n",
       "    }\n",
       "</style>\n",
       "<table border=\"1\" class=\"dataframe\">\n",
       "  <thead>\n",
       "    <tr style=\"text-align: right;\">\n",
       "      <th></th>\n",
       "      <th>run</th>\n",
       "      <th>epoch</th>\n",
       "      <th>loss</th>\n",
       "      <th>accuracy</th>\n",
       "      <th>epoch duration</th>\n",
       "      <th>run duration</th>\n",
       "      <th>lr</th>\n",
       "      <th>batch_size</th>\n",
       "      <th>shuffle</th>\n",
       "      <th>num_workers</th>\n",
       "      <th>device</th>\n",
       "    </tr>\n",
       "  </thead>\n",
       "  <tbody>\n",
       "    <tr>\n",
       "      <th>0</th>\n",
       "      <td>1</td>\n",
       "      <td>1</td>\n",
       "      <td>1.002382</td>\n",
       "      <td>0.616900</td>\n",
       "      <td>10.750423</td>\n",
       "      <td>10.852416</td>\n",
       "      <td>0.01</td>\n",
       "      <td>1000</td>\n",
       "      <td>True</td>\n",
       "      <td>0</td>\n",
       "      <td>cpu</td>\n",
       "    </tr>\n",
       "    <tr>\n",
       "      <th>1</th>\n",
       "      <td>2</td>\n",
       "      <td>1</td>\n",
       "      <td>0.944975</td>\n",
       "      <td>0.634767</td>\n",
       "      <td>5.578809</td>\n",
       "      <td>5.665811</td>\n",
       "      <td>0.01</td>\n",
       "      <td>1000</td>\n",
       "      <td>True</td>\n",
       "      <td>0</td>\n",
       "      <td>cuda</td>\n",
       "    </tr>\n",
       "    <tr>\n",
       "      <th>2</th>\n",
       "      <td>3</td>\n",
       "      <td>1</td>\n",
       "      <td>0.975558</td>\n",
       "      <td>0.628850</td>\n",
       "      <td>7.234999</td>\n",
       "      <td>8.147615</td>\n",
       "      <td>0.01</td>\n",
       "      <td>1000</td>\n",
       "      <td>True</td>\n",
       "      <td>1</td>\n",
       "      <td>cpu</td>\n",
       "    </tr>\n",
       "    <tr>\n",
       "      <th>3</th>\n",
       "      <td>4</td>\n",
       "      <td>1</td>\n",
       "      <td>1.012713</td>\n",
       "      <td>0.602800</td>\n",
       "      <td>5.240998</td>\n",
       "      <td>6.252990</td>\n",
       "      <td>0.01</td>\n",
       "      <td>1000</td>\n",
       "      <td>True</td>\n",
       "      <td>1</td>\n",
       "      <td>cuda</td>\n",
       "    </tr>\n",
       "    <tr>\n",
       "      <th>4</th>\n",
       "      <td>5</td>\n",
       "      <td>1</td>\n",
       "      <td>0.946269</td>\n",
       "      <td>0.636517</td>\n",
       "      <td>8.346081</td>\n",
       "      <td>9.524083</td>\n",
       "      <td>0.01</td>\n",
       "      <td>1000</td>\n",
       "      <td>True</td>\n",
       "      <td>2</td>\n",
       "      <td>cpu</td>\n",
       "    </tr>\n",
       "    <tr>\n",
       "      <th>5</th>\n",
       "      <td>6</td>\n",
       "      <td>1</td>\n",
       "      <td>0.891226</td>\n",
       "      <td>0.671550</td>\n",
       "      <td>3.737000</td>\n",
       "      <td>4.928998</td>\n",
       "      <td>0.01</td>\n",
       "      <td>1000</td>\n",
       "      <td>True</td>\n",
       "      <td>2</td>\n",
       "      <td>cuda</td>\n",
       "    </tr>\n",
       "    <tr>\n",
       "      <th>6</th>\n",
       "      <td>7</td>\n",
       "      <td>1</td>\n",
       "      <td>0.966517</td>\n",
       "      <td>0.623800</td>\n",
       "      <td>8.927147</td>\n",
       "      <td>10.425147</td>\n",
       "      <td>0.01</td>\n",
       "      <td>1000</td>\n",
       "      <td>True</td>\n",
       "      <td>4</td>\n",
       "      <td>cpu</td>\n",
       "    </tr>\n",
       "    <tr>\n",
       "      <th>7</th>\n",
       "      <td>8</td>\n",
       "      <td>1</td>\n",
       "      <td>0.947105</td>\n",
       "      <td>0.636533</td>\n",
       "      <td>3.633596</td>\n",
       "      <td>5.369637</td>\n",
       "      <td>0.01</td>\n",
       "      <td>1000</td>\n",
       "      <td>True</td>\n",
       "      <td>4</td>\n",
       "      <td>cuda</td>\n",
       "    </tr>\n",
       "    <tr>\n",
       "      <th>8</th>\n",
       "      <td>9</td>\n",
       "      <td>1</td>\n",
       "      <td>1.014182</td>\n",
       "      <td>0.604750</td>\n",
       "      <td>12.267548</td>\n",
       "      <td>12.361547</td>\n",
       "      <td>0.01</td>\n",
       "      <td>1000</td>\n",
       "      <td>False</td>\n",
       "      <td>0</td>\n",
       "      <td>cpu</td>\n",
       "    </tr>\n",
       "    <tr>\n",
       "      <th>9</th>\n",
       "      <td>10</td>\n",
       "      <td>1</td>\n",
       "      <td>0.995647</td>\n",
       "      <td>0.621317</td>\n",
       "      <td>6.313048</td>\n",
       "      <td>6.437048</td>\n",
       "      <td>0.01</td>\n",
       "      <td>1000</td>\n",
       "      <td>False</td>\n",
       "      <td>0</td>\n",
       "      <td>cuda</td>\n",
       "    </tr>\n",
       "    <tr>\n",
       "      <th>10</th>\n",
       "      <td>11</td>\n",
       "      <td>1</td>\n",
       "      <td>0.991838</td>\n",
       "      <td>0.627283</td>\n",
       "      <td>8.858442</td>\n",
       "      <td>9.774304</td>\n",
       "      <td>0.01</td>\n",
       "      <td>1000</td>\n",
       "      <td>False</td>\n",
       "      <td>1</td>\n",
       "      <td>cpu</td>\n",
       "    </tr>\n",
       "    <tr>\n",
       "      <th>11</th>\n",
       "      <td>12</td>\n",
       "      <td>1</td>\n",
       "      <td>1.028368</td>\n",
       "      <td>0.606533</td>\n",
       "      <td>5.326755</td>\n",
       "      <td>6.341788</td>\n",
       "      <td>0.01</td>\n",
       "      <td>1000</td>\n",
       "      <td>False</td>\n",
       "      <td>1</td>\n",
       "      <td>cuda</td>\n",
       "    </tr>\n",
       "    <tr>\n",
       "      <th>12</th>\n",
       "      <td>13</td>\n",
       "      <td>1</td>\n",
       "      <td>0.998483</td>\n",
       "      <td>0.622283</td>\n",
       "      <td>8.798585</td>\n",
       "      <td>9.901122</td>\n",
       "      <td>0.01</td>\n",
       "      <td>1000</td>\n",
       "      <td>False</td>\n",
       "      <td>2</td>\n",
       "      <td>cpu</td>\n",
       "    </tr>\n",
       "    <tr>\n",
       "      <th>13</th>\n",
       "      <td>14</td>\n",
       "      <td>1</td>\n",
       "      <td>1.009813</td>\n",
       "      <td>0.619400</td>\n",
       "      <td>3.883980</td>\n",
       "      <td>5.047061</td>\n",
       "      <td>0.01</td>\n",
       "      <td>1000</td>\n",
       "      <td>False</td>\n",
       "      <td>2</td>\n",
       "      <td>cuda</td>\n",
       "    </tr>\n",
       "    <tr>\n",
       "      <th>14</th>\n",
       "      <td>15</td>\n",
       "      <td>1</td>\n",
       "      <td>0.918188</td>\n",
       "      <td>0.652367</td>\n",
       "      <td>9.783637</td>\n",
       "      <td>11.419155</td>\n",
       "      <td>0.01</td>\n",
       "      <td>1000</td>\n",
       "      <td>False</td>\n",
       "      <td>4</td>\n",
       "      <td>cpu</td>\n",
       "    </tr>\n",
       "    <tr>\n",
       "      <th>15</th>\n",
       "      <td>16</td>\n",
       "      <td>1</td>\n",
       "      <td>1.052663</td>\n",
       "      <td>0.588533</td>\n",
       "      <td>3.746357</td>\n",
       "      <td>5.441325</td>\n",
       "      <td>0.01</td>\n",
       "      <td>1000</td>\n",
       "      <td>False</td>\n",
       "      <td>4</td>\n",
       "      <td>cuda</td>\n",
       "    </tr>\n",
       "    <tr>\n",
       "      <th>16</th>\n",
       "      <td>17</td>\n",
       "      <td>1</td>\n",
       "      <td>1.454884</td>\n",
       "      <td>0.446033</td>\n",
       "      <td>12.866938</td>\n",
       "      <td>13.074975</td>\n",
       "      <td>0.01</td>\n",
       "      <td>2000</td>\n",
       "      <td>True</td>\n",
       "      <td>0</td>\n",
       "      <td>cpu</td>\n",
       "    </tr>\n",
       "    <tr>\n",
       "      <th>17</th>\n",
       "      <td>18</td>\n",
       "      <td>1</td>\n",
       "      <td>1.322968</td>\n",
       "      <td>0.507667</td>\n",
       "      <td>5.953417</td>\n",
       "      <td>6.165416</td>\n",
       "      <td>0.01</td>\n",
       "      <td>2000</td>\n",
       "      <td>True</td>\n",
       "      <td>0</td>\n",
       "      <td>cuda</td>\n",
       "    </tr>\n",
       "    <tr>\n",
       "      <th>18</th>\n",
       "      <td>19</td>\n",
       "      <td>1</td>\n",
       "      <td>1.237006</td>\n",
       "      <td>0.541383</td>\n",
       "      <td>9.363252</td>\n",
       "      <td>10.658288</td>\n",
       "      <td>0.01</td>\n",
       "      <td>2000</td>\n",
       "      <td>True</td>\n",
       "      <td>1</td>\n",
       "      <td>cpu</td>\n",
       "    </tr>\n",
       "    <tr>\n",
       "      <th>19</th>\n",
       "      <td>20</td>\n",
       "      <td>1</td>\n",
       "      <td>1.402347</td>\n",
       "      <td>0.467333</td>\n",
       "      <td>5.823616</td>\n",
       "      <td>7.084589</td>\n",
       "      <td>0.01</td>\n",
       "      <td>2000</td>\n",
       "      <td>True</td>\n",
       "      <td>1</td>\n",
       "      <td>cuda</td>\n",
       "    </tr>\n",
       "    <tr>\n",
       "      <th>20</th>\n",
       "      <td>21</td>\n",
       "      <td>1</td>\n",
       "      <td>1.393764</td>\n",
       "      <td>0.479317</td>\n",
       "      <td>9.462038</td>\n",
       "      <td>10.849666</td>\n",
       "      <td>0.01</td>\n",
       "      <td>2000</td>\n",
       "      <td>True</td>\n",
       "      <td>2</td>\n",
       "      <td>cpu</td>\n",
       "    </tr>\n",
       "    <tr>\n",
       "      <th>21</th>\n",
       "      <td>22</td>\n",
       "      <td>1</td>\n",
       "      <td>1.361885</td>\n",
       "      <td>0.483833</td>\n",
       "      <td>4.325604</td>\n",
       "      <td>6.119606</td>\n",
       "      <td>0.01</td>\n",
       "      <td>2000</td>\n",
       "      <td>True</td>\n",
       "      <td>2</td>\n",
       "      <td>cuda</td>\n",
       "    </tr>\n",
       "    <tr>\n",
       "      <th>22</th>\n",
       "      <td>23</td>\n",
       "      <td>1</td>\n",
       "      <td>1.393889</td>\n",
       "      <td>0.500467</td>\n",
       "      <td>10.576031</td>\n",
       "      <td>12.739916</td>\n",
       "      <td>0.01</td>\n",
       "      <td>2000</td>\n",
       "      <td>True</td>\n",
       "      <td>4</td>\n",
       "      <td>cpu</td>\n",
       "    </tr>\n",
       "    <tr>\n",
       "      <th>23</th>\n",
       "      <td>24</td>\n",
       "      <td>1</td>\n",
       "      <td>1.260539</td>\n",
       "      <td>0.528650</td>\n",
       "      <td>4.197913</td>\n",
       "      <td>6.468914</td>\n",
       "      <td>0.01</td>\n",
       "      <td>2000</td>\n",
       "      <td>True</td>\n",
       "      <td>4</td>\n",
       "      <td>cuda</td>\n",
       "    </tr>\n",
       "    <tr>\n",
       "      <th>24</th>\n",
       "      <td>25</td>\n",
       "      <td>1</td>\n",
       "      <td>1.264380</td>\n",
       "      <td>0.518550</td>\n",
       "      <td>13.701995</td>\n",
       "      <td>13.900994</td>\n",
       "      <td>0.01</td>\n",
       "      <td>2000</td>\n",
       "      <td>False</td>\n",
       "      <td>0</td>\n",
       "      <td>cpu</td>\n",
       "    </tr>\n",
       "    <tr>\n",
       "      <th>25</th>\n",
       "      <td>26</td>\n",
       "      <td>1</td>\n",
       "      <td>1.380919</td>\n",
       "      <td>0.486783</td>\n",
       "      <td>6.481085</td>\n",
       "      <td>6.709098</td>\n",
       "      <td>0.01</td>\n",
       "      <td>2000</td>\n",
       "      <td>False</td>\n",
       "      <td>0</td>\n",
       "      <td>cuda</td>\n",
       "    </tr>\n",
       "    <tr>\n",
       "      <th>26</th>\n",
       "      <td>27</td>\n",
       "      <td>1</td>\n",
       "      <td>1.271377</td>\n",
       "      <td>0.518367</td>\n",
       "      <td>10.256521</td>\n",
       "      <td>11.608040</td>\n",
       "      <td>0.01</td>\n",
       "      <td>2000</td>\n",
       "      <td>False</td>\n",
       "      <td>1</td>\n",
       "      <td>cpu</td>\n",
       "    </tr>\n",
       "    <tr>\n",
       "      <th>27</th>\n",
       "      <td>28</td>\n",
       "      <td>1</td>\n",
       "      <td>1.543085</td>\n",
       "      <td>0.406417</td>\n",
       "      <td>7.006601</td>\n",
       "      <td>8.590600</td>\n",
       "      <td>0.01</td>\n",
       "      <td>2000</td>\n",
       "      <td>False</td>\n",
       "      <td>1</td>\n",
       "      <td>cuda</td>\n",
       "    </tr>\n",
       "    <tr>\n",
       "      <th>28</th>\n",
       "      <td>29</td>\n",
       "      <td>1</td>\n",
       "      <td>1.338648</td>\n",
       "      <td>0.497550</td>\n",
       "      <td>10.903389</td>\n",
       "      <td>12.554370</td>\n",
       "      <td>0.01</td>\n",
       "      <td>2000</td>\n",
       "      <td>False</td>\n",
       "      <td>2</td>\n",
       "      <td>cpu</td>\n",
       "    </tr>\n",
       "    <tr>\n",
       "      <th>29</th>\n",
       "      <td>30</td>\n",
       "      <td>1</td>\n",
       "      <td>1.180219</td>\n",
       "      <td>0.556317</td>\n",
       "      <td>5.027003</td>\n",
       "      <td>6.982525</td>\n",
       "      <td>0.01</td>\n",
       "      <td>2000</td>\n",
       "      <td>False</td>\n",
       "      <td>2</td>\n",
       "      <td>cuda</td>\n",
       "    </tr>\n",
       "    <tr>\n",
       "      <th>30</th>\n",
       "      <td>31</td>\n",
       "      <td>1</td>\n",
       "      <td>1.266655</td>\n",
       "      <td>0.520983</td>\n",
       "      <td>10.991905</td>\n",
       "      <td>13.167907</td>\n",
       "      <td>0.01</td>\n",
       "      <td>2000</td>\n",
       "      <td>False</td>\n",
       "      <td>4</td>\n",
       "      <td>cpu</td>\n",
       "    </tr>\n",
       "    <tr>\n",
       "      <th>31</th>\n",
       "      <td>32</td>\n",
       "      <td>1</td>\n",
       "      <td>1.382579</td>\n",
       "      <td>0.481133</td>\n",
       "      <td>4.362524</td>\n",
       "      <td>6.663525</td>\n",
       "      <td>0.01</td>\n",
       "      <td>2000</td>\n",
       "      <td>False</td>\n",
       "      <td>4</td>\n",
       "      <td>cuda</td>\n",
       "    </tr>\n",
       "  </tbody>\n",
       "</table>\n",
       "</div>"
      ],
      "text/plain": [
       "    run  epoch      loss  accuracy  epoch duration  run duration    lr  \\\n",
       "0     1      1  1.002382  0.616900       10.750423     10.852416  0.01   \n",
       "1     2      1  0.944975  0.634767        5.578809      5.665811  0.01   \n",
       "2     3      1  0.975558  0.628850        7.234999      8.147615  0.01   \n",
       "3     4      1  1.012713  0.602800        5.240998      6.252990  0.01   \n",
       "4     5      1  0.946269  0.636517        8.346081      9.524083  0.01   \n",
       "5     6      1  0.891226  0.671550        3.737000      4.928998  0.01   \n",
       "6     7      1  0.966517  0.623800        8.927147     10.425147  0.01   \n",
       "7     8      1  0.947105  0.636533        3.633596      5.369637  0.01   \n",
       "8     9      1  1.014182  0.604750       12.267548     12.361547  0.01   \n",
       "9    10      1  0.995647  0.621317        6.313048      6.437048  0.01   \n",
       "10   11      1  0.991838  0.627283        8.858442      9.774304  0.01   \n",
       "11   12      1  1.028368  0.606533        5.326755      6.341788  0.01   \n",
       "12   13      1  0.998483  0.622283        8.798585      9.901122  0.01   \n",
       "13   14      1  1.009813  0.619400        3.883980      5.047061  0.01   \n",
       "14   15      1  0.918188  0.652367        9.783637     11.419155  0.01   \n",
       "15   16      1  1.052663  0.588533        3.746357      5.441325  0.01   \n",
       "16   17      1  1.454884  0.446033       12.866938     13.074975  0.01   \n",
       "17   18      1  1.322968  0.507667        5.953417      6.165416  0.01   \n",
       "18   19      1  1.237006  0.541383        9.363252     10.658288  0.01   \n",
       "19   20      1  1.402347  0.467333        5.823616      7.084589  0.01   \n",
       "20   21      1  1.393764  0.479317        9.462038     10.849666  0.01   \n",
       "21   22      1  1.361885  0.483833        4.325604      6.119606  0.01   \n",
       "22   23      1  1.393889  0.500467       10.576031     12.739916  0.01   \n",
       "23   24      1  1.260539  0.528650        4.197913      6.468914  0.01   \n",
       "24   25      1  1.264380  0.518550       13.701995     13.900994  0.01   \n",
       "25   26      1  1.380919  0.486783        6.481085      6.709098  0.01   \n",
       "26   27      1  1.271377  0.518367       10.256521     11.608040  0.01   \n",
       "27   28      1  1.543085  0.406417        7.006601      8.590600  0.01   \n",
       "28   29      1  1.338648  0.497550       10.903389     12.554370  0.01   \n",
       "29   30      1  1.180219  0.556317        5.027003      6.982525  0.01   \n",
       "30   31      1  1.266655  0.520983       10.991905     13.167907  0.01   \n",
       "31   32      1  1.382579  0.481133        4.362524      6.663525  0.01   \n",
       "\n",
       "    batch_size  shuffle  num_workers device  \n",
       "0         1000     True            0    cpu  \n",
       "1         1000     True            0   cuda  \n",
       "2         1000     True            1    cpu  \n",
       "3         1000     True            1   cuda  \n",
       "4         1000     True            2    cpu  \n",
       "5         1000     True            2   cuda  \n",
       "6         1000     True            4    cpu  \n",
       "7         1000     True            4   cuda  \n",
       "8         1000    False            0    cpu  \n",
       "9         1000    False            0   cuda  \n",
       "10        1000    False            1    cpu  \n",
       "11        1000    False            1   cuda  \n",
       "12        1000    False            2    cpu  \n",
       "13        1000    False            2   cuda  \n",
       "14        1000    False            4    cpu  \n",
       "15        1000    False            4   cuda  \n",
       "16        2000     True            0    cpu  \n",
       "17        2000     True            0   cuda  \n",
       "18        2000     True            1    cpu  \n",
       "19        2000     True            1   cuda  \n",
       "20        2000     True            2    cpu  \n",
       "21        2000     True            2   cuda  \n",
       "22        2000     True            4    cpu  \n",
       "23        2000     True            4   cuda  \n",
       "24        2000    False            0    cpu  \n",
       "25        2000    False            0   cuda  \n",
       "26        2000    False            1    cpu  \n",
       "27        2000    False            1   cuda  \n",
       "28        2000    False            2    cpu  \n",
       "29        2000    False            2   cuda  \n",
       "30        2000    False            4    cpu  \n",
       "31        2000    False            4   cuda  "
      ]
     },
     "metadata": {},
     "output_type": "display_data"
    }
   ],
   "source": [
    "parameters = OrderedDict(\n",
    "    lr = [.01]\n",
    "    ,batch_size = [1000, 2000]\n",
    "    ,shuffle = [True, False],\n",
    "    num_workers = [0, 1, 2, 4],\n",
    "    device = ['cpu', 'cuda']\n",
    ")\n",
    "\n",
    "\n",
    "m = RunManager()\n",
    "for run in RunBuilder.get_runs(parameters):\n",
    "    \n",
    "    device = torch.device(run.device)\n",
    "    \n",
    "    network = Network()\n",
    "    network.to(device) ## Move our network to the current device\n",
    "    \n",
    "    loader = torch.utils.data.DataLoader(train_set, batch_size=run.batch_size, shuffle=run.shuffle, num_workers=run.num_workers)\n",
    "    optimizer = optim.Adam(network.parameters(), lr=run.lr)\n",
    "    \n",
    "    m.begin_run(run, network,loader)\n",
    "    for epoch in range(1):\n",
    "        m.begin_epoch()\n",
    "        for batch in loader:\n",
    "            \n",
    "            images, labels =  batch\n",
    "            images = images.to(device)\n",
    "            labels = labels.to(device)\n",
    "            preds = network(images)\n",
    "            loss = F.cross_entropy(preds, labels)\n",
    "            optimizer.zero_grad()\n",
    "            loss.backward()\n",
    "            optimizer.step()\n",
    "            \n",
    "            m.track_loss(loss)\n",
    "            m.track_num_correct(preds, labels)\n",
    "        m.end_epoch()\n",
    "    m.end_run()\n",
    "m.save('results')\n",
    "            "
   ]
  },
  {
   "cell_type": "markdown",
   "metadata": {},
   "source": [
    "## Sorting the results according to epoch duration and we see cuda is winning in every case"
   ]
  },
  {
   "cell_type": "code",
   "execution_count": 623,
   "metadata": {},
   "outputs": [
    {
     "data": {
      "text/html": [
       "<div>\n",
       "<style scoped>\n",
       "    .dataframe tbody tr th:only-of-type {\n",
       "        vertical-align: middle;\n",
       "    }\n",
       "\n",
       "    .dataframe tbody tr th {\n",
       "        vertical-align: top;\n",
       "    }\n",
       "\n",
       "    .dataframe thead th {\n",
       "        text-align: right;\n",
       "    }\n",
       "</style>\n",
       "<table border=\"1\" class=\"dataframe\">\n",
       "  <thead>\n",
       "    <tr style=\"text-align: right;\">\n",
       "      <th></th>\n",
       "      <th>run</th>\n",
       "      <th>epoch</th>\n",
       "      <th>loss</th>\n",
       "      <th>accuracy</th>\n",
       "      <th>epoch duration</th>\n",
       "      <th>run duration</th>\n",
       "      <th>lr</th>\n",
       "      <th>batch_size</th>\n",
       "      <th>shuffle</th>\n",
       "      <th>num_workers</th>\n",
       "      <th>device</th>\n",
       "    </tr>\n",
       "  </thead>\n",
       "  <tbody>\n",
       "    <tr>\n",
       "      <th>27</th>\n",
       "      <td>28</td>\n",
       "      <td>1</td>\n",
       "      <td>1.543085</td>\n",
       "      <td>0.406417</td>\n",
       "      <td>7.006601</td>\n",
       "      <td>8.590600</td>\n",
       "      <td>0.01</td>\n",
       "      <td>2000</td>\n",
       "      <td>False</td>\n",
       "      <td>1</td>\n",
       "      <td>cuda</td>\n",
       "    </tr>\n",
       "    <tr>\n",
       "      <th>16</th>\n",
       "      <td>17</td>\n",
       "      <td>1</td>\n",
       "      <td>1.454884</td>\n",
       "      <td>0.446033</td>\n",
       "      <td>12.866938</td>\n",
       "      <td>13.074975</td>\n",
       "      <td>0.01</td>\n",
       "      <td>2000</td>\n",
       "      <td>True</td>\n",
       "      <td>0</td>\n",
       "      <td>cpu</td>\n",
       "    </tr>\n",
       "    <tr>\n",
       "      <th>19</th>\n",
       "      <td>20</td>\n",
       "      <td>1</td>\n",
       "      <td>1.402347</td>\n",
       "      <td>0.467333</td>\n",
       "      <td>5.823616</td>\n",
       "      <td>7.084589</td>\n",
       "      <td>0.01</td>\n",
       "      <td>2000</td>\n",
       "      <td>True</td>\n",
       "      <td>1</td>\n",
       "      <td>cuda</td>\n",
       "    </tr>\n",
       "    <tr>\n",
       "      <th>20</th>\n",
       "      <td>21</td>\n",
       "      <td>1</td>\n",
       "      <td>1.393764</td>\n",
       "      <td>0.479317</td>\n",
       "      <td>9.462038</td>\n",
       "      <td>10.849666</td>\n",
       "      <td>0.01</td>\n",
       "      <td>2000</td>\n",
       "      <td>True</td>\n",
       "      <td>2</td>\n",
       "      <td>cpu</td>\n",
       "    </tr>\n",
       "    <tr>\n",
       "      <th>31</th>\n",
       "      <td>32</td>\n",
       "      <td>1</td>\n",
       "      <td>1.382579</td>\n",
       "      <td>0.481133</td>\n",
       "      <td>4.362524</td>\n",
       "      <td>6.663525</td>\n",
       "      <td>0.01</td>\n",
       "      <td>2000</td>\n",
       "      <td>False</td>\n",
       "      <td>4</td>\n",
       "      <td>cuda</td>\n",
       "    </tr>\n",
       "    <tr>\n",
       "      <th>21</th>\n",
       "      <td>22</td>\n",
       "      <td>1</td>\n",
       "      <td>1.361885</td>\n",
       "      <td>0.483833</td>\n",
       "      <td>4.325604</td>\n",
       "      <td>6.119606</td>\n",
       "      <td>0.01</td>\n",
       "      <td>2000</td>\n",
       "      <td>True</td>\n",
       "      <td>2</td>\n",
       "      <td>cuda</td>\n",
       "    </tr>\n",
       "    <tr>\n",
       "      <th>25</th>\n",
       "      <td>26</td>\n",
       "      <td>1</td>\n",
       "      <td>1.380919</td>\n",
       "      <td>0.486783</td>\n",
       "      <td>6.481085</td>\n",
       "      <td>6.709098</td>\n",
       "      <td>0.01</td>\n",
       "      <td>2000</td>\n",
       "      <td>False</td>\n",
       "      <td>0</td>\n",
       "      <td>cuda</td>\n",
       "    </tr>\n",
       "    <tr>\n",
       "      <th>28</th>\n",
       "      <td>29</td>\n",
       "      <td>1</td>\n",
       "      <td>1.338648</td>\n",
       "      <td>0.497550</td>\n",
       "      <td>10.903389</td>\n",
       "      <td>12.554370</td>\n",
       "      <td>0.01</td>\n",
       "      <td>2000</td>\n",
       "      <td>False</td>\n",
       "      <td>2</td>\n",
       "      <td>cpu</td>\n",
       "    </tr>\n",
       "    <tr>\n",
       "      <th>22</th>\n",
       "      <td>23</td>\n",
       "      <td>1</td>\n",
       "      <td>1.393889</td>\n",
       "      <td>0.500467</td>\n",
       "      <td>10.576031</td>\n",
       "      <td>12.739916</td>\n",
       "      <td>0.01</td>\n",
       "      <td>2000</td>\n",
       "      <td>True</td>\n",
       "      <td>4</td>\n",
       "      <td>cpu</td>\n",
       "    </tr>\n",
       "    <tr>\n",
       "      <th>17</th>\n",
       "      <td>18</td>\n",
       "      <td>1</td>\n",
       "      <td>1.322968</td>\n",
       "      <td>0.507667</td>\n",
       "      <td>5.953417</td>\n",
       "      <td>6.165416</td>\n",
       "      <td>0.01</td>\n",
       "      <td>2000</td>\n",
       "      <td>True</td>\n",
       "      <td>0</td>\n",
       "      <td>cuda</td>\n",
       "    </tr>\n",
       "    <tr>\n",
       "      <th>26</th>\n",
       "      <td>27</td>\n",
       "      <td>1</td>\n",
       "      <td>1.271377</td>\n",
       "      <td>0.518367</td>\n",
       "      <td>10.256521</td>\n",
       "      <td>11.608040</td>\n",
       "      <td>0.01</td>\n",
       "      <td>2000</td>\n",
       "      <td>False</td>\n",
       "      <td>1</td>\n",
       "      <td>cpu</td>\n",
       "    </tr>\n",
       "    <tr>\n",
       "      <th>24</th>\n",
       "      <td>25</td>\n",
       "      <td>1</td>\n",
       "      <td>1.264380</td>\n",
       "      <td>0.518550</td>\n",
       "      <td>13.701995</td>\n",
       "      <td>13.900994</td>\n",
       "      <td>0.01</td>\n",
       "      <td>2000</td>\n",
       "      <td>False</td>\n",
       "      <td>0</td>\n",
       "      <td>cpu</td>\n",
       "    </tr>\n",
       "    <tr>\n",
       "      <th>30</th>\n",
       "      <td>31</td>\n",
       "      <td>1</td>\n",
       "      <td>1.266655</td>\n",
       "      <td>0.520983</td>\n",
       "      <td>10.991905</td>\n",
       "      <td>13.167907</td>\n",
       "      <td>0.01</td>\n",
       "      <td>2000</td>\n",
       "      <td>False</td>\n",
       "      <td>4</td>\n",
       "      <td>cpu</td>\n",
       "    </tr>\n",
       "    <tr>\n",
       "      <th>23</th>\n",
       "      <td>24</td>\n",
       "      <td>1</td>\n",
       "      <td>1.260539</td>\n",
       "      <td>0.528650</td>\n",
       "      <td>4.197913</td>\n",
       "      <td>6.468914</td>\n",
       "      <td>0.01</td>\n",
       "      <td>2000</td>\n",
       "      <td>True</td>\n",
       "      <td>4</td>\n",
       "      <td>cuda</td>\n",
       "    </tr>\n",
       "    <tr>\n",
       "      <th>18</th>\n",
       "      <td>19</td>\n",
       "      <td>1</td>\n",
       "      <td>1.237006</td>\n",
       "      <td>0.541383</td>\n",
       "      <td>9.363252</td>\n",
       "      <td>10.658288</td>\n",
       "      <td>0.01</td>\n",
       "      <td>2000</td>\n",
       "      <td>True</td>\n",
       "      <td>1</td>\n",
       "      <td>cpu</td>\n",
       "    </tr>\n",
       "    <tr>\n",
       "      <th>29</th>\n",
       "      <td>30</td>\n",
       "      <td>1</td>\n",
       "      <td>1.180219</td>\n",
       "      <td>0.556317</td>\n",
       "      <td>5.027003</td>\n",
       "      <td>6.982525</td>\n",
       "      <td>0.01</td>\n",
       "      <td>2000</td>\n",
       "      <td>False</td>\n",
       "      <td>2</td>\n",
       "      <td>cuda</td>\n",
       "    </tr>\n",
       "    <tr>\n",
       "      <th>15</th>\n",
       "      <td>16</td>\n",
       "      <td>1</td>\n",
       "      <td>1.052663</td>\n",
       "      <td>0.588533</td>\n",
       "      <td>3.746357</td>\n",
       "      <td>5.441325</td>\n",
       "      <td>0.01</td>\n",
       "      <td>1000</td>\n",
       "      <td>False</td>\n",
       "      <td>4</td>\n",
       "      <td>cuda</td>\n",
       "    </tr>\n",
       "    <tr>\n",
       "      <th>3</th>\n",
       "      <td>4</td>\n",
       "      <td>1</td>\n",
       "      <td>1.012713</td>\n",
       "      <td>0.602800</td>\n",
       "      <td>5.240998</td>\n",
       "      <td>6.252990</td>\n",
       "      <td>0.01</td>\n",
       "      <td>1000</td>\n",
       "      <td>True</td>\n",
       "      <td>1</td>\n",
       "      <td>cuda</td>\n",
       "    </tr>\n",
       "    <tr>\n",
       "      <th>8</th>\n",
       "      <td>9</td>\n",
       "      <td>1</td>\n",
       "      <td>1.014182</td>\n",
       "      <td>0.604750</td>\n",
       "      <td>12.267548</td>\n",
       "      <td>12.361547</td>\n",
       "      <td>0.01</td>\n",
       "      <td>1000</td>\n",
       "      <td>False</td>\n",
       "      <td>0</td>\n",
       "      <td>cpu</td>\n",
       "    </tr>\n",
       "    <tr>\n",
       "      <th>11</th>\n",
       "      <td>12</td>\n",
       "      <td>1</td>\n",
       "      <td>1.028368</td>\n",
       "      <td>0.606533</td>\n",
       "      <td>5.326755</td>\n",
       "      <td>6.341788</td>\n",
       "      <td>0.01</td>\n",
       "      <td>1000</td>\n",
       "      <td>False</td>\n",
       "      <td>1</td>\n",
       "      <td>cuda</td>\n",
       "    </tr>\n",
       "    <tr>\n",
       "      <th>0</th>\n",
       "      <td>1</td>\n",
       "      <td>1</td>\n",
       "      <td>1.002382</td>\n",
       "      <td>0.616900</td>\n",
       "      <td>10.750423</td>\n",
       "      <td>10.852416</td>\n",
       "      <td>0.01</td>\n",
       "      <td>1000</td>\n",
       "      <td>True</td>\n",
       "      <td>0</td>\n",
       "      <td>cpu</td>\n",
       "    </tr>\n",
       "    <tr>\n",
       "      <th>13</th>\n",
       "      <td>14</td>\n",
       "      <td>1</td>\n",
       "      <td>1.009813</td>\n",
       "      <td>0.619400</td>\n",
       "      <td>3.883980</td>\n",
       "      <td>5.047061</td>\n",
       "      <td>0.01</td>\n",
       "      <td>1000</td>\n",
       "      <td>False</td>\n",
       "      <td>2</td>\n",
       "      <td>cuda</td>\n",
       "    </tr>\n",
       "    <tr>\n",
       "      <th>9</th>\n",
       "      <td>10</td>\n",
       "      <td>1</td>\n",
       "      <td>0.995647</td>\n",
       "      <td>0.621317</td>\n",
       "      <td>6.313048</td>\n",
       "      <td>6.437048</td>\n",
       "      <td>0.01</td>\n",
       "      <td>1000</td>\n",
       "      <td>False</td>\n",
       "      <td>0</td>\n",
       "      <td>cuda</td>\n",
       "    </tr>\n",
       "    <tr>\n",
       "      <th>12</th>\n",
       "      <td>13</td>\n",
       "      <td>1</td>\n",
       "      <td>0.998483</td>\n",
       "      <td>0.622283</td>\n",
       "      <td>8.798585</td>\n",
       "      <td>9.901122</td>\n",
       "      <td>0.01</td>\n",
       "      <td>1000</td>\n",
       "      <td>False</td>\n",
       "      <td>2</td>\n",
       "      <td>cpu</td>\n",
       "    </tr>\n",
       "    <tr>\n",
       "      <th>6</th>\n",
       "      <td>7</td>\n",
       "      <td>1</td>\n",
       "      <td>0.966517</td>\n",
       "      <td>0.623800</td>\n",
       "      <td>8.927147</td>\n",
       "      <td>10.425147</td>\n",
       "      <td>0.01</td>\n",
       "      <td>1000</td>\n",
       "      <td>True</td>\n",
       "      <td>4</td>\n",
       "      <td>cpu</td>\n",
       "    </tr>\n",
       "    <tr>\n",
       "      <th>10</th>\n",
       "      <td>11</td>\n",
       "      <td>1</td>\n",
       "      <td>0.991838</td>\n",
       "      <td>0.627283</td>\n",
       "      <td>8.858442</td>\n",
       "      <td>9.774304</td>\n",
       "      <td>0.01</td>\n",
       "      <td>1000</td>\n",
       "      <td>False</td>\n",
       "      <td>1</td>\n",
       "      <td>cpu</td>\n",
       "    </tr>\n",
       "    <tr>\n",
       "      <th>2</th>\n",
       "      <td>3</td>\n",
       "      <td>1</td>\n",
       "      <td>0.975558</td>\n",
       "      <td>0.628850</td>\n",
       "      <td>7.234999</td>\n",
       "      <td>8.147615</td>\n",
       "      <td>0.01</td>\n",
       "      <td>1000</td>\n",
       "      <td>True</td>\n",
       "      <td>1</td>\n",
       "      <td>cpu</td>\n",
       "    </tr>\n",
       "    <tr>\n",
       "      <th>1</th>\n",
       "      <td>2</td>\n",
       "      <td>1</td>\n",
       "      <td>0.944975</td>\n",
       "      <td>0.634767</td>\n",
       "      <td>5.578809</td>\n",
       "      <td>5.665811</td>\n",
       "      <td>0.01</td>\n",
       "      <td>1000</td>\n",
       "      <td>True</td>\n",
       "      <td>0</td>\n",
       "      <td>cuda</td>\n",
       "    </tr>\n",
       "    <tr>\n",
       "      <th>4</th>\n",
       "      <td>5</td>\n",
       "      <td>1</td>\n",
       "      <td>0.946269</td>\n",
       "      <td>0.636517</td>\n",
       "      <td>8.346081</td>\n",
       "      <td>9.524083</td>\n",
       "      <td>0.01</td>\n",
       "      <td>1000</td>\n",
       "      <td>True</td>\n",
       "      <td>2</td>\n",
       "      <td>cpu</td>\n",
       "    </tr>\n",
       "    <tr>\n",
       "      <th>7</th>\n",
       "      <td>8</td>\n",
       "      <td>1</td>\n",
       "      <td>0.947105</td>\n",
       "      <td>0.636533</td>\n",
       "      <td>3.633596</td>\n",
       "      <td>5.369637</td>\n",
       "      <td>0.01</td>\n",
       "      <td>1000</td>\n",
       "      <td>True</td>\n",
       "      <td>4</td>\n",
       "      <td>cuda</td>\n",
       "    </tr>\n",
       "    <tr>\n",
       "      <th>14</th>\n",
       "      <td>15</td>\n",
       "      <td>1</td>\n",
       "      <td>0.918188</td>\n",
       "      <td>0.652367</td>\n",
       "      <td>9.783637</td>\n",
       "      <td>11.419155</td>\n",
       "      <td>0.01</td>\n",
       "      <td>1000</td>\n",
       "      <td>False</td>\n",
       "      <td>4</td>\n",
       "      <td>cpu</td>\n",
       "    </tr>\n",
       "    <tr>\n",
       "      <th>5</th>\n",
       "      <td>6</td>\n",
       "      <td>1</td>\n",
       "      <td>0.891226</td>\n",
       "      <td>0.671550</td>\n",
       "      <td>3.737000</td>\n",
       "      <td>4.928998</td>\n",
       "      <td>0.01</td>\n",
       "      <td>1000</td>\n",
       "      <td>True</td>\n",
       "      <td>2</td>\n",
       "      <td>cuda</td>\n",
       "    </tr>\n",
       "  </tbody>\n",
       "</table>\n",
       "</div>"
      ],
      "text/plain": [
       "    run  epoch      loss  accuracy  epoch duration  run duration    lr  \\\n",
       "27   28      1  1.543085  0.406417        7.006601      8.590600  0.01   \n",
       "16   17      1  1.454884  0.446033       12.866938     13.074975  0.01   \n",
       "19   20      1  1.402347  0.467333        5.823616      7.084589  0.01   \n",
       "20   21      1  1.393764  0.479317        9.462038     10.849666  0.01   \n",
       "31   32      1  1.382579  0.481133        4.362524      6.663525  0.01   \n",
       "21   22      1  1.361885  0.483833        4.325604      6.119606  0.01   \n",
       "25   26      1  1.380919  0.486783        6.481085      6.709098  0.01   \n",
       "28   29      1  1.338648  0.497550       10.903389     12.554370  0.01   \n",
       "22   23      1  1.393889  0.500467       10.576031     12.739916  0.01   \n",
       "17   18      1  1.322968  0.507667        5.953417      6.165416  0.01   \n",
       "26   27      1  1.271377  0.518367       10.256521     11.608040  0.01   \n",
       "24   25      1  1.264380  0.518550       13.701995     13.900994  0.01   \n",
       "30   31      1  1.266655  0.520983       10.991905     13.167907  0.01   \n",
       "23   24      1  1.260539  0.528650        4.197913      6.468914  0.01   \n",
       "18   19      1  1.237006  0.541383        9.363252     10.658288  0.01   \n",
       "29   30      1  1.180219  0.556317        5.027003      6.982525  0.01   \n",
       "15   16      1  1.052663  0.588533        3.746357      5.441325  0.01   \n",
       "3     4      1  1.012713  0.602800        5.240998      6.252990  0.01   \n",
       "8     9      1  1.014182  0.604750       12.267548     12.361547  0.01   \n",
       "11   12      1  1.028368  0.606533        5.326755      6.341788  0.01   \n",
       "0     1      1  1.002382  0.616900       10.750423     10.852416  0.01   \n",
       "13   14      1  1.009813  0.619400        3.883980      5.047061  0.01   \n",
       "9    10      1  0.995647  0.621317        6.313048      6.437048  0.01   \n",
       "12   13      1  0.998483  0.622283        8.798585      9.901122  0.01   \n",
       "6     7      1  0.966517  0.623800        8.927147     10.425147  0.01   \n",
       "10   11      1  0.991838  0.627283        8.858442      9.774304  0.01   \n",
       "2     3      1  0.975558  0.628850        7.234999      8.147615  0.01   \n",
       "1     2      1  0.944975  0.634767        5.578809      5.665811  0.01   \n",
       "4     5      1  0.946269  0.636517        8.346081      9.524083  0.01   \n",
       "7     8      1  0.947105  0.636533        3.633596      5.369637  0.01   \n",
       "14   15      1  0.918188  0.652367        9.783637     11.419155  0.01   \n",
       "5     6      1  0.891226  0.671550        3.737000      4.928998  0.01   \n",
       "\n",
       "    batch_size  shuffle  num_workers device  \n",
       "27        2000    False            1   cuda  \n",
       "16        2000     True            0    cpu  \n",
       "19        2000     True            1   cuda  \n",
       "20        2000     True            2    cpu  \n",
       "31        2000    False            4   cuda  \n",
       "21        2000     True            2   cuda  \n",
       "25        2000    False            0   cuda  \n",
       "28        2000    False            2    cpu  \n",
       "22        2000     True            4    cpu  \n",
       "17        2000     True            0   cuda  \n",
       "26        2000    False            1    cpu  \n",
       "24        2000    False            0    cpu  \n",
       "30        2000    False            4    cpu  \n",
       "23        2000     True            4   cuda  \n",
       "18        2000     True            1    cpu  \n",
       "29        2000    False            2   cuda  \n",
       "15        1000    False            4   cuda  \n",
       "3         1000     True            1   cuda  \n",
       "8         1000    False            0    cpu  \n",
       "11        1000    False            1   cuda  \n",
       "0         1000     True            0    cpu  \n",
       "13        1000    False            2   cuda  \n",
       "9         1000    False            0   cuda  \n",
       "12        1000    False            2    cpu  \n",
       "6         1000     True            4    cpu  \n",
       "10        1000    False            1    cpu  \n",
       "2         1000     True            1    cpu  \n",
       "1         1000     True            0   cuda  \n",
       "4         1000     True            2    cpu  \n",
       "7         1000     True            4   cuda  \n",
       "14        1000    False            4    cpu  \n",
       "5         1000     True            2   cuda  "
      ]
     },
     "execution_count": 623,
     "metadata": {},
     "output_type": "execute_result"
    }
   ],
   "source": [
    "pd.DataFrame.from_dict(m.run_data, orient = 'columns').sort_values('epoch duration')"
   ]
  },
  {
   "cell_type": "code",
   "execution_count": null,
   "metadata": {},
   "outputs": [],
   "source": []
  }
 ],
 "metadata": {
  "colab": {
   "collapsed_sections": [
    "BXrhgTjFG0uz",
    "pIRtFQXsk4kE",
    "w6tvopWYR4VU"
   ],
   "name": "Fashion -MNIST",
   "provenance": []
  },
  "kernelspec": {
   "display_name": "Python 3",
   "language": "python",
   "name": "python3"
  },
  "language_info": {
   "codemirror_mode": {
    "name": "ipython",
    "version": 3
   },
   "file_extension": ".py",
   "mimetype": "text/x-python",
   "name": "python",
   "nbconvert_exporter": "python",
   "pygments_lexer": "ipython3",
   "version": "3.8.8"
  },
  "widgets": {
   "application/vnd.jupyter.widget-state+json": {
    "0ac14e06fc2f4793ad44354e6c709499": {
     "model_module": "@jupyter-widgets/base",
     "model_name": "LayoutModel",
     "state": {
      "_model_module": "@jupyter-widgets/base",
      "_model_module_version": "1.2.0",
      "_model_name": "LayoutModel",
      "_view_count": null,
      "_view_module": "@jupyter-widgets/base",
      "_view_module_version": "1.2.0",
      "_view_name": "LayoutView",
      "align_content": null,
      "align_items": null,
      "align_self": null,
      "border": null,
      "bottom": null,
      "display": null,
      "flex": null,
      "flex_flow": null,
      "grid_area": null,
      "grid_auto_columns": null,
      "grid_auto_flow": null,
      "grid_auto_rows": null,
      "grid_column": null,
      "grid_gap": null,
      "grid_row": null,
      "grid_template_areas": null,
      "grid_template_columns": null,
      "grid_template_rows": null,
      "height": null,
      "justify_content": null,
      "justify_items": null,
      "left": null,
      "margin": null,
      "max_height": null,
      "max_width": null,
      "min_height": null,
      "min_width": null,
      "object_fit": null,
      "object_position": null,
      "order": null,
      "overflow": null,
      "overflow_x": null,
      "overflow_y": null,
      "padding": null,
      "right": null,
      "top": null,
      "visibility": null,
      "width": null
     }
    },
    "0c778670e477433f8b2af7cfde745da8": {
     "model_module": "@jupyter-widgets/base",
     "model_name": "LayoutModel",
     "state": {
      "_model_module": "@jupyter-widgets/base",
      "_model_module_version": "1.2.0",
      "_model_name": "LayoutModel",
      "_view_count": null,
      "_view_module": "@jupyter-widgets/base",
      "_view_module_version": "1.2.0",
      "_view_name": "LayoutView",
      "align_content": null,
      "align_items": null,
      "align_self": null,
      "border": null,
      "bottom": null,
      "display": null,
      "flex": null,
      "flex_flow": null,
      "grid_area": null,
      "grid_auto_columns": null,
      "grid_auto_flow": null,
      "grid_auto_rows": null,
      "grid_column": null,
      "grid_gap": null,
      "grid_row": null,
      "grid_template_areas": null,
      "grid_template_columns": null,
      "grid_template_rows": null,
      "height": null,
      "justify_content": null,
      "justify_items": null,
      "left": null,
      "margin": null,
      "max_height": null,
      "max_width": null,
      "min_height": null,
      "min_width": null,
      "object_fit": null,
      "object_position": null,
      "order": null,
      "overflow": null,
      "overflow_x": null,
      "overflow_y": null,
      "padding": null,
      "right": null,
      "top": null,
      "visibility": null,
      "width": null
     }
    },
    "1e81809797e64e5b811e3961e2846655": {
     "model_module": "@jupyter-widgets/base",
     "model_name": "LayoutModel",
     "state": {
      "_model_module": "@jupyter-widgets/base",
      "_model_module_version": "1.2.0",
      "_model_name": "LayoutModel",
      "_view_count": null,
      "_view_module": "@jupyter-widgets/base",
      "_view_module_version": "1.2.0",
      "_view_name": "LayoutView",
      "align_content": null,
      "align_items": null,
      "align_self": null,
      "border": null,
      "bottom": null,
      "display": null,
      "flex": null,
      "flex_flow": null,
      "grid_area": null,
      "grid_auto_columns": null,
      "grid_auto_flow": null,
      "grid_auto_rows": null,
      "grid_column": null,
      "grid_gap": null,
      "grid_row": null,
      "grid_template_areas": null,
      "grid_template_columns": null,
      "grid_template_rows": null,
      "height": null,
      "justify_content": null,
      "justify_items": null,
      "left": null,
      "margin": null,
      "max_height": null,
      "max_width": null,
      "min_height": null,
      "min_width": null,
      "object_fit": null,
      "object_position": null,
      "order": null,
      "overflow": null,
      "overflow_x": null,
      "overflow_y": null,
      "padding": null,
      "right": null,
      "top": null,
      "visibility": null,
      "width": null
     }
    },
    "1f42157c5fb44849a78d12bff18b9f7a": {
     "model_module": "@jupyter-widgets/controls",
     "model_name": "FloatProgressModel",
     "state": {
      "_dom_classes": [],
      "_model_module": "@jupyter-widgets/controls",
      "_model_module_version": "1.5.0",
      "_model_name": "FloatProgressModel",
      "_view_count": null,
      "_view_module": "@jupyter-widgets/controls",
      "_view_module_version": "1.5.0",
      "_view_name": "ProgressView",
      "bar_style": "success",
      "description": "",
      "description_tooltip": null,
      "layout": "IPY_MODEL_1e81809797e64e5b811e3961e2846655",
      "max": 5148,
      "min": 0,
      "orientation": "horizontal",
      "style": "IPY_MODEL_f51cee8f47c144d68f4b35240a3339d9",
      "value": 5148
     }
    },
    "21bb443e7ff6459bad933287f03e98d2": {
     "model_module": "@jupyter-widgets/controls",
     "model_name": "HBoxModel",
     "state": {
      "_dom_classes": [],
      "_model_module": "@jupyter-widgets/controls",
      "_model_module_version": "1.5.0",
      "_model_name": "HBoxModel",
      "_view_count": null,
      "_view_module": "@jupyter-widgets/controls",
      "_view_module_version": "1.5.0",
      "_view_name": "HBoxView",
      "box_style": "",
      "children": [
       "IPY_MODEL_1f42157c5fb44849a78d12bff18b9f7a",
       "IPY_MODEL_6b76d137b75e4344b0b4d49f27fca9b9"
      ],
      "layout": "IPY_MODEL_3d148d4d57ff4298920daf031b3fa78d"
     }
    },
    "2416d93c5f0c4437b1218c27aaf8cf17": {
     "model_module": "@jupyter-widgets/base",
     "model_name": "LayoutModel",
     "state": {
      "_model_module": "@jupyter-widgets/base",
      "_model_module_version": "1.2.0",
      "_model_name": "LayoutModel",
      "_view_count": null,
      "_view_module": "@jupyter-widgets/base",
      "_view_module_version": "1.2.0",
      "_view_name": "LayoutView",
      "align_content": null,
      "align_items": null,
      "align_self": null,
      "border": null,
      "bottom": null,
      "display": null,
      "flex": null,
      "flex_flow": null,
      "grid_area": null,
      "grid_auto_columns": null,
      "grid_auto_flow": null,
      "grid_auto_rows": null,
      "grid_column": null,
      "grid_gap": null,
      "grid_row": null,
      "grid_template_areas": null,
      "grid_template_columns": null,
      "grid_template_rows": null,
      "height": null,
      "justify_content": null,
      "justify_items": null,
      "left": null,
      "margin": null,
      "max_height": null,
      "max_width": null,
      "min_height": null,
      "min_width": null,
      "object_fit": null,
      "object_position": null,
      "order": null,
      "overflow": null,
      "overflow_x": null,
      "overflow_y": null,
      "padding": null,
      "right": null,
      "top": null,
      "visibility": null,
      "width": null
     }
    },
    "3d148d4d57ff4298920daf031b3fa78d": {
     "model_module": "@jupyter-widgets/base",
     "model_name": "LayoutModel",
     "state": {
      "_model_module": "@jupyter-widgets/base",
      "_model_module_version": "1.2.0",
      "_model_name": "LayoutModel",
      "_view_count": null,
      "_view_module": "@jupyter-widgets/base",
      "_view_module_version": "1.2.0",
      "_view_name": "LayoutView",
      "align_content": null,
      "align_items": null,
      "align_self": null,
      "border": null,
      "bottom": null,
      "display": null,
      "flex": null,
      "flex_flow": null,
      "grid_area": null,
      "grid_auto_columns": null,
      "grid_auto_flow": null,
      "grid_auto_rows": null,
      "grid_column": null,
      "grid_gap": null,
      "grid_row": null,
      "grid_template_areas": null,
      "grid_template_columns": null,
      "grid_template_rows": null,
      "height": null,
      "justify_content": null,
      "justify_items": null,
      "left": null,
      "margin": null,
      "max_height": null,
      "max_width": null,
      "min_height": null,
      "min_width": null,
      "object_fit": null,
      "object_position": null,
      "order": null,
      "overflow": null,
      "overflow_x": null,
      "overflow_y": null,
      "padding": null,
      "right": null,
      "top": null,
      "visibility": null,
      "width": null
     }
    },
    "3f01e2e92edf4ed2a427e6a985e3e921": {
     "model_module": "@jupyter-widgets/controls",
     "model_name": "DescriptionStyleModel",
     "state": {
      "_model_module": "@jupyter-widgets/controls",
      "_model_module_version": "1.5.0",
      "_model_name": "DescriptionStyleModel",
      "_view_count": null,
      "_view_module": "@jupyter-widgets/base",
      "_view_module_version": "1.2.0",
      "_view_name": "StyleView",
      "description_width": ""
     }
    },
    "4bd0e72cf03d4ef99ff83fc3840c6d80": {
     "model_module": "@jupyter-widgets/controls",
     "model_name": "DescriptionStyleModel",
     "state": {
      "_model_module": "@jupyter-widgets/controls",
      "_model_module_version": "1.5.0",
      "_model_name": "DescriptionStyleModel",
      "_view_count": null,
      "_view_module": "@jupyter-widgets/base",
      "_view_module_version": "1.2.0",
      "_view_name": "StyleView",
      "description_width": ""
     }
    },
    "583b6c6f7340488e8c85c0eb1fd89d23": {
     "model_module": "@jupyter-widgets/controls",
     "model_name": "DescriptionStyleModel",
     "state": {
      "_model_module": "@jupyter-widgets/controls",
      "_model_module_version": "1.5.0",
      "_model_name": "DescriptionStyleModel",
      "_view_count": null,
      "_view_module": "@jupyter-widgets/base",
      "_view_module_version": "1.2.0",
      "_view_name": "StyleView",
      "description_width": ""
     }
    },
    "58eeb471f15445c8b3a274b9c3aaaf2f": {
     "model_module": "@jupyter-widgets/controls",
     "model_name": "ProgressStyleModel",
     "state": {
      "_model_module": "@jupyter-widgets/controls",
      "_model_module_version": "1.5.0",
      "_model_name": "ProgressStyleModel",
      "_view_count": null,
      "_view_module": "@jupyter-widgets/base",
      "_view_module_version": "1.2.0",
      "_view_name": "StyleView",
      "bar_color": null,
      "description_width": "initial"
     }
    },
    "68c6acfdc844472c9823350064eee16d": {
     "model_module": "@jupyter-widgets/base",
     "model_name": "LayoutModel",
     "state": {
      "_model_module": "@jupyter-widgets/base",
      "_model_module_version": "1.2.0",
      "_model_name": "LayoutModel",
      "_view_count": null,
      "_view_module": "@jupyter-widgets/base",
      "_view_module_version": "1.2.0",
      "_view_name": "LayoutView",
      "align_content": null,
      "align_items": null,
      "align_self": null,
      "border": null,
      "bottom": null,
      "display": null,
      "flex": null,
      "flex_flow": null,
      "grid_area": null,
      "grid_auto_columns": null,
      "grid_auto_flow": null,
      "grid_auto_rows": null,
      "grid_column": null,
      "grid_gap": null,
      "grid_row": null,
      "grid_template_areas": null,
      "grid_template_columns": null,
      "grid_template_rows": null,
      "height": null,
      "justify_content": null,
      "justify_items": null,
      "left": null,
      "margin": null,
      "max_height": null,
      "max_width": null,
      "min_height": null,
      "min_width": null,
      "object_fit": null,
      "object_position": null,
      "order": null,
      "overflow": null,
      "overflow_x": null,
      "overflow_y": null,
      "padding": null,
      "right": null,
      "top": null,
      "visibility": null,
      "width": null
     }
    },
    "6b76d137b75e4344b0b4d49f27fca9b9": {
     "model_module": "@jupyter-widgets/controls",
     "model_name": "HTMLModel",
     "state": {
      "_dom_classes": [],
      "_model_module": "@jupyter-widgets/controls",
      "_model_module_version": "1.5.0",
      "_model_name": "HTMLModel",
      "_view_count": null,
      "_view_module": "@jupyter-widgets/controls",
      "_view_module_version": "1.5.0",
      "_view_name": "HTMLView",
      "description": "",
      "description_tooltip": null,
      "layout": "IPY_MODEL_97302b7800c44da5a26eb685666f4b1c",
      "placeholder": "​",
      "style": "IPY_MODEL_3f01e2e92edf4ed2a427e6a985e3e921",
      "value": " 6144/? [00:00&lt;00:00, 25490.28it/s]"
     }
    },
    "70fda96397bf403197f1d14851f5d956": {
     "model_module": "@jupyter-widgets/controls",
     "model_name": "HTMLModel",
     "state": {
      "_dom_classes": [],
      "_model_module": "@jupyter-widgets/controls",
      "_model_module_version": "1.5.0",
      "_model_name": "HTMLModel",
      "_view_count": null,
      "_view_module": "@jupyter-widgets/controls",
      "_view_module_version": "1.5.0",
      "_view_name": "HTMLView",
      "description": "",
      "description_tooltip": null,
      "layout": "IPY_MODEL_0ac14e06fc2f4793ad44354e6c709499",
      "placeholder": "​",
      "style": "IPY_MODEL_d3c18772dc724e8ebf714ff686af3155",
      "value": " 4422656/? [00:01&lt;00:00, 2429536.91it/s]"
     }
    },
    "744cd03be9d7438cbc173479aaa6f08f": {
     "model_module": "@jupyter-widgets/controls",
     "model_name": "HBoxModel",
     "state": {
      "_dom_classes": [],
      "_model_module": "@jupyter-widgets/controls",
      "_model_module_version": "1.5.0",
      "_model_name": "HBoxModel",
      "_view_count": null,
      "_view_module": "@jupyter-widgets/controls",
      "_view_module_version": "1.5.0",
      "_view_name": "HBoxView",
      "box_style": "",
      "children": [
       "IPY_MODEL_74be6a0d694541e983973f44e486610b",
       "IPY_MODEL_88832844280c4fd2a1953651b33069f2"
      ],
      "layout": "IPY_MODEL_d687d8fac8ca4d82922f14a81cefad27"
     }
    },
    "74be6a0d694541e983973f44e486610b": {
     "model_module": "@jupyter-widgets/controls",
     "model_name": "FloatProgressModel",
     "state": {
      "_dom_classes": [],
      "_model_module": "@jupyter-widgets/controls",
      "_model_module_version": "1.5.0",
      "_model_name": "FloatProgressModel",
      "_view_count": null,
      "_view_module": "@jupyter-widgets/controls",
      "_view_module_version": "1.5.0",
      "_view_name": "ProgressView",
      "bar_style": "success",
      "description": "",
      "description_tooltip": null,
      "layout": "IPY_MODEL_0c778670e477433f8b2af7cfde745da8",
      "max": 29515,
      "min": 0,
      "orientation": "horizontal",
      "style": "IPY_MODEL_c636de35adb74d0f9325db09301551df",
      "value": 29515
     }
    },
    "7ae21dccb1b74efaa75fc0c7f4139972": {
     "model_module": "@jupyter-widgets/controls",
     "model_name": "HBoxModel",
     "state": {
      "_dom_classes": [],
      "_model_module": "@jupyter-widgets/controls",
      "_model_module_version": "1.5.0",
      "_model_name": "HBoxModel",
      "_view_count": null,
      "_view_module": "@jupyter-widgets/controls",
      "_view_module_version": "1.5.0",
      "_view_name": "HBoxView",
      "box_style": "",
      "children": [
       "IPY_MODEL_c1a39a61d3a94bfc9aacba6e54ae41c2",
       "IPY_MODEL_70fda96397bf403197f1d14851f5d956"
      ],
      "layout": "IPY_MODEL_a42b4a914da742109430f68d14983df5"
     }
    },
    "8565bdaceafe4951ab39751e7d0a2793": {
     "model_module": "@jupyter-widgets/controls",
     "model_name": "HTMLModel",
     "state": {
      "_dom_classes": [],
      "_model_module": "@jupyter-widgets/controls",
      "_model_module_version": "1.5.0",
      "_model_name": "HTMLModel",
      "_view_count": null,
      "_view_module": "@jupyter-widgets/controls",
      "_view_module_version": "1.5.0",
      "_view_name": "HTMLView",
      "description": "",
      "description_tooltip": null,
      "layout": "IPY_MODEL_ddfdedafa206448a9f4023ee8715fdec",
      "placeholder": "​",
      "style": "IPY_MODEL_583b6c6f7340488e8c85c0eb1fd89d23",
      "value": " 26422272/? [00:04&lt;00:00, 5520634.07it/s]"
     }
    },
    "88832844280c4fd2a1953651b33069f2": {
     "model_module": "@jupyter-widgets/controls",
     "model_name": "HTMLModel",
     "state": {
      "_dom_classes": [],
      "_model_module": "@jupyter-widgets/controls",
      "_model_module_version": "1.5.0",
      "_model_name": "HTMLModel",
      "_view_count": null,
      "_view_module": "@jupyter-widgets/controls",
      "_view_module_version": "1.5.0",
      "_view_name": "HTMLView",
      "description": "",
      "description_tooltip": null,
      "layout": "IPY_MODEL_2416d93c5f0c4437b1218c27aaf8cf17",
      "placeholder": "​",
      "style": "IPY_MODEL_4bd0e72cf03d4ef99ff83fc3840c6d80",
      "value": " 29696/? [00:00&lt;00:00, 56346.27it/s]"
     }
    },
    "97302b7800c44da5a26eb685666f4b1c": {
     "model_module": "@jupyter-widgets/base",
     "model_name": "LayoutModel",
     "state": {
      "_model_module": "@jupyter-widgets/base",
      "_model_module_version": "1.2.0",
      "_model_name": "LayoutModel",
      "_view_count": null,
      "_view_module": "@jupyter-widgets/base",
      "_view_module_version": "1.2.0",
      "_view_name": "LayoutView",
      "align_content": null,
      "align_items": null,
      "align_self": null,
      "border": null,
      "bottom": null,
      "display": null,
      "flex": null,
      "flex_flow": null,
      "grid_area": null,
      "grid_auto_columns": null,
      "grid_auto_flow": null,
      "grid_auto_rows": null,
      "grid_column": null,
      "grid_gap": null,
      "grid_row": null,
      "grid_template_areas": null,
      "grid_template_columns": null,
      "grid_template_rows": null,
      "height": null,
      "justify_content": null,
      "justify_items": null,
      "left": null,
      "margin": null,
      "max_height": null,
      "max_width": null,
      "min_height": null,
      "min_width": null,
      "object_fit": null,
      "object_position": null,
      "order": null,
      "overflow": null,
      "overflow_x": null,
      "overflow_y": null,
      "padding": null,
      "right": null,
      "top": null,
      "visibility": null,
      "width": null
     }
    },
    "988c2ca3586c4f149cf8387c71d8aa2b": {
     "model_module": "@jupyter-widgets/controls",
     "model_name": "FloatProgressModel",
     "state": {
      "_dom_classes": [],
      "_model_module": "@jupyter-widgets/controls",
      "_model_module_version": "1.5.0",
      "_model_name": "FloatProgressModel",
      "_view_count": null,
      "_view_module": "@jupyter-widgets/controls",
      "_view_module_version": "1.5.0",
      "_view_name": "ProgressView",
      "bar_style": "success",
      "description": "",
      "description_tooltip": null,
      "layout": "IPY_MODEL_68c6acfdc844472c9823350064eee16d",
      "max": 26421880,
      "min": 0,
      "orientation": "horizontal",
      "style": "IPY_MODEL_58eeb471f15445c8b3a274b9c3aaaf2f",
      "value": 26421880
     }
    },
    "a42b4a914da742109430f68d14983df5": {
     "model_module": "@jupyter-widgets/base",
     "model_name": "LayoutModel",
     "state": {
      "_model_module": "@jupyter-widgets/base",
      "_model_module_version": "1.2.0",
      "_model_name": "LayoutModel",
      "_view_count": null,
      "_view_module": "@jupyter-widgets/base",
      "_view_module_version": "1.2.0",
      "_view_name": "LayoutView",
      "align_content": null,
      "align_items": null,
      "align_self": null,
      "border": null,
      "bottom": null,
      "display": null,
      "flex": null,
      "flex_flow": null,
      "grid_area": null,
      "grid_auto_columns": null,
      "grid_auto_flow": null,
      "grid_auto_rows": null,
      "grid_column": null,
      "grid_gap": null,
      "grid_row": null,
      "grid_template_areas": null,
      "grid_template_columns": null,
      "grid_template_rows": null,
      "height": null,
      "justify_content": null,
      "justify_items": null,
      "left": null,
      "margin": null,
      "max_height": null,
      "max_width": null,
      "min_height": null,
      "min_width": null,
      "object_fit": null,
      "object_position": null,
      "order": null,
      "overflow": null,
      "overflow_x": null,
      "overflow_y": null,
      "padding": null,
      "right": null,
      "top": null,
      "visibility": null,
      "width": null
     }
    },
    "b48293faed504d58a1c9a38d6fd8bfef": {
     "model_module": "@jupyter-widgets/base",
     "model_name": "LayoutModel",
     "state": {
      "_model_module": "@jupyter-widgets/base",
      "_model_module_version": "1.2.0",
      "_model_name": "LayoutModel",
      "_view_count": null,
      "_view_module": "@jupyter-widgets/base",
      "_view_module_version": "1.2.0",
      "_view_name": "LayoutView",
      "align_content": null,
      "align_items": null,
      "align_self": null,
      "border": null,
      "bottom": null,
      "display": null,
      "flex": null,
      "flex_flow": null,
      "grid_area": null,
      "grid_auto_columns": null,
      "grid_auto_flow": null,
      "grid_auto_rows": null,
      "grid_column": null,
      "grid_gap": null,
      "grid_row": null,
      "grid_template_areas": null,
      "grid_template_columns": null,
      "grid_template_rows": null,
      "height": null,
      "justify_content": null,
      "justify_items": null,
      "left": null,
      "margin": null,
      "max_height": null,
      "max_width": null,
      "min_height": null,
      "min_width": null,
      "object_fit": null,
      "object_position": null,
      "order": null,
      "overflow": null,
      "overflow_x": null,
      "overflow_y": null,
      "padding": null,
      "right": null,
      "top": null,
      "visibility": null,
      "width": null
     }
    },
    "b665362b662c48bf8167a02a888f5927": {
     "model_module": "@jupyter-widgets/base",
     "model_name": "LayoutModel",
     "state": {
      "_model_module": "@jupyter-widgets/base",
      "_model_module_version": "1.2.0",
      "_model_name": "LayoutModel",
      "_view_count": null,
      "_view_module": "@jupyter-widgets/base",
      "_view_module_version": "1.2.0",
      "_view_name": "LayoutView",
      "align_content": null,
      "align_items": null,
      "align_self": null,
      "border": null,
      "bottom": null,
      "display": null,
      "flex": null,
      "flex_flow": null,
      "grid_area": null,
      "grid_auto_columns": null,
      "grid_auto_flow": null,
      "grid_auto_rows": null,
      "grid_column": null,
      "grid_gap": null,
      "grid_row": null,
      "grid_template_areas": null,
      "grid_template_columns": null,
      "grid_template_rows": null,
      "height": null,
      "justify_content": null,
      "justify_items": null,
      "left": null,
      "margin": null,
      "max_height": null,
      "max_width": null,
      "min_height": null,
      "min_width": null,
      "object_fit": null,
      "object_position": null,
      "order": null,
      "overflow": null,
      "overflow_x": null,
      "overflow_y": null,
      "padding": null,
      "right": null,
      "top": null,
      "visibility": null,
      "width": null
     }
    },
    "bbe76057e82641c5a1ed6f7d904d4751": {
     "model_module": "@jupyter-widgets/controls",
     "model_name": "HBoxModel",
     "state": {
      "_dom_classes": [],
      "_model_module": "@jupyter-widgets/controls",
      "_model_module_version": "1.5.0",
      "_model_name": "HBoxModel",
      "_view_count": null,
      "_view_module": "@jupyter-widgets/controls",
      "_view_module_version": "1.5.0",
      "_view_name": "HBoxView",
      "box_style": "",
      "children": [
       "IPY_MODEL_988c2ca3586c4f149cf8387c71d8aa2b",
       "IPY_MODEL_8565bdaceafe4951ab39751e7d0a2793"
      ],
      "layout": "IPY_MODEL_b665362b662c48bf8167a02a888f5927"
     }
    },
    "c1a39a61d3a94bfc9aacba6e54ae41c2": {
     "model_module": "@jupyter-widgets/controls",
     "model_name": "FloatProgressModel",
     "state": {
      "_dom_classes": [],
      "_model_module": "@jupyter-widgets/controls",
      "_model_module_version": "1.5.0",
      "_model_name": "FloatProgressModel",
      "_view_count": null,
      "_view_module": "@jupyter-widgets/controls",
      "_view_module_version": "1.5.0",
      "_view_name": "ProgressView",
      "bar_style": "success",
      "description": "",
      "description_tooltip": null,
      "layout": "IPY_MODEL_b48293faed504d58a1c9a38d6fd8bfef",
      "max": 4422102,
      "min": 0,
      "orientation": "horizontal",
      "style": "IPY_MODEL_de47dcbe7cd14f53beb10c068683ee19",
      "value": 4422102
     }
    },
    "c636de35adb74d0f9325db09301551df": {
     "model_module": "@jupyter-widgets/controls",
     "model_name": "ProgressStyleModel",
     "state": {
      "_model_module": "@jupyter-widgets/controls",
      "_model_module_version": "1.5.0",
      "_model_name": "ProgressStyleModel",
      "_view_count": null,
      "_view_module": "@jupyter-widgets/base",
      "_view_module_version": "1.2.0",
      "_view_name": "StyleView",
      "bar_color": null,
      "description_width": "initial"
     }
    },
    "d3c18772dc724e8ebf714ff686af3155": {
     "model_module": "@jupyter-widgets/controls",
     "model_name": "DescriptionStyleModel",
     "state": {
      "_model_module": "@jupyter-widgets/controls",
      "_model_module_version": "1.5.0",
      "_model_name": "DescriptionStyleModel",
      "_view_count": null,
      "_view_module": "@jupyter-widgets/base",
      "_view_module_version": "1.2.0",
      "_view_name": "StyleView",
      "description_width": ""
     }
    },
    "d687d8fac8ca4d82922f14a81cefad27": {
     "model_module": "@jupyter-widgets/base",
     "model_name": "LayoutModel",
     "state": {
      "_model_module": "@jupyter-widgets/base",
      "_model_module_version": "1.2.0",
      "_model_name": "LayoutModel",
      "_view_count": null,
      "_view_module": "@jupyter-widgets/base",
      "_view_module_version": "1.2.0",
      "_view_name": "LayoutView",
      "align_content": null,
      "align_items": null,
      "align_self": null,
      "border": null,
      "bottom": null,
      "display": null,
      "flex": null,
      "flex_flow": null,
      "grid_area": null,
      "grid_auto_columns": null,
      "grid_auto_flow": null,
      "grid_auto_rows": null,
      "grid_column": null,
      "grid_gap": null,
      "grid_row": null,
      "grid_template_areas": null,
      "grid_template_columns": null,
      "grid_template_rows": null,
      "height": null,
      "justify_content": null,
      "justify_items": null,
      "left": null,
      "margin": null,
      "max_height": null,
      "max_width": null,
      "min_height": null,
      "min_width": null,
      "object_fit": null,
      "object_position": null,
      "order": null,
      "overflow": null,
      "overflow_x": null,
      "overflow_y": null,
      "padding": null,
      "right": null,
      "top": null,
      "visibility": null,
      "width": null
     }
    },
    "ddfdedafa206448a9f4023ee8715fdec": {
     "model_module": "@jupyter-widgets/base",
     "model_name": "LayoutModel",
     "state": {
      "_model_module": "@jupyter-widgets/base",
      "_model_module_version": "1.2.0",
      "_model_name": "LayoutModel",
      "_view_count": null,
      "_view_module": "@jupyter-widgets/base",
      "_view_module_version": "1.2.0",
      "_view_name": "LayoutView",
      "align_content": null,
      "align_items": null,
      "align_self": null,
      "border": null,
      "bottom": null,
      "display": null,
      "flex": null,
      "flex_flow": null,
      "grid_area": null,
      "grid_auto_columns": null,
      "grid_auto_flow": null,
      "grid_auto_rows": null,
      "grid_column": null,
      "grid_gap": null,
      "grid_row": null,
      "grid_template_areas": null,
      "grid_template_columns": null,
      "grid_template_rows": null,
      "height": null,
      "justify_content": null,
      "justify_items": null,
      "left": null,
      "margin": null,
      "max_height": null,
      "max_width": null,
      "min_height": null,
      "min_width": null,
      "object_fit": null,
      "object_position": null,
      "order": null,
      "overflow": null,
      "overflow_x": null,
      "overflow_y": null,
      "padding": null,
      "right": null,
      "top": null,
      "visibility": null,
      "width": null
     }
    },
    "de47dcbe7cd14f53beb10c068683ee19": {
     "model_module": "@jupyter-widgets/controls",
     "model_name": "ProgressStyleModel",
     "state": {
      "_model_module": "@jupyter-widgets/controls",
      "_model_module_version": "1.5.0",
      "_model_name": "ProgressStyleModel",
      "_view_count": null,
      "_view_module": "@jupyter-widgets/base",
      "_view_module_version": "1.2.0",
      "_view_name": "StyleView",
      "bar_color": null,
      "description_width": "initial"
     }
    },
    "f51cee8f47c144d68f4b35240a3339d9": {
     "model_module": "@jupyter-widgets/controls",
     "model_name": "ProgressStyleModel",
     "state": {
      "_model_module": "@jupyter-widgets/controls",
      "_model_module_version": "1.5.0",
      "_model_name": "ProgressStyleModel",
      "_view_count": null,
      "_view_module": "@jupyter-widgets/base",
      "_view_module_version": "1.2.0",
      "_view_name": "StyleView",
      "bar_color": null,
      "description_width": "initial"
     }
    }
   }
  }
 },
 "nbformat": 4,
 "nbformat_minor": 1
}
