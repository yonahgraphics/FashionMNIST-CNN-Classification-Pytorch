{
 "cells": [
  {
   "cell_type": "code",
   "execution_count": 1,
   "id": "e573e854",
   "metadata": {},
   "outputs": [],
   "source": [
    "import torch\n",
    "import numpy"
   ]
  },
  {
   "cell_type": "code",
   "execution_count": 2,
   "id": "6bc18966",
   "metadata": {},
   "outputs": [
    {
     "name": "stdout",
     "output_type": "stream",
     "text": [
      "Network(\n",
      "  (conv1): Conv2d(1, 6, kernel_size=(5, 5), stride=(1, 1))\n",
      "  (conv2): Conv2d(6, 12, kernel_size=(5, 5), stride=(1, 1))\n",
      "  (fc1): Linear(in_features=192, out_features=120, bias=True)\n",
      "  (fc2): Linear(in_features=120, out_features=60, bias=True)\n",
      "  (out): Linear(in_features=60, out_features=10, bias=True)\n",
      ")\n"
     ]
    }
   ],
   "source": [
    "#Within the nn package, there is a class called Module, and it is \n",
    "#the base class for all of neural network modules which includes layers.\n",
    "#This means that all of the layers in PyTorch extend the nn.Module class \n",
    "#and inherit all of PyTorch's built-in functionality within the nn.Module class.\n",
    "#Even neural networks extend the nn.Module class. This makes sense because neural\n",
    "#networks themselves can be thought of as one big layer (if needed, let that sink in over time).\n",
    "#Neural networks and layers in PyTorch extend the nn.Module class. This means that we must extend\n",
    "#the nn.Module class when building a new layer or neural network in PyTorch.\n",
    "\n",
    "## each layer has a transformation (methods/code) and learnable weights (attributes)\n",
    "## All the layers in pytorch extend the nn.Module class\n",
    "## Neural networks and layers can be viewed as the same thing. They are the same object\n",
    "\n",
    "\n",
    "import torch.nn  as nn  ## This is pytorch's neural network library\n",
    "import torch\n",
    "class Network(nn.Module):\n",
    "  def __init__(self):\n",
    "    super().__init__()\n",
    "    self.conv1   = nn.Conv2d(in_channels=1, out_channels=6, kernel_size=5) \n",
    "    #This means we have in_channel/color_channel = 1,\n",
    "    #out_channel/num_kernels/num_filters = 6, kernel size = (5x5)\n",
    "    self.conv2  = nn.Conv2d(in_channels=6, out_channels=12, kernel_size=5)\n",
    "\n",
    "    self.fc1     = nn.Linear(in_features=12*4*4, out_features=120) #out_features/feature maps\n",
    "    self.fc2     = nn.Linear(in_features=120, out_features=60)\n",
    "    self.out     = nn.Linear(in_features=60, out_features=10)\n",
    "  \n",
    "\n",
    "# PyTorch nn.Modules Have A forward() Method\n",
    "# When we pass a tensor to our network as input, the tensor flows forward though each layer \n",
    "# transformation until the tensor reaches the output layer. This process of a tensor flowing\n",
    "# forward though the network is known as a forward pass.\n",
    "\n",
    "\n",
    "  def forward(self, t):\n",
    " ##Implement the fwd method\n",
    "    return t\n",
    "\n",
    "# Each layer has its own transformation (code) and the tensor passes forward through each layer.\n",
    "# The composition of all the individual layer forward passes defines the overall forward pass transformation for the network.\n",
    "# The goal of the overall transformation is to transform or map the input to the correct prediction \n",
    "# output class, and during the training process, the layer weights (data) are updated in such a way\n",
    "# that cause the mapping to adjust to make the output closer to the correct prediction.\n",
    "\n",
    "\n",
    "my_network = Network()\n",
    "\n",
    "print(my_network)"
   ]
  },
  {
   "cell_type": "code",
   "execution_count": null,
   "id": "3c3cf6b0",
   "metadata": {},
   "outputs": [],
   "source": []
  }
 ],
 "metadata": {
  "kernelspec": {
   "display_name": "Python 3",
   "language": "python",
   "name": "python3"
  },
  "language_info": {
   "codemirror_mode": {
    "name": "ipython",
    "version": 3
   },
   "file_extension": ".py",
   "mimetype": "text/x-python",
   "name": "python",
   "nbconvert_exporter": "python",
   "pygments_lexer": "ipython3",
   "version": "3.8.8"
  }
 },
 "nbformat": 4,
 "nbformat_minor": 5
}
